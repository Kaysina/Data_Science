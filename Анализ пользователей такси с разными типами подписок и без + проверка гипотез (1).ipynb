{
 "cells": [
  {
   "cell_type": "markdown",
   "id": "ffd935bd",
   "metadata": {},
   "source": [
    "# Анализ пользователей такси с разными типами подписок и без + проверка гипотез\n",
    "Нам передали данные о некоторых пользователях из нескольких городов, а также об их поездках. Необходимо проанализировать данные и проверить некоторые гипотезы, которые могут помочь бизнесу вырасти."
   ]
  },
  {
   "cell_type": "markdown",
   "id": "7b71d0c8",
   "metadata": {},
   "source": [
    "\n",
    "**Цель исследования** - Продакт-менеджеры сервиса хотят увеличить количество пользователей с подпиской. Для этого они будут проводить различные акции, но сначала нужно выяснить несколько важных моментов.\n",
    "\n",
    "**Исходные данные** - В основных данных есть информация о пользователях, их поездках и подписках. Чтобы совершать поездки по городу, пользователи сервиса GoFast пользуются мобильным приложением. Сервисом можно пользоваться без подписки и с подпиской Ultra\n",
    "\n",
    "**План:**\n",
    "\n",
    "- Изучить данные\n",
    "- Выполнить предобработку даных (почистить пропуски, дубликаты, поправить тип данных\n",
    "- Добавить новые вычисления в датасет для анализа\n",
    "- Провести исследовательский анализ данных (поработать с выбросами, найти ответы на поставленные вопросы)\n",
    "- Провести статистический анализ данных и проверить гипотезы\n",
    "\n",
    "**Необходимо узнать:**\n",
    "\n",
    "- Важно понять, тратят ли пользователи с подпиской больше времени на поездки? Если да, то пользователи с подпиской могут быть «выгоднее» для компании.\n",
    "- Расстояние одной поездки в 3130. 3130 метров — оптимальное с точки зрения износа самоката. Можно ли сказать, что среднее расстояние, которое проезжают пользователи с подпиской за одну поездку, не превышает 3130 метров?\n",
    "- Проврить гипотезу о том, будет ли помесячная выручка от пользователей с подпиской по месяцам выше, чем выручка от пользователей без подписки. \n",
    "- Проверить гипотезу - представьте такую ситуацию: техническая команда сервиса обновила сервера, с которыми взаимодействует мобильное приложение. Она надеется, что из-за этого количество обращений в техподдержку значимо снизилось. "
   ]
  },
  {
   "cell_type": "markdown",
   "id": "c42cbe00",
   "metadata": {},
   "source": [
    "## Загрузка данных"
   ]
  },
  {
   "cell_type": "code",
   "execution_count": 1,
   "id": "72576667",
   "metadata": {},
   "outputs": [],
   "source": [
    "#загрузим необходимые библиотеки\n",
    "import pandas  as pd\n",
    "import matplotlib.pyplot as plt\n",
    "import numpy as np\n",
    "import seaborn as sns\n",
    "from scipy import stats as st"
   ]
  },
  {
   "cell_type": "code",
   "execution_count": 2,
   "id": "730e9a50",
   "metadata": {},
   "outputs": [
    {
     "name": "stdout",
     "output_type": "stream",
     "text": [
      "-----------------users-------------------\n",
      "      user_id        name  age            city subscription_type\n",
      "0           1        Кира   22          Тюмень             ultra\n",
      "1           2   Станислав   31            Омск             ultra\n",
      "2           3     Алексей   20          Москва             ultra\n",
      "3           4  Константин   26  Ростов-на-Дону             ultra\n",
      "4           5       Адель   28            Омск             ultra\n",
      "...       ...         ...  ...             ...               ...\n",
      "1560      829       Федор   29       Пятигорск              free\n",
      "1561      809        Юрий   26            Сочи              free\n",
      "1562      307      Ясмина   19       Краснодар             ultra\n",
      "1563       47        Юрий   28          Тюмень             ultra\n",
      "1564     1045     Артемий   28  Ростов-на-Дону              free\n",
      "\n",
      "[1565 rows x 5 columns]\n",
      "-----------------riders------------------\n",
      "       user_id     distance   duration        date\n",
      "0            1  4409.919140  25.599769  2021-01-01\n",
      "1            1  2617.592153  15.816871  2021-01-18\n",
      "2            1   754.159807   6.232113  2021-04-20\n",
      "3            1  2694.783254  18.511000  2021-08-11\n",
      "4            1  4028.687306  26.265803  2021-08-28\n",
      "...        ...          ...        ...         ...\n",
      "18063     1534  3781.098080  19.822962  2021-11-04\n",
      "18064     1534  2840.423057  21.409799  2021-11-16\n",
      "18065     1534  3826.185507  18.435051  2021-11-18\n",
      "18066     1534  2902.308661  16.674362  2021-11-27\n",
      "18067     1534  2371.711192  15.893917  2021-12-29\n",
      "\n",
      "[18068 rows x 4 columns]\n",
      "-----------------subscriptions-----------\n",
      "  subscription_type  minute_price  start_ride_price  subscription_fee\n",
      "0              free             8                50                 0\n",
      "1             ultra             6                 0               199\n"
     ]
    }
   ],
   "source": [
    "#загрузим все имеющиеся файлы, сохраним их в переменных и посмотрим их первые и последние строки\n",
    "users = pd.read_csv('/datasets/users_go.csv')\n",
    "riders = pd.read_csv('/datasets/rides_go.csv')\n",
    "subscriptions = pd.read_csv('/datasets/subscriptions_go.csv')\n",
    "print('-----------------users-------------------')\n",
    "print(users)\n",
    "print('-----------------riders------------------')\n",
    "print(riders)\n",
    "print('-----------------subscriptions-----------')\n",
    "print(subscriptions)"
   ]
  },
  {
   "cell_type": "markdown",
   "id": "42f30aa8",
   "metadata": {},
   "source": [
    "**Вывод:** \n",
    "\n",
    "Данные прогрузили, по нескольким строкам видно, что таблица `subscriptions` - это справочник тарифов, состоящий из 2-х строк, в таблице `users` находится вся информация о пользователях, включая их тарифы, а в таблице `riders` хранятся данные о поездках каждого клиента. На первый взгляд все данные выглядят хорошо, но нужно просмотреть детально информацию о каждой таблице и столбце."
   ]
  },
  {
   "cell_type": "markdown",
   "id": "e95ebca7",
   "metadata": {},
   "source": [
    "##  Предобработка данных"
   ]
  },
  {
   "cell_type": "markdown",
   "id": "1f551d5f",
   "metadata": {},
   "source": [
    "### Ознакомление с общей информацией о каждой таблице"
   ]
  },
  {
   "cell_type": "code",
   "execution_count": 3,
   "id": "eff9f206",
   "metadata": {},
   "outputs": [
    {
     "name": "stdout",
     "output_type": "stream",
     "text": [
      "-------------------users--------------------------\n",
      "<class 'pandas.core.frame.DataFrame'>\n",
      "RangeIndex: 1565 entries, 0 to 1564\n",
      "Data columns (total 5 columns):\n",
      " #   Column             Non-Null Count  Dtype \n",
      "---  ------             --------------  ----- \n",
      " 0   user_id            1565 non-null   int64 \n",
      " 1   name               1565 non-null   object\n",
      " 2   age                1565 non-null   int64 \n",
      " 3   city               1565 non-null   object\n",
      " 4   subscription_type  1565 non-null   object\n",
      "dtypes: int64(2), object(3)\n",
      "memory usage: 61.3+ KB\n",
      "None\n",
      "-------------------riders--------------------------\n",
      "<class 'pandas.core.frame.DataFrame'>\n",
      "RangeIndex: 18068 entries, 0 to 18067\n",
      "Data columns (total 4 columns):\n",
      " #   Column    Non-Null Count  Dtype  \n",
      "---  ------    --------------  -----  \n",
      " 0   user_id   18068 non-null  int64  \n",
      " 1   distance  18068 non-null  float64\n",
      " 2   duration  18068 non-null  float64\n",
      " 3   date      18068 non-null  object \n",
      "dtypes: float64(2), int64(1), object(1)\n",
      "memory usage: 564.8+ KB\n",
      "None\n",
      "-------------------subscriptions-------------------\n",
      "<class 'pandas.core.frame.DataFrame'>\n",
      "RangeIndex: 2 entries, 0 to 1\n",
      "Data columns (total 4 columns):\n",
      " #   Column             Non-Null Count  Dtype \n",
      "---  ------             --------------  ----- \n",
      " 0   subscription_type  2 non-null      object\n",
      " 1   minute_price       2 non-null      int64 \n",
      " 2   start_ride_price   2 non-null      int64 \n",
      " 3   subscription_fee   2 non-null      int64 \n",
      "dtypes: int64(3), object(1)\n",
      "memory usage: 192.0+ bytes\n",
      "None\n"
     ]
    }
   ],
   "source": [
    "#посмотрим информацию о каждом столбце в каждой таблице\n",
    "print('-------------------users--------------------------')\n",
    "print(users.info())\n",
    "print('-------------------riders--------------------------')\n",
    "print(riders.info())\n",
    "print('-------------------subscriptions-------------------')\n",
    "print(subscriptions.info())"
   ]
  },
  {
   "cell_type": "markdown",
   "id": "420aa881",
   "metadata": {},
   "source": [
    "**Вывод:** \n",
    "\n",
    "Видим, что пропусков нет. Все типы данных, кроме столбца `date` в таблице `riders` нас устраивают."
   ]
  },
  {
   "cell_type": "markdown",
   "id": "4ae026bc",
   "metadata": {},
   "source": [
    "### Изменение типа данных в таблице `riders` + округление стобеца duration"
   ]
  },
  {
   "cell_type": "code",
   "execution_count": 4,
   "id": "af6d202c",
   "metadata": {},
   "outputs": [
    {
     "name": "stdout",
     "output_type": "stream",
     "text": [
      "<class 'pandas.core.frame.DataFrame'>\n",
      "RangeIndex: 18068 entries, 0 to 18067\n",
      "Data columns (total 4 columns):\n",
      " #   Column    Non-Null Count  Dtype         \n",
      "---  ------    --------------  -----         \n",
      " 0   user_id   18068 non-null  int64         \n",
      " 1   distance  18068 non-null  float64       \n",
      " 2   duration  18068 non-null  float64       \n",
      " 3   date      18068 non-null  datetime64[ns]\n",
      "dtypes: datetime64[ns](1), float64(2), int64(1)\n",
      "memory usage: 564.8 KB\n"
     ]
    }
   ],
   "source": [
    "# поменяем тип данных в столбце date в таблице riders на datetime\n",
    "riders['date'] = pd.to_datetime(riders['date'], format='%Y.%m.%dT%H:%M:%S')\n",
    "riders.info()"
   ]
  },
  {
   "cell_type": "code",
   "execution_count": 5,
   "id": "29e8b1f7",
   "metadata": {},
   "outputs": [
    {
     "data": {
      "text/html": [
       "<div>\n",
       "<style scoped>\n",
       "    .dataframe tbody tr th:only-of-type {\n",
       "        vertical-align: middle;\n",
       "    }\n",
       "\n",
       "    .dataframe tbody tr th {\n",
       "        vertical-align: top;\n",
       "    }\n",
       "\n",
       "    .dataframe thead th {\n",
       "        text-align: right;\n",
       "    }\n",
       "</style>\n",
       "<table border=\"1\" class=\"dataframe\">\n",
       "  <thead>\n",
       "    <tr style=\"text-align: right;\">\n",
       "      <th></th>\n",
       "      <th>user_id</th>\n",
       "      <th>distance</th>\n",
       "      <th>duration</th>\n",
       "      <th>date</th>\n",
       "    </tr>\n",
       "  </thead>\n",
       "  <tbody>\n",
       "    <tr>\n",
       "      <th>0</th>\n",
       "      <td>1</td>\n",
       "      <td>4409.919140</td>\n",
       "      <td>26</td>\n",
       "      <td>2021-01-01</td>\n",
       "    </tr>\n",
       "    <tr>\n",
       "      <th>1</th>\n",
       "      <td>1</td>\n",
       "      <td>2617.592153</td>\n",
       "      <td>16</td>\n",
       "      <td>2021-01-18</td>\n",
       "    </tr>\n",
       "    <tr>\n",
       "      <th>2</th>\n",
       "      <td>1</td>\n",
       "      <td>754.159807</td>\n",
       "      <td>7</td>\n",
       "      <td>2021-04-20</td>\n",
       "    </tr>\n",
       "    <tr>\n",
       "      <th>3</th>\n",
       "      <td>1</td>\n",
       "      <td>2694.783254</td>\n",
       "      <td>19</td>\n",
       "      <td>2021-08-11</td>\n",
       "    </tr>\n",
       "    <tr>\n",
       "      <th>4</th>\n",
       "      <td>1</td>\n",
       "      <td>4028.687306</td>\n",
       "      <td>27</td>\n",
       "      <td>2021-08-28</td>\n",
       "    </tr>\n",
       "  </tbody>\n",
       "</table>\n",
       "</div>"
      ],
      "text/plain": [
       "   user_id     distance  duration       date\n",
       "0        1  4409.919140        26 2021-01-01\n",
       "1        1  2617.592153        16 2021-01-18\n",
       "2        1   754.159807         7 2021-04-20\n",
       "3        1  2694.783254        19 2021-08-11\n",
       "4        1  4028.687306        27 2021-08-28"
      ]
     },
     "execution_count": 5,
     "metadata": {},
     "output_type": "execute_result"
    }
   ],
   "source": [
    "#округлим стобец duration до целого числа и поменяем тип данных на int\n",
    "riders['duration'] = np.ceil(riders['duration']).astype('int')\n",
    "riders.head(5)"
   ]
  },
  {
   "cell_type": "markdown",
   "id": "ea9e9096",
   "metadata": {},
   "source": [
    "### Проверка наличия дубликатов и пропусков"
   ]
  },
  {
   "cell_type": "markdown",
   "id": "26cf5e37",
   "metadata": {},
   "source": [
    "#### Таблица `users`"
   ]
  },
  {
   "cell_type": "code",
   "execution_count": 6,
   "id": "57b64c32",
   "metadata": {},
   "outputs": [
    {
     "data": {
      "text/plain": [
       "user_id              0\n",
       "name                 0\n",
       "age                  0\n",
       "city                 0\n",
       "subscription_type    0\n",
       "dtype: int64"
      ]
     },
     "execution_count": 6,
     "metadata": {},
     "output_type": "execute_result"
    }
   ],
   "source": [
    "#проверяем пропуски еще раз\n",
    "users.isna().sum()"
   ]
  },
  {
   "cell_type": "code",
   "execution_count": 7,
   "id": "aef5fdb4",
   "metadata": {},
   "outputs": [
    {
     "data": {
      "text/plain": [
       "31"
      ]
     },
     "execution_count": 7,
     "metadata": {},
     "output_type": "execute_result"
    }
   ],
   "source": [
    "#проверяем наличие дубликатов\n",
    "users.duplicated().sum()"
   ]
  },
  {
   "cell_type": "code",
   "execution_count": 8,
   "id": "79bd2fdf",
   "metadata": {},
   "outputs": [
    {
     "name": "stdout",
     "output_type": "stream",
     "text": [
      "1534\n",
      "31\n"
     ]
    }
   ],
   "source": [
    "# посмотрим на количество уникальных ID\n",
    "print(len(users['user_id'].unique())) \n",
    "print(len(users['user_id']) - len(users['user_id'].unique()))"
   ]
  },
  {
   "cell_type": "markdown",
   "id": "dda3c95a",
   "metadata": {},
   "source": [
    "**Вывод:** \n",
    "\n",
    "Пропусков нет. но имееются дубликаты - 31 штука. Очевидно, что ID пользователей в принципе должны быть уникальными. Удаляем дубликаты. "
   ]
  },
  {
   "cell_type": "code",
   "execution_count": 9,
   "id": "2d699ac8",
   "metadata": {},
   "outputs": [
    {
     "data": {
      "text/plain": [
       "0"
      ]
     },
     "execution_count": 9,
     "metadata": {},
     "output_type": "execute_result"
    }
   ],
   "source": [
    "# удаление дубликатов\n",
    "users = users.drop_duplicates().reset_index(drop=True)\n",
    "users.duplicated().sum()"
   ]
  },
  {
   "cell_type": "markdown",
   "id": "d73b4394",
   "metadata": {},
   "source": [
    "**Вывод:** \n",
    "\n",
    "Таблица готова к анализу"
   ]
  },
  {
   "cell_type": "markdown",
   "id": "19eea6b1",
   "metadata": {},
   "source": [
    "#### Таблица `riders`"
   ]
  },
  {
   "cell_type": "code",
   "execution_count": 10,
   "id": "a93369c2",
   "metadata": {},
   "outputs": [
    {
     "data": {
      "text/plain": [
       "user_id     0\n",
       "distance    0\n",
       "duration    0\n",
       "date        0\n",
       "dtype: int64"
      ]
     },
     "execution_count": 10,
     "metadata": {},
     "output_type": "execute_result"
    }
   ],
   "source": [
    "#проверяем пропуски еще раз\n",
    "riders.isna().sum()"
   ]
  },
  {
   "cell_type": "code",
   "execution_count": 11,
   "id": "0b833f5b",
   "metadata": {},
   "outputs": [
    {
     "data": {
      "text/plain": [
       "0"
      ]
     },
     "execution_count": 11,
     "metadata": {},
     "output_type": "execute_result"
    }
   ],
   "source": [
    "#проверяем наличие дубликатов\n",
    "riders.duplicated().sum()"
   ]
  },
  {
   "cell_type": "markdown",
   "id": "b0d84b53",
   "metadata": {},
   "source": [
    "**Вывод:**  \n",
    "\n",
    "Отлично! Пропусков и дубликатов нет."
   ]
  },
  {
   "cell_type": "markdown",
   "id": "dec9b298",
   "metadata": {},
   "source": [
    "#### Таблица `subscriptions`"
   ]
  },
  {
   "cell_type": "markdown",
   "id": "5a504289",
   "metadata": {},
   "source": [
    "Таблицу `subscriptions` нет смысла проверять, так как это справочник, состоящий из 2 строк"
   ]
  },
  {
   "cell_type": "code",
   "execution_count": 12,
   "id": "59cb8070",
   "metadata": {},
   "outputs": [
    {
     "data": {
      "text/html": [
       "<div>\n",
       "<style scoped>\n",
       "    .dataframe tbody tr th:only-of-type {\n",
       "        vertical-align: middle;\n",
       "    }\n",
       "\n",
       "    .dataframe tbody tr th {\n",
       "        vertical-align: top;\n",
       "    }\n",
       "\n",
       "    .dataframe thead th {\n",
       "        text-align: right;\n",
       "    }\n",
       "</style>\n",
       "<table border=\"1\" class=\"dataframe\">\n",
       "  <thead>\n",
       "    <tr style=\"text-align: right;\">\n",
       "      <th></th>\n",
       "      <th>subscription_type</th>\n",
       "      <th>minute_price</th>\n",
       "      <th>start_ride_price</th>\n",
       "      <th>subscription_fee</th>\n",
       "    </tr>\n",
       "  </thead>\n",
       "  <tbody>\n",
       "    <tr>\n",
       "      <th>0</th>\n",
       "      <td>free</td>\n",
       "      <td>8</td>\n",
       "      <td>50</td>\n",
       "      <td>0</td>\n",
       "    </tr>\n",
       "    <tr>\n",
       "      <th>1</th>\n",
       "      <td>ultra</td>\n",
       "      <td>6</td>\n",
       "      <td>0</td>\n",
       "      <td>199</td>\n",
       "    </tr>\n",
       "  </tbody>\n",
       "</table>\n",
       "</div>"
      ],
      "text/plain": [
       "  subscription_type  minute_price  start_ride_price  subscription_fee\n",
       "0              free             8                50                 0\n",
       "1             ultra             6                 0               199"
      ]
     },
     "execution_count": 12,
     "metadata": {},
     "output_type": "execute_result"
    }
   ],
   "source": [
    "subscriptions"
   ]
  },
  {
   "cell_type": "markdown",
   "id": "212593c7",
   "metadata": {},
   "source": [
    "##  Исследовательский анализ данных\n",
    "\n",
    "Опишим и визуализируем общую информацию о пользователях и поездках:"
   ]
  },
  {
   "cell_type": "markdown",
   "id": "f7d1536c",
   "metadata": {},
   "source": [
    "### Частота встречаемости городов"
   ]
  },
  {
   "cell_type": "code",
   "execution_count": 13,
   "id": "5c4b180a",
   "metadata": {},
   "outputs": [
    {
     "data": {
      "text/plain": [
       "Москва            168\n",
       "Тюмень            180\n",
       "Омск              183\n",
       "Сочи              189\n",
       "Краснодар         193\n",
       "Ростов-на-Дону    198\n",
       "Екатеринбург      204\n",
       "Пятигорск         219\n",
       "Name: city, dtype: int64"
      ]
     },
     "execution_count": 13,
     "metadata": {},
     "output_type": "execute_result"
    }
   ],
   "source": [
    "users['city'].value_counts().sort_values(ascending = True)"
   ]
  },
  {
   "cell_type": "code",
   "execution_count": 14,
   "id": "c58aaf55",
   "metadata": {},
   "outputs": [
    {
     "data": {
      "image/png": "[encoded data removed]",
      "text/plain": [
       "<Figure size 1080x360 with 1 Axes>"
      ]
     },
     "metadata": {
      "needs_background": "light"
     },
     "output_type": "display_data"
    }
   ],
   "source": [
    "ax = users['city'].value_counts(ascending=True).plot.bar(figsize=(15, 5), rot=0, ec='black', alpha=0.5)\n",
    "plt.title('Частота встречаемости городов')\n",
    "plt.xlabel('ГОРОД')\n",
    "plt.ylabel('Количество пользователей')\n",
    "plt.show()"
   ]
  },
  {
   "cell_type": "markdown",
   "id": "9597f226",
   "metadata": {},
   "source": [
    "**Вывод:** \n",
    "\n",
    "Реже всего самокаты использовали в Москве, чаще всего в Пятигорске и Екатеринбурге."
   ]
  },
  {
   "cell_type": "markdown",
   "id": "0bd436ba",
   "metadata": {},
   "source": [
    "### Соотношение пользователей с подпиской и без подписки"
   ]
  },
  {
   "cell_type": "code",
   "execution_count": 15,
   "id": "1011bda9",
   "metadata": {},
   "outputs": [
    {
     "data": {
      "text/plain": [
       "count     1534\n",
       "unique       2\n",
       "top       free\n",
       "freq       835\n",
       "Name: subscription_type, dtype: object"
      ]
     },
     "execution_count": 15,
     "metadata": {},
     "output_type": "execute_result"
    }
   ],
   "source": [
    "users['subscription_type'].describe()"
   ]
  },
  {
   "cell_type": "code",
   "execution_count": 16,
   "id": "b2d0203d",
   "metadata": {},
   "outputs": [
    {
     "data": {
      "text/html": [
       "<div>\n",
       "<style scoped>\n",
       "    .dataframe tbody tr th:only-of-type {\n",
       "        vertical-align: middle;\n",
       "    }\n",
       "\n",
       "    .dataframe tbody tr th {\n",
       "        vertical-align: top;\n",
       "    }\n",
       "\n",
       "    .dataframe thead th {\n",
       "        text-align: right;\n",
       "    }\n",
       "</style>\n",
       "<table border=\"1\" class=\"dataframe\">\n",
       "  <thead>\n",
       "    <tr style=\"text-align: right;\">\n",
       "      <th></th>\n",
       "      <th>subscription_type</th>\n",
       "      <th>number</th>\n",
       "      <th>%</th>\n",
       "    </tr>\n",
       "  </thead>\n",
       "  <tbody>\n",
       "    <tr>\n",
       "      <th>0</th>\n",
       "      <td>ultra</td>\n",
       "      <td>699</td>\n",
       "      <td>45.567145</td>\n",
       "    </tr>\n",
       "    <tr>\n",
       "      <th>1</th>\n",
       "      <td>free</td>\n",
       "      <td>835</td>\n",
       "      <td>54.432855</td>\n",
       "    </tr>\n",
       "  </tbody>\n",
       "</table>\n",
       "</div>"
      ],
      "text/plain": [
       "  subscription_type  number          %\n",
       "0             ultra     699  45.567145\n",
       "1              free     835  54.432855"
      ]
     },
     "execution_count": 16,
     "metadata": {},
     "output_type": "execute_result"
    }
   ],
   "source": [
    "c = users['subscription_type'].value_counts().sort_values(ascending = True).reset_index()\n",
    "c.columns=['subscription_type', 'number']\n",
    "c['%'] = c['number'] / c['number'].sum() * 100\n",
    "c"
   ]
  },
  {
   "cell_type": "code",
   "execution_count": 17,
   "id": "d469e70e",
   "metadata": {},
   "outputs": [
    {
     "data": {
      "image/png": "[encoded data removed]",
      "text/plain": [
       "<Figure size 432x288 with 1 Axes>"
      ]
     },
     "metadata": {
      "needs_background": "light"
     },
     "output_type": "display_data"
    }
   ],
   "source": [
    "ax = users['subscription_type'].value_counts(ascending=True).plot.bar(rot=0, ec='black', alpha=0.5)\n",
    "plt.title('Соотношение пользователей с подпиской и без подписки')\n",
    "plt.xlabel('Подписка')\n",
    "plt.ylabel('Количество пользователей')\n",
    "plt.show()"
   ]
  },
  {
   "cell_type": "code",
   "execution_count": 18,
   "id": "b961907a",
   "metadata": {},
   "outputs": [
    {
     "data": {
      "text/plain": [
       "Text(0, 0.5, '')"
      ]
     },
     "execution_count": 18,
     "metadata": {},
     "output_type": "execute_result"
    },
    {
     "data": {
      "image/png": "[encoded data removed]",
      "text/plain": [
       "<Figure size 360x360 with 1 Axes>"
      ]
     },
     "metadata": {},
     "output_type": "display_data"
    }
   ],
   "source": [
    "ax = users.groupby(['subscription_type']).count().plot(kind='pie', y='user_id', autopct='%1.1f%%', figsize = (5, 5), \\\n",
    "                                                  colors=['mediumseagreen', 'cornflowerblue'])\n",
    "plt.title('Соотношение пользователей с подпиской и без подписки')\n",
    "plt.ylabel('')"
   ]
  },
  {
   "cell_type": "markdown",
   "id": "c41bf03c",
   "metadata": {},
   "source": [
    "**Вывод:** \n",
    "\n",
    "Пользователей без подписки немного больше (54,43 %), чем пользователей с подпиской (45,56%)"
   ]
  },
  {
   "cell_type": "markdown",
   "id": "42e1b44e",
   "metadata": {},
   "source": [
    "### Возраст пользователей;"
   ]
  },
  {
   "cell_type": "code",
   "execution_count": 19,
   "id": "824e8d8b",
   "metadata": {},
   "outputs": [
    {
     "data": {
      "text/plain": [
       "count    1534.000000\n",
       "mean       24.903520\n",
       "std         4.572367\n",
       "min        12.000000\n",
       "25%        22.000000\n",
       "50%        25.000000\n",
       "75%        28.000000\n",
       "max        43.000000\n",
       "Name: age, dtype: float64"
      ]
     },
     "execution_count": 19,
     "metadata": {},
     "output_type": "execute_result"
    }
   ],
   "source": [
    "users['age'].describe()"
   ]
  },
  {
   "cell_type": "code",
   "execution_count": 20,
   "id": "a4d9b912",
   "metadata": {},
   "outputs": [
    {
     "data": {
      "image/png": "[encoded data removed]",
      "text/plain": [
       "<Figure size 720x360 with 1 Axes>"
      ]
     },
     "metadata": {
      "needs_background": "light"
     },
     "output_type": "display_data"
    }
   ],
   "source": [
    "users['age'].hist(figsize=(10, 5), range=(0, 50), bins=50, ec='black', alpha=0.5)\n",
    "plt.title('Распределение возраста пользователей')\n",
    "plt.xlabel('Возраст')\n",
    "plt.ylabel('Количество пользователей')\n",
    "plt.show()"
   ]
  },
  {
   "cell_type": "markdown",
   "id": "8f9d0b12",
   "metadata": {},
   "source": [
    "**Вывод:**  \n",
    "\n",
    "Видим, что минимальный возраст пользователей самокатов 12 лет, максимальный 43 года. Однако, чаще всего самокатом пользуются люди в возрасте от 20 до 30 лет. Средняя и медиана у нас практически равны и составляют 25 лет."
   ]
  },
  {
   "cell_type": "markdown",
   "id": "ce7a01d6",
   "metadata": {},
   "source": [
    "### Расстояние, которое пользователь преодолел за одну поездку"
   ]
  },
  {
   "cell_type": "code",
   "execution_count": 21,
   "id": "13734cfc",
   "metadata": {},
   "outputs": [
    {
     "data": {
      "text/plain": [
       "count    18068.000000\n",
       "mean      3070.659976\n",
       "std       1116.831209\n",
       "min          0.855683\n",
       "25%       2543.226360\n",
       "50%       3133.609994\n",
       "75%       3776.222735\n",
       "max       7211.007745\n",
       "Name: distance, dtype: float64"
      ]
     },
     "execution_count": 21,
     "metadata": {},
     "output_type": "execute_result"
    }
   ],
   "source": [
    "riders['distance'].describe()"
   ]
  },
  {
   "cell_type": "code",
   "execution_count": 22,
   "id": "c3ea0ecc",
   "metadata": {},
   "outputs": [
    {
     "data": {
      "image/png": "[encoded data removed]",
      "text/plain": [
       "<Figure size 720x360 with 1 Axes>"
      ]
     },
     "metadata": {
      "needs_background": "light"
     },
     "output_type": "display_data"
    }
   ],
   "source": [
    "riders['distance'].hist(figsize=(10, 5), range=(0, 7300), bins=50, ec='black', alpha=0.5)\n",
    "plt.title('Распределение расстояния, которое пользователь преодолел за одну поездку')\n",
    "plt.xlabel('Расстояние')\n",
    "plt.ylabel('Количество пользователей')\n",
    "plt.show()"
   ]
  },
  {
   "cell_type": "markdown",
   "id": "809d7e3b",
   "metadata": {},
   "source": [
    "**Вывод:** \n",
    "\n",
    "Мы видим 2 пика: с вершиной на 700 метрах и с вершиной на 3100 метрах. То есть можно сделать вывод, что есть 2 типа целей поездки: на короткие расстояния (возможно, это люди, которые захотели попробовать прокатиться на самокате) и на относительно длинные. При чем на длинные растояния самокаты пользуются намного большим спросом. Первый квартиль у нас находится на отметке 2543 метра, третий - 3776 метров. Средее расстоние, которое проезжают пользователи - 3070 метров."
   ]
  },
  {
   "cell_type": "markdown",
   "id": "2dad309d",
   "metadata": {},
   "source": [
    "### Продолжительность поездок"
   ]
  },
  {
   "cell_type": "code",
   "execution_count": 23,
   "id": "3d4de64d",
   "metadata": {},
   "outputs": [
    {
     "data": {
      "text/plain": [
       "count    18068.000000\n",
       "mean        18.303520\n",
       "std          6.094928\n",
       "min          1.000000\n",
       "25%         14.000000\n",
       "50%         18.000000\n",
       "75%         22.000000\n",
       "max         41.000000\n",
       "Name: duration, dtype: float64"
      ]
     },
     "execution_count": 23,
     "metadata": {},
     "output_type": "execute_result"
    }
   ],
   "source": [
    "riders['duration'].describe()"
   ]
  },
  {
   "cell_type": "code",
   "execution_count": 24,
   "id": "7953ec7a",
   "metadata": {},
   "outputs": [
    {
     "data": {
      "image/png": "[encoded data removed]",
      "text/plain": [
       "<Figure size 720x360 with 1 Axes>"
      ]
     },
     "metadata": {
      "needs_background": "light"
     },
     "output_type": "display_data"
    }
   ],
   "source": [
    "riders['duration'].hist(figsize=(10, 5), range=(0, 45), bins=45, ec='black', alpha=0.5)\n",
    "plt.title('Продорлжительность поездок')\n",
    "plt.xlabel('Продолжительность')\n",
    "plt.ylabel('Количество пользователей')\n",
    "plt.show()"
   ]
  },
  {
   "cell_type": "markdown",
   "id": "1e7ef2a5",
   "metadata": {},
   "source": [
    "**Вывод:** \n",
    "\n",
    "Основная продолжительность поездок распределена между 14 и 22 минутами. Средняя и медиана практически равны и составляют 18 минут.Мы видим небольшой пик на 2-х минутах, предположительно это те самые \"популярные\" короткие поездки. Минимальная продолжительность поездки 1 минута, максимальная - 41 минута."
   ]
  },
  {
   "cell_type": "markdown",
   "id": "4ef51331",
   "metadata": {},
   "source": [
    "##  Объединение данных"
   ]
  },
  {
   "cell_type": "markdown",
   "id": "6f534cef",
   "metadata": {},
   "source": [
    "### Объединение данных о пользователях, поездках и подписках в один датафрейм. "
   ]
  },
  {
   "cell_type": "code",
   "execution_count": 25,
   "id": "1c1bdff4",
   "metadata": {},
   "outputs": [
    {
     "data": {
      "text/html": [
       "<div>\n",
       "<style scoped>\n",
       "    .dataframe tbody tr th:only-of-type {\n",
       "        vertical-align: middle;\n",
       "    }\n",
       "\n",
       "    .dataframe tbody tr th {\n",
       "        vertical-align: top;\n",
       "    }\n",
       "\n",
       "    .dataframe thead th {\n",
       "        text-align: right;\n",
       "    }\n",
       "</style>\n",
       "<table border=\"1\" class=\"dataframe\">\n",
       "  <thead>\n",
       "    <tr style=\"text-align: right;\">\n",
       "      <th></th>\n",
       "      <th>user_id</th>\n",
       "      <th>name</th>\n",
       "      <th>age</th>\n",
       "      <th>city</th>\n",
       "      <th>subscription_type</th>\n",
       "      <th>distance</th>\n",
       "      <th>duration</th>\n",
       "      <th>date</th>\n",
       "      <th>minute_price</th>\n",
       "      <th>start_ride_price</th>\n",
       "      <th>subscription_fee</th>\n",
       "    </tr>\n",
       "  </thead>\n",
       "  <tbody>\n",
       "    <tr>\n",
       "      <th>0</th>\n",
       "      <td>1</td>\n",
       "      <td>Кира</td>\n",
       "      <td>22</td>\n",
       "      <td>Тюмень</td>\n",
       "      <td>ultra</td>\n",
       "      <td>4409.919140</td>\n",
       "      <td>26</td>\n",
       "      <td>2021-01-01</td>\n",
       "      <td>6</td>\n",
       "      <td>0</td>\n",
       "      <td>199</td>\n",
       "    </tr>\n",
       "    <tr>\n",
       "      <th>1</th>\n",
       "      <td>1</td>\n",
       "      <td>Кира</td>\n",
       "      <td>22</td>\n",
       "      <td>Тюмень</td>\n",
       "      <td>ultra</td>\n",
       "      <td>2617.592153</td>\n",
       "      <td>16</td>\n",
       "      <td>2021-01-18</td>\n",
       "      <td>6</td>\n",
       "      <td>0</td>\n",
       "      <td>199</td>\n",
       "    </tr>\n",
       "    <tr>\n",
       "      <th>2</th>\n",
       "      <td>1</td>\n",
       "      <td>Кира</td>\n",
       "      <td>22</td>\n",
       "      <td>Тюмень</td>\n",
       "      <td>ultra</td>\n",
       "      <td>754.159807</td>\n",
       "      <td>7</td>\n",
       "      <td>2021-04-20</td>\n",
       "      <td>6</td>\n",
       "      <td>0</td>\n",
       "      <td>199</td>\n",
       "    </tr>\n",
       "    <tr>\n",
       "      <th>3</th>\n",
       "      <td>1</td>\n",
       "      <td>Кира</td>\n",
       "      <td>22</td>\n",
       "      <td>Тюмень</td>\n",
       "      <td>ultra</td>\n",
       "      <td>2694.783254</td>\n",
       "      <td>19</td>\n",
       "      <td>2021-08-11</td>\n",
       "      <td>6</td>\n",
       "      <td>0</td>\n",
       "      <td>199</td>\n",
       "    </tr>\n",
       "    <tr>\n",
       "      <th>4</th>\n",
       "      <td>1</td>\n",
       "      <td>Кира</td>\n",
       "      <td>22</td>\n",
       "      <td>Тюмень</td>\n",
       "      <td>ultra</td>\n",
       "      <td>4028.687306</td>\n",
       "      <td>27</td>\n",
       "      <td>2021-08-28</td>\n",
       "      <td>6</td>\n",
       "      <td>0</td>\n",
       "      <td>199</td>\n",
       "    </tr>\n",
       "    <tr>\n",
       "      <th>...</th>\n",
       "      <td>...</td>\n",
       "      <td>...</td>\n",
       "      <td>...</td>\n",
       "      <td>...</td>\n",
       "      <td>...</td>\n",
       "      <td>...</td>\n",
       "      <td>...</td>\n",
       "      <td>...</td>\n",
       "      <td>...</td>\n",
       "      <td>...</td>\n",
       "      <td>...</td>\n",
       "    </tr>\n",
       "    <tr>\n",
       "      <th>18063</th>\n",
       "      <td>1534</td>\n",
       "      <td>Альберт</td>\n",
       "      <td>25</td>\n",
       "      <td>Краснодар</td>\n",
       "      <td>free</td>\n",
       "      <td>3781.098080</td>\n",
       "      <td>20</td>\n",
       "      <td>2021-11-04</td>\n",
       "      <td>8</td>\n",
       "      <td>50</td>\n",
       "      <td>0</td>\n",
       "    </tr>\n",
       "    <tr>\n",
       "      <th>18064</th>\n",
       "      <td>1534</td>\n",
       "      <td>Альберт</td>\n",
       "      <td>25</td>\n",
       "      <td>Краснодар</td>\n",
       "      <td>free</td>\n",
       "      <td>2840.423057</td>\n",
       "      <td>22</td>\n",
       "      <td>2021-11-16</td>\n",
       "      <td>8</td>\n",
       "      <td>50</td>\n",
       "      <td>0</td>\n",
       "    </tr>\n",
       "    <tr>\n",
       "      <th>18065</th>\n",
       "      <td>1534</td>\n",
       "      <td>Альберт</td>\n",
       "      <td>25</td>\n",
       "      <td>Краснодар</td>\n",
       "      <td>free</td>\n",
       "      <td>3826.185507</td>\n",
       "      <td>19</td>\n",
       "      <td>2021-11-18</td>\n",
       "      <td>8</td>\n",
       "      <td>50</td>\n",
       "      <td>0</td>\n",
       "    </tr>\n",
       "    <tr>\n",
       "      <th>18066</th>\n",
       "      <td>1534</td>\n",
       "      <td>Альберт</td>\n",
       "      <td>25</td>\n",
       "      <td>Краснодар</td>\n",
       "      <td>free</td>\n",
       "      <td>2902.308661</td>\n",
       "      <td>17</td>\n",
       "      <td>2021-11-27</td>\n",
       "      <td>8</td>\n",
       "      <td>50</td>\n",
       "      <td>0</td>\n",
       "    </tr>\n",
       "    <tr>\n",
       "      <th>18067</th>\n",
       "      <td>1534</td>\n",
       "      <td>Альберт</td>\n",
       "      <td>25</td>\n",
       "      <td>Краснодар</td>\n",
       "      <td>free</td>\n",
       "      <td>2371.711192</td>\n",
       "      <td>16</td>\n",
       "      <td>2021-12-29</td>\n",
       "      <td>8</td>\n",
       "      <td>50</td>\n",
       "      <td>0</td>\n",
       "    </tr>\n",
       "  </tbody>\n",
       "</table>\n",
       "<p>18068 rows × 11 columns</p>\n",
       "</div>"
      ],
      "text/plain": [
       "       user_id     name  age       city subscription_type     distance  \\\n",
       "0            1     Кира   22     Тюмень             ultra  4409.919140   \n",
       "1            1     Кира   22     Тюмень             ultra  2617.592153   \n",
       "2            1     Кира   22     Тюмень             ultra   754.159807   \n",
       "3            1     Кира   22     Тюмень             ultra  2694.783254   \n",
       "4            1     Кира   22     Тюмень             ultra  4028.687306   \n",
       "...        ...      ...  ...        ...               ...          ...   \n",
       "18063     1534  Альберт   25  Краснодар              free  3781.098080   \n",
       "18064     1534  Альберт   25  Краснодар              free  2840.423057   \n",
       "18065     1534  Альберт   25  Краснодар              free  3826.185507   \n",
       "18066     1534  Альберт   25  Краснодар              free  2902.308661   \n",
       "18067     1534  Альберт   25  Краснодар              free  2371.711192   \n",
       "\n",
       "       duration       date  minute_price  start_ride_price  subscription_fee  \n",
       "0            26 2021-01-01             6                 0               199  \n",
       "1            16 2021-01-18             6                 0               199  \n",
       "2             7 2021-04-20             6                 0               199  \n",
       "3            19 2021-08-11             6                 0               199  \n",
       "4            27 2021-08-28             6                 0               199  \n",
       "...         ...        ...           ...               ...               ...  \n",
       "18063        20 2021-11-04             8                50                 0  \n",
       "18064        22 2021-11-16             8                50                 0  \n",
       "18065        19 2021-11-18             8                50                 0  \n",
       "18066        17 2021-11-27             8                50                 0  \n",
       "18067        16 2021-12-29             8                50                 0  \n",
       "\n",
       "[18068 rows x 11 columns]"
      ]
     },
     "execution_count": 25,
     "metadata": {},
     "output_type": "execute_result"
    }
   ],
   "source": [
    "data = users.merge(riders, on='user_id', how='left')\n",
    "data_final = data.merge(subscriptions, on='subscription_type', how='left')\n",
    "data_final"
   ]
  },
  {
   "cell_type": "code",
   "execution_count": 26,
   "id": "4a771a14",
   "metadata": {},
   "outputs": [
    {
     "data": {
      "text/plain": [
       "0"
      ]
     },
     "execution_count": 26,
     "metadata": {},
     "output_type": "execute_result"
    }
   ],
   "source": [
    "data.duplicated().sum()"
   ]
  },
  {
   "cell_type": "markdown",
   "id": "3334c066",
   "metadata": {},
   "source": [
    "**Вывод:** \n",
    "\n",
    "Данные успешно объединены, количество строк совпадает с датафреймом `riders` и дубликатов не найдено."
   ]
  },
  {
   "cell_type": "code",
   "execution_count": 27,
   "id": "742eeb3d",
   "metadata": {},
   "outputs": [
    {
     "data": {
      "text/html": [
       "<div>\n",
       "<style scoped>\n",
       "    .dataframe tbody tr th:only-of-type {\n",
       "        vertical-align: middle;\n",
       "    }\n",
       "\n",
       "    .dataframe tbody tr th {\n",
       "        vertical-align: top;\n",
       "    }\n",
       "\n",
       "    .dataframe thead th {\n",
       "        text-align: right;\n",
       "    }\n",
       "</style>\n",
       "<table border=\"1\" class=\"dataframe\">\n",
       "  <thead>\n",
       "    <tr style=\"text-align: right;\">\n",
       "      <th></th>\n",
       "      <th>user_id</th>\n",
       "      <th>name</th>\n",
       "      <th>age</th>\n",
       "      <th>city</th>\n",
       "      <th>subscription_type</th>\n",
       "      <th>distance</th>\n",
       "      <th>duration</th>\n",
       "      <th>date</th>\n",
       "      <th>minute_price</th>\n",
       "      <th>start_ride_price</th>\n",
       "      <th>subscription_fee</th>\n",
       "      <th>month</th>\n",
       "    </tr>\n",
       "  </thead>\n",
       "  <tbody>\n",
       "    <tr>\n",
       "      <th>0</th>\n",
       "      <td>1</td>\n",
       "      <td>Кира</td>\n",
       "      <td>22</td>\n",
       "      <td>Тюмень</td>\n",
       "      <td>ultra</td>\n",
       "      <td>4409.919140</td>\n",
       "      <td>26</td>\n",
       "      <td>2021-01-01</td>\n",
       "      <td>6</td>\n",
       "      <td>0</td>\n",
       "      <td>199</td>\n",
       "      <td>1</td>\n",
       "    </tr>\n",
       "    <tr>\n",
       "      <th>1</th>\n",
       "      <td>1</td>\n",
       "      <td>Кира</td>\n",
       "      <td>22</td>\n",
       "      <td>Тюмень</td>\n",
       "      <td>ultra</td>\n",
       "      <td>2617.592153</td>\n",
       "      <td>16</td>\n",
       "      <td>2021-01-18</td>\n",
       "      <td>6</td>\n",
       "      <td>0</td>\n",
       "      <td>199</td>\n",
       "      <td>1</td>\n",
       "    </tr>\n",
       "    <tr>\n",
       "      <th>2</th>\n",
       "      <td>1</td>\n",
       "      <td>Кира</td>\n",
       "      <td>22</td>\n",
       "      <td>Тюмень</td>\n",
       "      <td>ultra</td>\n",
       "      <td>754.159807</td>\n",
       "      <td>7</td>\n",
       "      <td>2021-04-20</td>\n",
       "      <td>6</td>\n",
       "      <td>0</td>\n",
       "      <td>199</td>\n",
       "      <td>4</td>\n",
       "    </tr>\n",
       "    <tr>\n",
       "      <th>3</th>\n",
       "      <td>1</td>\n",
       "      <td>Кира</td>\n",
       "      <td>22</td>\n",
       "      <td>Тюмень</td>\n",
       "      <td>ultra</td>\n",
       "      <td>2694.783254</td>\n",
       "      <td>19</td>\n",
       "      <td>2021-08-11</td>\n",
       "      <td>6</td>\n",
       "      <td>0</td>\n",
       "      <td>199</td>\n",
       "      <td>8</td>\n",
       "    </tr>\n",
       "    <tr>\n",
       "      <th>4</th>\n",
       "      <td>1</td>\n",
       "      <td>Кира</td>\n",
       "      <td>22</td>\n",
       "      <td>Тюмень</td>\n",
       "      <td>ultra</td>\n",
       "      <td>4028.687306</td>\n",
       "      <td>27</td>\n",
       "      <td>2021-08-28</td>\n",
       "      <td>6</td>\n",
       "      <td>0</td>\n",
       "      <td>199</td>\n",
       "      <td>8</td>\n",
       "    </tr>\n",
       "  </tbody>\n",
       "</table>\n",
       "</div>"
      ],
      "text/plain": [
       "   user_id  name  age    city subscription_type     distance  duration  \\\n",
       "0        1  Кира   22  Тюмень             ultra  4409.919140        26   \n",
       "1        1  Кира   22  Тюмень             ultra  2617.592153        16   \n",
       "2        1  Кира   22  Тюмень             ultra   754.159807         7   \n",
       "3        1  Кира   22  Тюмень             ultra  2694.783254        19   \n",
       "4        1  Кира   22  Тюмень             ultra  4028.687306        27   \n",
       "\n",
       "        date  minute_price  start_ride_price  subscription_fee  month  \n",
       "0 2021-01-01             6                 0               199      1  \n",
       "1 2021-01-18             6                 0               199      1  \n",
       "2 2021-04-20             6                 0               199      4  \n",
       "3 2021-08-11             6                 0               199      8  \n",
       "4 2021-08-28             6                 0               199      8  "
      ]
     },
     "execution_count": 27,
     "metadata": {},
     "output_type": "execute_result"
    }
   ],
   "source": [
    "data_final['month'] = data_final['date'].dt.month\n",
    "data_final.head()"
   ]
  },
  {
   "cell_type": "markdown",
   "id": "959d9cd5",
   "metadata": {},
   "source": [
    "### Создание датафрейма c данными о пользователях без подписки"
   ]
  },
  {
   "cell_type": "code",
   "execution_count": 28,
   "id": "a45c51e7",
   "metadata": {},
   "outputs": [
    {
     "data": {
      "text/html": [
       "<div>\n",
       "<style scoped>\n",
       "    .dataframe tbody tr th:only-of-type {\n",
       "        vertical-align: middle;\n",
       "    }\n",
       "\n",
       "    .dataframe tbody tr th {\n",
       "        vertical-align: top;\n",
       "    }\n",
       "\n",
       "    .dataframe thead th {\n",
       "        text-align: right;\n",
       "    }\n",
       "</style>\n",
       "<table border=\"1\" class=\"dataframe\">\n",
       "  <thead>\n",
       "    <tr style=\"text-align: right;\">\n",
       "      <th></th>\n",
       "      <th>user_id</th>\n",
       "      <th>name</th>\n",
       "      <th>age</th>\n",
       "      <th>city</th>\n",
       "      <th>subscription_type</th>\n",
       "      <th>distance</th>\n",
       "      <th>duration</th>\n",
       "      <th>date</th>\n",
       "      <th>minute_price</th>\n",
       "      <th>start_ride_price</th>\n",
       "      <th>subscription_fee</th>\n",
       "      <th>month</th>\n",
       "    </tr>\n",
       "  </thead>\n",
       "  <tbody>\n",
       "    <tr>\n",
       "      <th>6500</th>\n",
       "      <td>700</td>\n",
       "      <td>Айдар</td>\n",
       "      <td>22</td>\n",
       "      <td>Омск</td>\n",
       "      <td>free</td>\n",
       "      <td>2515.690719</td>\n",
       "      <td>15</td>\n",
       "      <td>2021-01-02</td>\n",
       "      <td>8</td>\n",
       "      <td>50</td>\n",
       "      <td>0</td>\n",
       "      <td>1</td>\n",
       "    </tr>\n",
       "    <tr>\n",
       "      <th>6501</th>\n",
       "      <td>700</td>\n",
       "      <td>Айдар</td>\n",
       "      <td>22</td>\n",
       "      <td>Омск</td>\n",
       "      <td>free</td>\n",
       "      <td>846.932642</td>\n",
       "      <td>17</td>\n",
       "      <td>2021-02-01</td>\n",
       "      <td>8</td>\n",
       "      <td>50</td>\n",
       "      <td>0</td>\n",
       "      <td>2</td>\n",
       "    </tr>\n",
       "    <tr>\n",
       "      <th>6502</th>\n",
       "      <td>700</td>\n",
       "      <td>Айдар</td>\n",
       "      <td>22</td>\n",
       "      <td>Омск</td>\n",
       "      <td>free</td>\n",
       "      <td>4004.434142</td>\n",
       "      <td>21</td>\n",
       "      <td>2021-02-04</td>\n",
       "      <td>8</td>\n",
       "      <td>50</td>\n",
       "      <td>0</td>\n",
       "      <td>2</td>\n",
       "    </tr>\n",
       "    <tr>\n",
       "      <th>6503</th>\n",
       "      <td>700</td>\n",
       "      <td>Айдар</td>\n",
       "      <td>22</td>\n",
       "      <td>Омск</td>\n",
       "      <td>free</td>\n",
       "      <td>1205.911290</td>\n",
       "      <td>10</td>\n",
       "      <td>2021-02-10</td>\n",
       "      <td>8</td>\n",
       "      <td>50</td>\n",
       "      <td>0</td>\n",
       "      <td>2</td>\n",
       "    </tr>\n",
       "    <tr>\n",
       "      <th>6504</th>\n",
       "      <td>700</td>\n",
       "      <td>Айдар</td>\n",
       "      <td>22</td>\n",
       "      <td>Омск</td>\n",
       "      <td>free</td>\n",
       "      <td>3047.379435</td>\n",
       "      <td>18</td>\n",
       "      <td>2021-02-14</td>\n",
       "      <td>8</td>\n",
       "      <td>50</td>\n",
       "      <td>0</td>\n",
       "      <td>2</td>\n",
       "    </tr>\n",
       "    <tr>\n",
       "      <th>...</th>\n",
       "      <td>...</td>\n",
       "      <td>...</td>\n",
       "      <td>...</td>\n",
       "      <td>...</td>\n",
       "      <td>...</td>\n",
       "      <td>...</td>\n",
       "      <td>...</td>\n",
       "      <td>...</td>\n",
       "      <td>...</td>\n",
       "      <td>...</td>\n",
       "      <td>...</td>\n",
       "      <td>...</td>\n",
       "    </tr>\n",
       "    <tr>\n",
       "      <th>18063</th>\n",
       "      <td>1534</td>\n",
       "      <td>Альберт</td>\n",
       "      <td>25</td>\n",
       "      <td>Краснодар</td>\n",
       "      <td>free</td>\n",
       "      <td>3781.098080</td>\n",
       "      <td>20</td>\n",
       "      <td>2021-11-04</td>\n",
       "      <td>8</td>\n",
       "      <td>50</td>\n",
       "      <td>0</td>\n",
       "      <td>11</td>\n",
       "    </tr>\n",
       "    <tr>\n",
       "      <th>18064</th>\n",
       "      <td>1534</td>\n",
       "      <td>Альберт</td>\n",
       "      <td>25</td>\n",
       "      <td>Краснодар</td>\n",
       "      <td>free</td>\n",
       "      <td>2840.423057</td>\n",
       "      <td>22</td>\n",
       "      <td>2021-11-16</td>\n",
       "      <td>8</td>\n",
       "      <td>50</td>\n",
       "      <td>0</td>\n",
       "      <td>11</td>\n",
       "    </tr>\n",
       "    <tr>\n",
       "      <th>18065</th>\n",
       "      <td>1534</td>\n",
       "      <td>Альберт</td>\n",
       "      <td>25</td>\n",
       "      <td>Краснодар</td>\n",
       "      <td>free</td>\n",
       "      <td>3826.185507</td>\n",
       "      <td>19</td>\n",
       "      <td>2021-11-18</td>\n",
       "      <td>8</td>\n",
       "      <td>50</td>\n",
       "      <td>0</td>\n",
       "      <td>11</td>\n",
       "    </tr>\n",
       "    <tr>\n",
       "      <th>18066</th>\n",
       "      <td>1534</td>\n",
       "      <td>Альберт</td>\n",
       "      <td>25</td>\n",
       "      <td>Краснодар</td>\n",
       "      <td>free</td>\n",
       "      <td>2902.308661</td>\n",
       "      <td>17</td>\n",
       "      <td>2021-11-27</td>\n",
       "      <td>8</td>\n",
       "      <td>50</td>\n",
       "      <td>0</td>\n",
       "      <td>11</td>\n",
       "    </tr>\n",
       "    <tr>\n",
       "      <th>18067</th>\n",
       "      <td>1534</td>\n",
       "      <td>Альберт</td>\n",
       "      <td>25</td>\n",
       "      <td>Краснодар</td>\n",
       "      <td>free</td>\n",
       "      <td>2371.711192</td>\n",
       "      <td>16</td>\n",
       "      <td>2021-12-29</td>\n",
       "      <td>8</td>\n",
       "      <td>50</td>\n",
       "      <td>0</td>\n",
       "      <td>12</td>\n",
       "    </tr>\n",
       "  </tbody>\n",
       "</table>\n",
       "<p>11568 rows × 12 columns</p>\n",
       "</div>"
      ],
      "text/plain": [
       "       user_id     name  age       city subscription_type     distance  \\\n",
       "6500       700    Айдар   22       Омск              free  2515.690719   \n",
       "6501       700    Айдар   22       Омск              free   846.932642   \n",
       "6502       700    Айдар   22       Омск              free  4004.434142   \n",
       "6503       700    Айдар   22       Омск              free  1205.911290   \n",
       "6504       700    Айдар   22       Омск              free  3047.379435   \n",
       "...        ...      ...  ...        ...               ...          ...   \n",
       "18063     1534  Альберт   25  Краснодар              free  3781.098080   \n",
       "18064     1534  Альберт   25  Краснодар              free  2840.423057   \n",
       "18065     1534  Альберт   25  Краснодар              free  3826.185507   \n",
       "18066     1534  Альберт   25  Краснодар              free  2902.308661   \n",
       "18067     1534  Альберт   25  Краснодар              free  2371.711192   \n",
       "\n",
       "       duration       date  minute_price  start_ride_price  subscription_fee  \\\n",
       "6500         15 2021-01-02             8                50                 0   \n",
       "6501         17 2021-02-01             8                50                 0   \n",
       "6502         21 2021-02-04             8                50                 0   \n",
       "6503         10 2021-02-10             8                50                 0   \n",
       "6504         18 2021-02-14             8                50                 0   \n",
       "...         ...        ...           ...               ...               ...   \n",
       "18063        20 2021-11-04             8                50                 0   \n",
       "18064        22 2021-11-16             8                50                 0   \n",
       "18065        19 2021-11-18             8                50                 0   \n",
       "18066        17 2021-11-27             8                50                 0   \n",
       "18067        16 2021-12-29             8                50                 0   \n",
       "\n",
       "       month  \n",
       "6500       1  \n",
       "6501       2  \n",
       "6502       2  \n",
       "6503       2  \n",
       "6504       2  \n",
       "...      ...  \n",
       "18063     11  \n",
       "18064     11  \n",
       "18065     11  \n",
       "18066     11  \n",
       "18067     12  \n",
       "\n",
       "[11568 rows x 12 columns]"
      ]
     },
     "execution_count": 28,
     "metadata": {},
     "output_type": "execute_result"
    }
   ],
   "source": [
    "without_subscribe = data_final.query('subscription_type == \"free\"')\n",
    "without_subscribe"
   ]
  },
  {
   "cell_type": "markdown",
   "id": "41d6dcfd",
   "metadata": {},
   "source": [
    "**Вывод:** \n",
    "\n",
    "Уже видно, что пользователи без подписки совершают почти в 2 раза больше поездок (в 1,77 раз). А именно 11568."
   ]
  },
  {
   "cell_type": "markdown",
   "id": "86baf7db",
   "metadata": {},
   "source": [
    "### Создание датафрейма с данными о пользователях с подпиской"
   ]
  },
  {
   "cell_type": "code",
   "execution_count": 29,
   "id": "db436aca",
   "metadata": {},
   "outputs": [
    {
     "data": {
      "text/html": [
       "<div>\n",
       "<style scoped>\n",
       "    .dataframe tbody tr th:only-of-type {\n",
       "        vertical-align: middle;\n",
       "    }\n",
       "\n",
       "    .dataframe tbody tr th {\n",
       "        vertical-align: top;\n",
       "    }\n",
       "\n",
       "    .dataframe thead th {\n",
       "        text-align: right;\n",
       "    }\n",
       "</style>\n",
       "<table border=\"1\" class=\"dataframe\">\n",
       "  <thead>\n",
       "    <tr style=\"text-align: right;\">\n",
       "      <th></th>\n",
       "      <th>user_id</th>\n",
       "      <th>name</th>\n",
       "      <th>age</th>\n",
       "      <th>city</th>\n",
       "      <th>subscription_type</th>\n",
       "      <th>distance</th>\n",
       "      <th>duration</th>\n",
       "      <th>date</th>\n",
       "      <th>minute_price</th>\n",
       "      <th>start_ride_price</th>\n",
       "      <th>subscription_fee</th>\n",
       "      <th>month</th>\n",
       "    </tr>\n",
       "  </thead>\n",
       "  <tbody>\n",
       "    <tr>\n",
       "      <th>0</th>\n",
       "      <td>1</td>\n",
       "      <td>Кира</td>\n",
       "      <td>22</td>\n",
       "      <td>Тюмень</td>\n",
       "      <td>ultra</td>\n",
       "      <td>4409.919140</td>\n",
       "      <td>26</td>\n",
       "      <td>2021-01-01</td>\n",
       "      <td>6</td>\n",
       "      <td>0</td>\n",
       "      <td>199</td>\n",
       "      <td>1</td>\n",
       "    </tr>\n",
       "    <tr>\n",
       "      <th>1</th>\n",
       "      <td>1</td>\n",
       "      <td>Кира</td>\n",
       "      <td>22</td>\n",
       "      <td>Тюмень</td>\n",
       "      <td>ultra</td>\n",
       "      <td>2617.592153</td>\n",
       "      <td>16</td>\n",
       "      <td>2021-01-18</td>\n",
       "      <td>6</td>\n",
       "      <td>0</td>\n",
       "      <td>199</td>\n",
       "      <td>1</td>\n",
       "    </tr>\n",
       "    <tr>\n",
       "      <th>2</th>\n",
       "      <td>1</td>\n",
       "      <td>Кира</td>\n",
       "      <td>22</td>\n",
       "      <td>Тюмень</td>\n",
       "      <td>ultra</td>\n",
       "      <td>754.159807</td>\n",
       "      <td>7</td>\n",
       "      <td>2021-04-20</td>\n",
       "      <td>6</td>\n",
       "      <td>0</td>\n",
       "      <td>199</td>\n",
       "      <td>4</td>\n",
       "    </tr>\n",
       "    <tr>\n",
       "      <th>3</th>\n",
       "      <td>1</td>\n",
       "      <td>Кира</td>\n",
       "      <td>22</td>\n",
       "      <td>Тюмень</td>\n",
       "      <td>ultra</td>\n",
       "      <td>2694.783254</td>\n",
       "      <td>19</td>\n",
       "      <td>2021-08-11</td>\n",
       "      <td>6</td>\n",
       "      <td>0</td>\n",
       "      <td>199</td>\n",
       "      <td>8</td>\n",
       "    </tr>\n",
       "    <tr>\n",
       "      <th>4</th>\n",
       "      <td>1</td>\n",
       "      <td>Кира</td>\n",
       "      <td>22</td>\n",
       "      <td>Тюмень</td>\n",
       "      <td>ultra</td>\n",
       "      <td>4028.687306</td>\n",
       "      <td>27</td>\n",
       "      <td>2021-08-28</td>\n",
       "      <td>6</td>\n",
       "      <td>0</td>\n",
       "      <td>199</td>\n",
       "      <td>8</td>\n",
       "    </tr>\n",
       "    <tr>\n",
       "      <th>...</th>\n",
       "      <td>...</td>\n",
       "      <td>...</td>\n",
       "      <td>...</td>\n",
       "      <td>...</td>\n",
       "      <td>...</td>\n",
       "      <td>...</td>\n",
       "      <td>...</td>\n",
       "      <td>...</td>\n",
       "      <td>...</td>\n",
       "      <td>...</td>\n",
       "      <td>...</td>\n",
       "      <td>...</td>\n",
       "    </tr>\n",
       "    <tr>\n",
       "      <th>6495</th>\n",
       "      <td>699</td>\n",
       "      <td>Оксана</td>\n",
       "      <td>22</td>\n",
       "      <td>Москва</td>\n",
       "      <td>ultra</td>\n",
       "      <td>3973.046497</td>\n",
       "      <td>25</td>\n",
       "      <td>2021-08-29</td>\n",
       "      <td>6</td>\n",
       "      <td>0</td>\n",
       "      <td>199</td>\n",
       "      <td>8</td>\n",
       "    </tr>\n",
       "    <tr>\n",
       "      <th>6496</th>\n",
       "      <td>699</td>\n",
       "      <td>Оксана</td>\n",
       "      <td>22</td>\n",
       "      <td>Москва</td>\n",
       "      <td>ultra</td>\n",
       "      <td>3288.702563</td>\n",
       "      <td>16</td>\n",
       "      <td>2021-09-12</td>\n",
       "      <td>6</td>\n",
       "      <td>0</td>\n",
       "      <td>199</td>\n",
       "      <td>9</td>\n",
       "    </tr>\n",
       "    <tr>\n",
       "      <th>6497</th>\n",
       "      <td>699</td>\n",
       "      <td>Оксана</td>\n",
       "      <td>22</td>\n",
       "      <td>Москва</td>\n",
       "      <td>ultra</td>\n",
       "      <td>3076.159348</td>\n",
       "      <td>15</td>\n",
       "      <td>2021-09-26</td>\n",
       "      <td>6</td>\n",
       "      <td>0</td>\n",
       "      <td>199</td>\n",
       "      <td>9</td>\n",
       "    </tr>\n",
       "    <tr>\n",
       "      <th>6498</th>\n",
       "      <td>699</td>\n",
       "      <td>Оксана</td>\n",
       "      <td>22</td>\n",
       "      <td>Москва</td>\n",
       "      <td>ultra</td>\n",
       "      <td>4707.845501</td>\n",
       "      <td>16</td>\n",
       "      <td>2021-10-17</td>\n",
       "      <td>6</td>\n",
       "      <td>0</td>\n",
       "      <td>199</td>\n",
       "      <td>10</td>\n",
       "    </tr>\n",
       "    <tr>\n",
       "      <th>6499</th>\n",
       "      <td>699</td>\n",
       "      <td>Оксана</td>\n",
       "      <td>22</td>\n",
       "      <td>Москва</td>\n",
       "      <td>ultra</td>\n",
       "      <td>3202.890770</td>\n",
       "      <td>26</td>\n",
       "      <td>2021-12-03</td>\n",
       "      <td>6</td>\n",
       "      <td>0</td>\n",
       "      <td>199</td>\n",
       "      <td>12</td>\n",
       "    </tr>\n",
       "  </tbody>\n",
       "</table>\n",
       "<p>6500 rows × 12 columns</p>\n",
       "</div>"
      ],
      "text/plain": [
       "      user_id    name  age    city subscription_type     distance  duration  \\\n",
       "0           1    Кира   22  Тюмень             ultra  4409.919140        26   \n",
       "1           1    Кира   22  Тюмень             ultra  2617.592153        16   \n",
       "2           1    Кира   22  Тюмень             ultra   754.159807         7   \n",
       "3           1    Кира   22  Тюмень             ultra  2694.783254        19   \n",
       "4           1    Кира   22  Тюмень             ultra  4028.687306        27   \n",
       "...       ...     ...  ...     ...               ...          ...       ...   \n",
       "6495      699  Оксана   22  Москва             ultra  3973.046497        25   \n",
       "6496      699  Оксана   22  Москва             ultra  3288.702563        16   \n",
       "6497      699  Оксана   22  Москва             ultra  3076.159348        15   \n",
       "6498      699  Оксана   22  Москва             ultra  4707.845501        16   \n",
       "6499      699  Оксана   22  Москва             ultra  3202.890770        26   \n",
       "\n",
       "           date  minute_price  start_ride_price  subscription_fee  month  \n",
       "0    2021-01-01             6                 0               199      1  \n",
       "1    2021-01-18             6                 0               199      1  \n",
       "2    2021-04-20             6                 0               199      4  \n",
       "3    2021-08-11             6                 0               199      8  \n",
       "4    2021-08-28             6                 0               199      8  \n",
       "...         ...           ...               ...               ...    ...  \n",
       "6495 2021-08-29             6                 0               199      8  \n",
       "6496 2021-09-12             6                 0               199      9  \n",
       "6497 2021-09-26             6                 0               199      9  \n",
       "6498 2021-10-17             6                 0               199     10  \n",
       "6499 2021-12-03             6                 0               199     12  \n",
       "\n",
       "[6500 rows x 12 columns]"
      ]
     },
     "execution_count": 29,
     "metadata": {},
     "output_type": "execute_result"
    }
   ],
   "source": [
    "with_subscribe = data_final.query('subscription_type == \"ultra\"')\n",
    "with_subscribe"
   ]
  },
  {
   "cell_type": "markdown",
   "id": "35b16c88",
   "metadata": {},
   "source": [
    "**Вывод:** \n",
    "\n",
    "Пользователи с подпиской совершили 6500 поездок."
   ]
  },
  {
   "cell_type": "markdown",
   "id": "7290bccc",
   "metadata": {},
   "source": [
    "### Визуализация информации о расстоянии и времени поездок для пользователей без подписки"
   ]
  },
  {
   "cell_type": "markdown",
   "id": "149dc9a5",
   "metadata": {},
   "source": [
    "***Оценим расстояние***"
   ]
  },
  {
   "cell_type": "code",
   "execution_count": 30,
   "id": "a5d20535",
   "metadata": {},
   "outputs": [
    {
     "data": {
      "text/plain": [
       "count    11568.000000\n",
       "mean      3045.495282\n",
       "std       1246.173806\n",
       "min          0.855683\n",
       "25%       2366.562689\n",
       "50%       3114.648465\n",
       "75%       3905.697894\n",
       "max       7211.007745\n",
       "Name: distance, dtype: float64"
      ]
     },
     "execution_count": 30,
     "metadata": {},
     "output_type": "execute_result"
    }
   ],
   "source": [
    "without_subscribe['distance'].describe()"
   ]
  },
  {
   "cell_type": "code",
   "execution_count": 31,
   "id": "ce2c0f81",
   "metadata": {},
   "outputs": [
    {
     "data": {
      "image/png": "[encoded data removed]",
      "text/plain": [
       "<Figure size 720x360 with 1 Axes>"
      ]
     },
     "metadata": {
      "needs_background": "light"
     },
     "output_type": "display_data"
    }
   ],
   "source": [
    "without_subscribe['distance'].hist(figsize=(10, 5), range=(0, 7300), bins=50, ec='black', alpha=0.5)\n",
    "plt.title('Распределение расстояния, которое пользователь без подписки преодолел за одну поездку')\n",
    "plt.xlabel('Расстояние')\n",
    "plt.ylabel('Количество пользователей')\n",
    "plt.show()"
   ]
  },
  {
   "cell_type": "markdown",
   "id": "76c23c7c",
   "metadata": {},
   "source": [
    "**Вывод:** \n",
    "\n",
    "Пользователи без подписки в среднем проездают 3045м, при этом медиана - 3114м. Заметно большое стандартное отклонение - 1246. На диаграмме мы видем второй горб от 0 до 1000 метров, что говорит нам о том, что относительно большое количество людей без подписки совершают короткие поездки. максимальное расстояние поездки = 7211 м."
   ]
  },
  {
   "cell_type": "markdown",
   "id": "901f47de",
   "metadata": {},
   "source": [
    "***Оценим длительность***"
   ]
  },
  {
   "cell_type": "code",
   "execution_count": 32,
   "id": "a3990aab",
   "metadata": {},
   "outputs": [
    {
     "data": {
      "text/plain": [
       "count    11568.000000\n",
       "mean        17.890992\n",
       "std          6.330250\n",
       "min          1.000000\n",
       "25%         13.000000\n",
       "50%         18.000000\n",
       "75%         22.000000\n",
       "max         35.000000\n",
       "Name: duration, dtype: float64"
      ]
     },
     "execution_count": 32,
     "metadata": {},
     "output_type": "execute_result"
    }
   ],
   "source": [
    "without_subscribe['duration'].describe()"
   ]
  },
  {
   "cell_type": "code",
   "execution_count": 33,
   "id": "daf520e3",
   "metadata": {},
   "outputs": [
    {
     "data": {
      "image/png": "[encoded data removed]",
      "text/plain": [
       "<Figure size 720x360 with 1 Axes>"
      ]
     },
     "metadata": {
      "needs_background": "light"
     },
     "output_type": "display_data"
    }
   ],
   "source": [
    "without_subscribe['duration'].hist(figsize=(10, 5), range=(0, 35), bins=35, ec='black', alpha=0.5)\n",
    "plt.title('Распределение продолжительности поездки пользователей без подписки')\n",
    "plt.xlabel('Продолжительность поездки')\n",
    "plt.ylabel('Количество пользователей')\n",
    "plt.show()"
   ]
  },
  {
   "cell_type": "markdown",
   "id": "43e7e5d3",
   "metadata": {},
   "source": [
    "**Вывод:** \n",
    "\n",
    "Средняя длительность поездки на самокате у клиентов без подписки составляет 18 минут. при этом основная масса клиентов совершает поездки от 13 до 22 минут. Максимальная продолжительность - 35 минут."
   ]
  },
  {
   "cell_type": "markdown",
   "id": "1be6d84a",
   "metadata": {},
   "source": [
    "### Визуализация информации о расстоянии и времени поездок для пользователей с подпиской"
   ]
  },
  {
   "cell_type": "markdown",
   "id": "3519dd1c",
   "metadata": {},
   "source": [
    "***Оценим расстояние***"
   ]
  },
  {
   "cell_type": "code",
   "execution_count": 34,
   "id": "72875d66",
   "metadata": {},
   "outputs": [
    {
     "data": {
      "text/plain": [
       "count    6500.000000\n",
       "mean     3115.445388\n",
       "std       836.895330\n",
       "min       244.210438\n",
       "25%      2785.444017\n",
       "50%      3148.637229\n",
       "75%      3560.574425\n",
       "max      5699.769662\n",
       "Name: distance, dtype: float64"
      ]
     },
     "execution_count": 34,
     "metadata": {},
     "output_type": "execute_result"
    }
   ],
   "source": [
    "with_subscribe['distance'].describe()"
   ]
  },
  {
   "cell_type": "code",
   "execution_count": 35,
   "id": "10ce7dc3",
   "metadata": {},
   "outputs": [
    {
     "data": {
      "image/png": "[encoded data removed]",
      "text/plain": [
       "<Figure size 720x360 with 1 Axes>"
      ]
     },
     "metadata": {
      "needs_background": "light"
     },
     "output_type": "display_data"
    }
   ],
   "source": [
    "without_subscribe['distance'].hist(figsize=(10, 5), range=(0, 7300), bins=50, ec='black', alpha=0.5, label='без подписки')\n",
    "with_subscribe['distance'].hist(figsize=(10, 5), range=(0, 5700), bins=50, ec='black', alpha=0.5, label='с подпиской')\n",
    "plt.legend()\n",
    "plt.title('Распределение расстояния, которое пользователь с подпиской преодолел за одну поездку в сравнении с пользователями без подписки')\n",
    "plt.xlabel('Расстояние')\n",
    "plt.ylabel('Количество пользователей')\n",
    "plt.show()\n"
   ]
  },
  {
   "cell_type": "markdown",
   "id": "332e7777",
   "metadata": {},
   "source": [
    "**Вывод:** \n",
    "\n",
    "В среднем клиенты с подпиской проезжают на самокате 3148 метров (среднее - 3115, медиана 3148 метров), при этом в основной своей массе клиенты проезжают от 2785 до 3560 метров. Максимальная дистанция - 5699 метро, что на 1500 метров меньше, чем у пользователей без подписки."
   ]
  },
  {
   "cell_type": "markdown",
   "id": "a8539750",
   "metadata": {},
   "source": [
    "***Оценим длительность***"
   ]
  },
  {
   "cell_type": "code",
   "execution_count": 36,
   "id": "83634219",
   "metadata": {},
   "outputs": [
    {
     "data": {
      "text/plain": [
       "count    6500.000000\n",
       "mean       19.037692\n",
       "std         5.577439\n",
       "min         4.000000\n",
       "25%        15.000000\n",
       "50%        19.000000\n",
       "75%        22.000000\n",
       "max        41.000000\n",
       "Name: duration, dtype: float64"
      ]
     },
     "execution_count": 36,
     "metadata": {},
     "output_type": "execute_result"
    }
   ],
   "source": [
    "with_subscribe['duration'].describe()"
   ]
  },
  {
   "cell_type": "code",
   "execution_count": 37,
   "id": "88177eaa",
   "metadata": {},
   "outputs": [
    {
     "data": {
      "image/png": "[encoded data removed]",
      "text/plain": [
       "<Figure size 720x360 with 1 Axes>"
      ]
     },
     "metadata": {
      "needs_background": "light"
     },
     "output_type": "display_data"
    }
   ],
   "source": [
    "without_subscribe['duration'].hist(figsize=(10, 5), range=(0, 35), bins=35, ec='black', alpha=0.5, label='без подписки')\n",
    "with_subscribe['duration'].hist(figsize=(10, 5), range=(0, 45), bins=45, ec='black', alpha=0.5, label='с подпиской')\n",
    "plt.legend()\n",
    "plt.title('Распределение продолжительности поездки пользователей с подпиской в сравнении с пользователями без подписки')\n",
    "plt.xlabel('Продолжительность поездки')\n",
    "plt.ylabel('Количество пользователей')\n",
    "plt.show()"
   ]
  },
  {
   "cell_type": "markdown",
   "id": "eaf084c4",
   "metadata": {},
   "source": [
    "**Вывод:**  \n",
    "\n",
    "Средняя длительность поездки на самокате у клиентов с подпиской составляет 19 минут (без подписки 18 минут). При этом основная масса клиентов совершает поездки от 15 до 22 минут. Максимальная продолжительность - 41 минута (у пользователей без подписки 35 минут)."
   ]
  },
  {
   "cell_type": "markdown",
   "id": "402d620f",
   "metadata": {},
   "source": [
    "## Подсчёт выручки"
   ]
  },
  {
   "cell_type": "markdown",
   "id": "2c82e332",
   "metadata": {},
   "source": [
    "### Найдем суммарное расстояние, количество поездок и суммарное время для каждого пользователя за каждый месяц."
   ]
  },
  {
   "cell_type": "code",
   "execution_count": 38,
   "id": "0a334cad",
   "metadata": {},
   "outputs": [
    {
     "data": {
      "text/html": [
       "<div>\n",
       "<style scoped>\n",
       "    .dataframe tbody tr th:only-of-type {\n",
       "        vertical-align: middle;\n",
       "    }\n",
       "\n",
       "    .dataframe tbody tr th {\n",
       "        vertical-align: top;\n",
       "    }\n",
       "\n",
       "    .dataframe thead th {\n",
       "        text-align: right;\n",
       "    }\n",
       "</style>\n",
       "<table border=\"1\" class=\"dataframe\">\n",
       "  <thead>\n",
       "    <tr style=\"text-align: right;\">\n",
       "      <th></th>\n",
       "      <th>user_id</th>\n",
       "      <th>month</th>\n",
       "      <th>subscription_type</th>\n",
       "      <th>minute_price</th>\n",
       "      <th>start_ride_price</th>\n",
       "      <th>subscription_fee</th>\n",
       "      <th>sum_distance</th>\n",
       "      <th>number_of_rides</th>\n",
       "      <th>sum_duration</th>\n",
       "    </tr>\n",
       "  </thead>\n",
       "  <tbody>\n",
       "    <tr>\n",
       "      <th>0</th>\n",
       "      <td>1</td>\n",
       "      <td>1</td>\n",
       "      <td>ultra</td>\n",
       "      <td>6</td>\n",
       "      <td>0</td>\n",
       "      <td>199</td>\n",
       "      <td>7027.511294</td>\n",
       "      <td>2</td>\n",
       "      <td>42</td>\n",
       "    </tr>\n",
       "    <tr>\n",
       "      <th>1</th>\n",
       "      <td>1</td>\n",
       "      <td>4</td>\n",
       "      <td>ultra</td>\n",
       "      <td>6</td>\n",
       "      <td>0</td>\n",
       "      <td>199</td>\n",
       "      <td>754.159807</td>\n",
       "      <td>1</td>\n",
       "      <td>7</td>\n",
       "    </tr>\n",
       "    <tr>\n",
       "      <th>2</th>\n",
       "      <td>1</td>\n",
       "      <td>8</td>\n",
       "      <td>ultra</td>\n",
       "      <td>6</td>\n",
       "      <td>0</td>\n",
       "      <td>199</td>\n",
       "      <td>6723.470560</td>\n",
       "      <td>2</td>\n",
       "      <td>46</td>\n",
       "    </tr>\n",
       "    <tr>\n",
       "      <th>3</th>\n",
       "      <td>1</td>\n",
       "      <td>10</td>\n",
       "      <td>ultra</td>\n",
       "      <td>6</td>\n",
       "      <td>0</td>\n",
       "      <td>199</td>\n",
       "      <td>5809.911100</td>\n",
       "      <td>2</td>\n",
       "      <td>32</td>\n",
       "    </tr>\n",
       "    <tr>\n",
       "      <th>4</th>\n",
       "      <td>1</td>\n",
       "      <td>11</td>\n",
       "      <td>ultra</td>\n",
       "      <td>6</td>\n",
       "      <td>0</td>\n",
       "      <td>199</td>\n",
       "      <td>7003.499363</td>\n",
       "      <td>3</td>\n",
       "      <td>56</td>\n",
       "    </tr>\n",
       "    <tr>\n",
       "      <th>...</th>\n",
       "      <td>...</td>\n",
       "      <td>...</td>\n",
       "      <td>...</td>\n",
       "      <td>...</td>\n",
       "      <td>...</td>\n",
       "      <td>...</td>\n",
       "      <td>...</td>\n",
       "      <td>...</td>\n",
       "      <td>...</td>\n",
       "    </tr>\n",
       "    <tr>\n",
       "      <th>11326</th>\n",
       "      <td>1534</td>\n",
       "      <td>6</td>\n",
       "      <td>free</td>\n",
       "      <td>8</td>\n",
       "      <td>50</td>\n",
       "      <td>0</td>\n",
       "      <td>3409.468534</td>\n",
       "      <td>2</td>\n",
       "      <td>26</td>\n",
       "    </tr>\n",
       "    <tr>\n",
       "      <th>11327</th>\n",
       "      <td>1534</td>\n",
       "      <td>8</td>\n",
       "      <td>free</td>\n",
       "      <td>8</td>\n",
       "      <td>50</td>\n",
       "      <td>0</td>\n",
       "      <td>7622.453034</td>\n",
       "      <td>2</td>\n",
       "      <td>48</td>\n",
       "    </tr>\n",
       "    <tr>\n",
       "      <th>11328</th>\n",
       "      <td>1534</td>\n",
       "      <td>9</td>\n",
       "      <td>free</td>\n",
       "      <td>8</td>\n",
       "      <td>50</td>\n",
       "      <td>0</td>\n",
       "      <td>4928.173852</td>\n",
       "      <td>1</td>\n",
       "      <td>23</td>\n",
       "    </tr>\n",
       "    <tr>\n",
       "      <th>11329</th>\n",
       "      <td>1534</td>\n",
       "      <td>11</td>\n",
       "      <td>free</td>\n",
       "      <td>8</td>\n",
       "      <td>50</td>\n",
       "      <td>0</td>\n",
       "      <td>13350.015305</td>\n",
       "      <td>4</td>\n",
       "      <td>78</td>\n",
       "    </tr>\n",
       "    <tr>\n",
       "      <th>11330</th>\n",
       "      <td>1534</td>\n",
       "      <td>12</td>\n",
       "      <td>free</td>\n",
       "      <td>8</td>\n",
       "      <td>50</td>\n",
       "      <td>0</td>\n",
       "      <td>2371.711192</td>\n",
       "      <td>1</td>\n",
       "      <td>16</td>\n",
       "    </tr>\n",
       "  </tbody>\n",
       "</table>\n",
       "<p>11331 rows × 9 columns</p>\n",
       "</div>"
      ],
      "text/plain": [
       "       user_id  month subscription_type  minute_price  start_ride_price  \\\n",
       "0            1      1             ultra             6                 0   \n",
       "1            1      4             ultra             6                 0   \n",
       "2            1      8             ultra             6                 0   \n",
       "3            1     10             ultra             6                 0   \n",
       "4            1     11             ultra             6                 0   \n",
       "...        ...    ...               ...           ...               ...   \n",
       "11326     1534      6              free             8                50   \n",
       "11327     1534      8              free             8                50   \n",
       "11328     1534      9              free             8                50   \n",
       "11329     1534     11              free             8                50   \n",
       "11330     1534     12              free             8                50   \n",
       "\n",
       "       subscription_fee  sum_distance  number_of_rides  sum_duration  \n",
       "0                   199   7027.511294                2            42  \n",
       "1                   199    754.159807                1             7  \n",
       "2                   199   6723.470560                2            46  \n",
       "3                   199   5809.911100                2            32  \n",
       "4                   199   7003.499363                3            56  \n",
       "...                 ...           ...              ...           ...  \n",
       "11326                 0   3409.468534                2            26  \n",
       "11327                 0   7622.453034                2            48  \n",
       "11328                 0   4928.173852                1            23  \n",
       "11329                 0  13350.015305                4            78  \n",
       "11330                 0   2371.711192                1            16  \n",
       "\n",
       "[11331 rows x 9 columns]"
      ]
     },
     "execution_count": 38,
     "metadata": {},
     "output_type": "execute_result"
    }
   ],
   "source": [
    "df = data_final.pivot_table(index=['user_id', 'month', 'subscription_type','minute_price', \\\n",
    "                                   'start_ride_price', 'subscription_fee'], \\\n",
    "                            values=['distance', 'duration'], aggfunc={'distance':'sum', 'duration':{'sum', 'count'}}).reset_index()\n",
    "\n",
    "df.columns=('user_id', 'month', 'subscription_type','minute_price', 'start_ride_price', 'subscription_fee',\\\n",
    "            'sum_distance', 'number_of_rides', 'sum_duration')\n",
    "\n",
    "df"
   ]
  },
  {
   "cell_type": "markdown",
   "id": "a73f1cca",
   "metadata": {},
   "source": [
    "### В этот же датафрейм добавим столбец с помесячной выручкой, которую принёс каждый пользователь"
   ]
  },
  {
   "cell_type": "markdown",
   "id": "2513c966",
   "metadata": {},
   "source": [
    "Помесячная выручка считается по формуле: стоимость старта поездки ×  количество поездок + стоимость одной минуты поездки × общая продолжительность всех поездок в минутах + стоимость подписки."
   ]
  },
  {
   "cell_type": "code",
   "execution_count": 39,
   "id": "01351638",
   "metadata": {},
   "outputs": [
    {
     "data": {
      "text/html": [
       "<div>\n",
       "<style scoped>\n",
       "    .dataframe tbody tr th:only-of-type {\n",
       "        vertical-align: middle;\n",
       "    }\n",
       "\n",
       "    .dataframe tbody tr th {\n",
       "        vertical-align: top;\n",
       "    }\n",
       "\n",
       "    .dataframe thead th {\n",
       "        text-align: right;\n",
       "    }\n",
       "</style>\n",
       "<table border=\"1\" class=\"dataframe\">\n",
       "  <thead>\n",
       "    <tr style=\"text-align: right;\">\n",
       "      <th></th>\n",
       "      <th>user_id</th>\n",
       "      <th>month</th>\n",
       "      <th>subscription_type</th>\n",
       "      <th>minute_price</th>\n",
       "      <th>start_ride_price</th>\n",
       "      <th>subscription_fee</th>\n",
       "      <th>sum_distance</th>\n",
       "      <th>number_of_rides</th>\n",
       "      <th>sum_duration</th>\n",
       "      <th>month_revenue</th>\n",
       "    </tr>\n",
       "  </thead>\n",
       "  <tbody>\n",
       "    <tr>\n",
       "      <th>0</th>\n",
       "      <td>1</td>\n",
       "      <td>1</td>\n",
       "      <td>ultra</td>\n",
       "      <td>6</td>\n",
       "      <td>0</td>\n",
       "      <td>199</td>\n",
       "      <td>7027.511294</td>\n",
       "      <td>2</td>\n",
       "      <td>42</td>\n",
       "      <td>451</td>\n",
       "    </tr>\n",
       "    <tr>\n",
       "      <th>1</th>\n",
       "      <td>1</td>\n",
       "      <td>4</td>\n",
       "      <td>ultra</td>\n",
       "      <td>6</td>\n",
       "      <td>0</td>\n",
       "      <td>199</td>\n",
       "      <td>754.159807</td>\n",
       "      <td>1</td>\n",
       "      <td>7</td>\n",
       "      <td>241</td>\n",
       "    </tr>\n",
       "    <tr>\n",
       "      <th>2</th>\n",
       "      <td>1</td>\n",
       "      <td>8</td>\n",
       "      <td>ultra</td>\n",
       "      <td>6</td>\n",
       "      <td>0</td>\n",
       "      <td>199</td>\n",
       "      <td>6723.470560</td>\n",
       "      <td>2</td>\n",
       "      <td>46</td>\n",
       "      <td>475</td>\n",
       "    </tr>\n",
       "    <tr>\n",
       "      <th>3</th>\n",
       "      <td>1</td>\n",
       "      <td>10</td>\n",
       "      <td>ultra</td>\n",
       "      <td>6</td>\n",
       "      <td>0</td>\n",
       "      <td>199</td>\n",
       "      <td>5809.911100</td>\n",
       "      <td>2</td>\n",
       "      <td>32</td>\n",
       "      <td>391</td>\n",
       "    </tr>\n",
       "    <tr>\n",
       "      <th>4</th>\n",
       "      <td>1</td>\n",
       "      <td>11</td>\n",
       "      <td>ultra</td>\n",
       "      <td>6</td>\n",
       "      <td>0</td>\n",
       "      <td>199</td>\n",
       "      <td>7003.499363</td>\n",
       "      <td>3</td>\n",
       "      <td>56</td>\n",
       "      <td>535</td>\n",
       "    </tr>\n",
       "    <tr>\n",
       "      <th>...</th>\n",
       "      <td>...</td>\n",
       "      <td>...</td>\n",
       "      <td>...</td>\n",
       "      <td>...</td>\n",
       "      <td>...</td>\n",
       "      <td>...</td>\n",
       "      <td>...</td>\n",
       "      <td>...</td>\n",
       "      <td>...</td>\n",
       "      <td>...</td>\n",
       "    </tr>\n",
       "    <tr>\n",
       "      <th>11326</th>\n",
       "      <td>1534</td>\n",
       "      <td>6</td>\n",
       "      <td>free</td>\n",
       "      <td>8</td>\n",
       "      <td>50</td>\n",
       "      <td>0</td>\n",
       "      <td>3409.468534</td>\n",
       "      <td>2</td>\n",
       "      <td>26</td>\n",
       "      <td>308</td>\n",
       "    </tr>\n",
       "    <tr>\n",
       "      <th>11327</th>\n",
       "      <td>1534</td>\n",
       "      <td>8</td>\n",
       "      <td>free</td>\n",
       "      <td>8</td>\n",
       "      <td>50</td>\n",
       "      <td>0</td>\n",
       "      <td>7622.453034</td>\n",
       "      <td>2</td>\n",
       "      <td>48</td>\n",
       "      <td>484</td>\n",
       "    </tr>\n",
       "    <tr>\n",
       "      <th>11328</th>\n",
       "      <td>1534</td>\n",
       "      <td>9</td>\n",
       "      <td>free</td>\n",
       "      <td>8</td>\n",
       "      <td>50</td>\n",
       "      <td>0</td>\n",
       "      <td>4928.173852</td>\n",
       "      <td>1</td>\n",
       "      <td>23</td>\n",
       "      <td>234</td>\n",
       "    </tr>\n",
       "    <tr>\n",
       "      <th>11329</th>\n",
       "      <td>1534</td>\n",
       "      <td>11</td>\n",
       "      <td>free</td>\n",
       "      <td>8</td>\n",
       "      <td>50</td>\n",
       "      <td>0</td>\n",
       "      <td>13350.015305</td>\n",
       "      <td>4</td>\n",
       "      <td>78</td>\n",
       "      <td>824</td>\n",
       "    </tr>\n",
       "    <tr>\n",
       "      <th>11330</th>\n",
       "      <td>1534</td>\n",
       "      <td>12</td>\n",
       "      <td>free</td>\n",
       "      <td>8</td>\n",
       "      <td>50</td>\n",
       "      <td>0</td>\n",
       "      <td>2371.711192</td>\n",
       "      <td>1</td>\n",
       "      <td>16</td>\n",
       "      <td>178</td>\n",
       "    </tr>\n",
       "  </tbody>\n",
       "</table>\n",
       "<p>11331 rows × 10 columns</p>\n",
       "</div>"
      ],
      "text/plain": [
       "       user_id  month subscription_type  minute_price  start_ride_price  \\\n",
       "0            1      1             ultra             6                 0   \n",
       "1            1      4             ultra             6                 0   \n",
       "2            1      8             ultra             6                 0   \n",
       "3            1     10             ultra             6                 0   \n",
       "4            1     11             ultra             6                 0   \n",
       "...        ...    ...               ...           ...               ...   \n",
       "11326     1534      6              free             8                50   \n",
       "11327     1534      8              free             8                50   \n",
       "11328     1534      9              free             8                50   \n",
       "11329     1534     11              free             8                50   \n",
       "11330     1534     12              free             8                50   \n",
       "\n",
       "       subscription_fee  sum_distance  number_of_rides  sum_duration  \\\n",
       "0                   199   7027.511294                2            42   \n",
       "1                   199    754.159807                1             7   \n",
       "2                   199   6723.470560                2            46   \n",
       "3                   199   5809.911100                2            32   \n",
       "4                   199   7003.499363                3            56   \n",
       "...                 ...           ...              ...           ...   \n",
       "11326                 0   3409.468534                2            26   \n",
       "11327                 0   7622.453034                2            48   \n",
       "11328                 0   4928.173852                1            23   \n",
       "11329                 0  13350.015305                4            78   \n",
       "11330                 0   2371.711192                1            16   \n",
       "\n",
       "       month_revenue  \n",
       "0                451  \n",
       "1                241  \n",
       "2                475  \n",
       "3                391  \n",
       "4                535  \n",
       "...              ...  \n",
       "11326            308  \n",
       "11327            484  \n",
       "11328            234  \n",
       "11329            824  \n",
       "11330            178  \n",
       "\n",
       "[11331 rows x 10 columns]"
      ]
     },
     "execution_count": 39,
     "metadata": {},
     "output_type": "execute_result"
    }
   ],
   "source": [
    "df['month_revenue'] = df['start_ride_price'] * df['number_of_rides'] + df['minute_price'] * df['sum_duration'] \\\n",
    "+ df['subscription_fee']\n",
    "df"
   ]
  },
  {
   "cell_type": "code",
   "execution_count": 40,
   "id": "53c5462b",
   "metadata": {},
   "outputs": [
    {
     "data": {
      "image/png": "[encoded data removed]",
      "text/plain": [
       "<Figure size 720x360 with 1 Axes>"
      ]
     },
     "metadata": {
      "needs_background": "light"
     },
     "output_type": "display_data"
    }
   ],
   "source": [
    "df['month_revenue'].hist(figsize=(10, 5), bins=70, ec='black', alpha=0.5)\n",
    "plt.title('Распределение помесячной выручки, которую принёс каждый пользователь')\n",
    "plt.xlabel('Выручка от одного пользователя')\n",
    "plt.ylabel('Количество пользователей')\n",
    "plt.show()"
   ]
  },
  {
   "cell_type": "code",
   "execution_count": 41,
   "id": "9d5cdb0b",
   "metadata": {},
   "outputs": [
    {
     "data": {
      "text/plain": [
       "count    11331.000000\n",
       "mean       342.303504\n",
       "std        153.875346\n",
       "min         58.000000\n",
       "25%        234.000000\n",
       "50%        319.000000\n",
       "75%        415.000000\n",
       "max       1444.000000\n",
       "Name: month_revenue, dtype: float64"
      ]
     },
     "execution_count": 41,
     "metadata": {},
     "output_type": "execute_result"
    }
   ],
   "source": [
    "df['month_revenue'].describe()"
   ]
  },
  {
   "cell_type": "code",
   "execution_count": 42,
   "id": "b004f429",
   "metadata": {},
   "outputs": [
    {
     "name": "stdout",
     "output_type": "stream",
     "text": [
      "Общая сумма выручки = 3878641 рублей\n",
      "Общая сумма выручки клиентов с подпиской ultra = 1644537 рублей\n",
      "Общая сумма выручки клиентов без подписки = 2234104 рублей\n"
     ]
    }
   ],
   "source": [
    "print(f'Общая сумма выручки = {df[\"month_revenue\"].sum()} рублей')\n",
    "print(f'Общая сумма выручки клиентов с подпиской ultra = {(df.loc[df[\"subscription_type\"] == \"ultra\", \"month_revenue\"]).sum()} рублей')\n",
    "print(f'Общая сумма выручки клиентов без подписки = {(df.loc[df[\"subscription_type\"] == \"free\", \"month_revenue\"]).sum()} рублей')"
   ]
  },
  {
   "cell_type": "markdown",
   "id": "f044c77b",
   "metadata": {},
   "source": [
    "**Вывод:** \n",
    "\n",
    "Общая сумма выручки составила 3 878 641 рублей, при этом выручка от клиентов с подпиской ultra = 1 644 537 рублей, а без подписки в 1,35 раза больше и = 2 234 104 рублей, но ранее мы уже бедились, что пользователи без подписки совершают в 1,77 раз больше поездок."
   ]
  },
  {
   "cell_type": "markdown",
   "id": "a28613d1",
   "metadata": {},
   "source": [
    "### Оценим количество поездок на одного пользователя в месяц"
   ]
  },
  {
   "cell_type": "code",
   "execution_count": 43,
   "id": "59b80eb4",
   "metadata": {},
   "outputs": [
    {
     "data": {
      "text/plain": [
       "1    6564\n",
       "2    3279\n",
       "3    1092\n",
       "4     322\n",
       "5      64\n",
       "6       8\n",
       "7       2\n",
       "Name: number_of_rides, dtype: int64"
      ]
     },
     "execution_count": 43,
     "metadata": {},
     "output_type": "execute_result"
    }
   ],
   "source": [
    "df['number_of_rides'].value_counts()"
   ]
  },
  {
   "cell_type": "code",
   "execution_count": 44,
   "id": "3785ddde",
   "metadata": {},
   "outputs": [
    {
     "data": {
      "image/png": "[encoded data removed]",
      "text/plain": [
       "<Figure size 720x360 with 1 Axes>"
      ]
     },
     "metadata": {
      "needs_background": "light"
     },
     "output_type": "display_data"
    }
   ],
   "source": [
    "ax = df['number_of_rides'].value_counts(ascending=False).plot.bar(rot=0, ec='black', alpha=0.4, figsize=(10, 5))\n",
    "plt.title('Распределение количества поездок на одного пользователя в месяц')\n",
    "plt.xlabel('Количество поездок одного пользователя')\n",
    "plt.ylabel('Количество пользователей')\n",
    "\n",
    "plt.show()"
   ]
  },
  {
   "cell_type": "code",
   "execution_count": 45,
   "id": "b80656ec",
   "metadata": {},
   "outputs": [
    {
     "data": {
      "text/plain": [
       "count    11331.000000\n",
       "mean         1.594564\n",
       "std          0.831604\n",
       "min          1.000000\n",
       "25%          1.000000\n",
       "50%          1.000000\n",
       "75%          2.000000\n",
       "max          7.000000\n",
       "Name: number_of_rides, dtype: float64"
      ]
     },
     "execution_count": 45,
     "metadata": {},
     "output_type": "execute_result"
    }
   ],
   "source": [
    "df['number_of_rides'].describe()"
   ]
  },
  {
   "cell_type": "markdown",
   "id": "f60815af",
   "metadata": {},
   "source": [
    "**Вывод:** \n",
    "\n",
    "Количество поездок на одного пользователя в месяц в основной своей массе находится в пределах от 1 до 2 шт. В среднем один пользователь совершает 1 поездку. Минимальное количество поездок на 1 пользователя - 1, максимальное - 7."
   ]
  },
  {
   "cell_type": "markdown",
   "id": "41545ac0",
   "metadata": {},
   "source": [
    "##  Проверка гипотез"
   ]
  },
  {
   "cell_type": "markdown",
   "id": "0ce8f999",
   "metadata": {},
   "source": [
    "### Проверка гипотезы - пользователи с подпиской тратят больше времени на поездки\n",
    "\n",
    "Если да, то пользователи с подпиской могут быть «выгоднее» для компании. "
   ]
  },
  {
   "cell_type": "markdown",
   "id": "eb54d147",
   "metadata": {},
   "source": [
    "**Нулевая гипотеза Н0:** Средняя продолжительность поездки одинакова у пользователей с подпиской и без подписки\n",
    "\n",
    "**Альтернативная гипотеза Н1:** Средняя продолжительность поездок у пользователей с подпиской больше, чем у пользователей без подписке"
   ]
  },
  {
   "cell_type": "code",
   "execution_count": 46,
   "id": "1dcbc142",
   "metadata": {},
   "outputs": [
    {
     "name": "stdout",
     "output_type": "stream",
     "text": [
      "Среднее выборки с подпиской 19.037692307692307\n",
      "Среднее выборки без подписки 17.890992392807746\n",
      "\n",
      "2.4959453720736625e-34\n",
      "\n",
      "Отвергаем нулевую гипотезу\n"
     ]
    }
   ],
   "source": [
    "ultra_duration = with_subscribe['duration']\n",
    "free_duration = without_subscribe['duration']\n",
    "\n",
    "print(f'Среднее выборки с подпиской {np.mean(ultra_duration)}')\n",
    "print(f'Среднее выборки без подписки {np.mean(free_duration)}')\n",
    "print()\n",
    "\n",
    "alpha = 0.05\n",
    "\n",
    "results = st.ttest_ind(ultra_duration, free_duration, alternative='greater')\n",
    "print(results.pvalue)\n",
    "print()\n",
    "\n",
    "if results.pvalue < alpha:\n",
    "    print('Отвергаем нулевую гипотезу')\n",
    "else:\n",
    "    print('Не получилось отвергнуть нулевую гипотезу')"
   ]
  },
  {
   "cell_type": "markdown",
   "id": "8c1dd9bd",
   "metadata": {},
   "source": [
    "**Вывод:** \n",
    "\n",
    "Нулевую гипотезу удалось отвергнуть, то есть все шансы утверждать, что средняя продолжительность поездок у пользователей с подпиской больше, чем у пользователей без подписки"
   ]
  },
  {
   "cell_type": "markdown",
   "id": "1554bdff",
   "metadata": {},
   "source": [
    "### Проверка гипотезы - среднее расстояние, которое проезжают пользователи с подпиской за одну поездку, не превышает 3130 метров"
   ]
  },
  {
   "cell_type": "markdown",
   "id": "dda85482",
   "metadata": {},
   "source": [
    "**Нулевая гипотеза Н0:** Среднее расстояние 1 поездки пользователей с подпиской равна оптимальному расстоянию 3130 метров\n",
    "\n",
    "**Альтернативная гипотеза Н1:** Среднее расстояние 1 поездки пользователей с подпиской больше оптимального расстояния 3130 метров\n"
   ]
  },
  {
   "cell_type": "code",
   "execution_count": 47,
   "id": "4b446d31",
   "metadata": {},
   "outputs": [
    {
     "name": "stdout",
     "output_type": "stream",
     "text": [
      "Среднее выборки с подпиской 3115.4453880370247\n",
      "Среднее выборки без подписки 3045.495281671816\n",
      "\n",
      "0.9195368847849785\n",
      "\n",
      "Не получилось отвергнуть нулевую гипотезу\n"
     ]
    }
   ],
   "source": [
    "ultra_distance = with_subscribe['distance']\n",
    "free_distance = without_subscribe['distance']\n",
    "\n",
    "print(f'Среднее выборки с подпиской {np.mean(ultra_distance)}')\n",
    "print(f'Среднее выборки без подписки {np.mean(free_distance)}')\n",
    "print()\n",
    "\n",
    "value = 3130\n",
    "alpha = 0.05\n",
    "\n",
    "results = st.ttest_1samp(ultra_distance, value, alternative='greater')\n",
    "print(results.pvalue)\n",
    "print()\n",
    "\n",
    "if results.pvalue < alpha:\n",
    "    print('Отвергаем нулевую гипотезу')\n",
    "else:\n",
    "    print('Не получилось отвергнуть нулевую гипотезу')"
   ]
  },
  {
   "cell_type": "markdown",
   "id": "7e6a0a60",
   "metadata": {},
   "source": [
    "**Вывод:** \n",
    "\n",
    "Не удалось отвергнуть нулевую гипотезу, а значит, что есть все основания утверждать, что среднее расстояние 1 поездки пользователей с подпиской меньше оптимального расстояния 3130 метров с точки зрения износа самоката"
   ]
  },
  {
   "cell_type": "markdown",
   "id": "7ebc1bcb",
   "metadata": {},
   "source": [
    "### Проверяем гипотезу - помесячная выручка от пользователей с подпиской по месяцам выше, чем выручка от пользователей без подписки"
   ]
  },
  {
   "cell_type": "markdown",
   "id": "5ee453c4",
   "metadata": {},
   "source": [
    "**Нулевая гипотеза Н0:** Помесячная выручка от пользователей с подпиской по месяцам равна выручке от пользователей без подписки\n",
    "\n",
    "**Альтернативная гипотеза Н1:** Помесячная выручка от пользователей с подпиской по месяцам выше, чем выручка от пользователей без подписки\n"
   ]
  },
  {
   "cell_type": "code",
   "execution_count": 48,
   "id": "514b1627",
   "metadata": {},
   "outputs": [
    {
     "name": "stdout",
     "output_type": "stream",
     "text": [
      "Среднее выборки с подпиской 362.7921906022502\n",
      "Среднее выборки без подписки 328.6413651073845\n",
      "\n",
      "1.8850394384715216e-31\n",
      "\n",
      "Отвергаем нулевую гипотезу\n"
     ]
    }
   ],
   "source": [
    "ultra_month_revenue = df.loc[df['subscription_type'] == 'ultra', 'month_revenue']\n",
    "free_month_revenue = df.loc[df['subscription_type'] == 'free', 'month_revenue']\n",
    "\n",
    "print(f'Среднее выборки с подпиской {np.mean(ultra_month_revenue)}')\n",
    "print(f'Среднее выборки без подписки {np.mean(free_month_revenue)}')\n",
    "print()\n",
    "\n",
    "alpha = 0.05\n",
    "\n",
    "results = st.ttest_ind(ultra_month_revenue, free_month_revenue, alternative='greater')\n",
    "print(results.pvalue)\n",
    "print()\n",
    "\n",
    "if results.pvalue < alpha:\n",
    "    print('Отвергаем нулевую гипотезу')\n",
    "else:\n",
    "    print('Не получилось отвергнуть нулевую гипотезу')"
   ]
  },
  {
   "cell_type": "markdown",
   "id": "4aacff8f",
   "metadata": {},
   "source": [
    "**Вывод:** \n",
    "\n",
    "Нулевую гипотезу удалось отвергнуть, то есть мы можем утверждат, что помесячная выручка от пользователей с подпиской по месяцам больше выручки от пользователей без подписки"
   ]
  },
  {
   "cell_type": "markdown",
   "id": "61213c5e",
   "metadata": {},
   "source": [
    "##  Распределения"
   ]
  },
  {
   "cell_type": "markdown",
   "id": "ad2e3e7f",
   "metadata": {},
   "source": [
    "7.1 Отделу маркетинга GoFast поставили задачу: нужно провести акцию с раздачей промокодов на один бесплатный месяц подписки, в рамках которой как минимум \n",
    "100 существующих клиентов должны продлить эту подписку. То есть по завершении периода действия подписки пользователь может либо отказаться от неё, либо продлить, совершив соответствующий платёж. \n",
    "\n",
    "Эта акция уже проводилась ранее и по итогу выяснилось, что после бесплатного пробного периода подписку продлевают \n",
    "10 % пользователей. Выясните, какое минимальное количество промокодов нужно разослать, чтобы вероятность не выполнить план была примерно \n",
    "5 %. Подберите параметры распределения, описывающего эту ситуацию, постройте график распределения и сформулируйте ответ на вопрос о количестве промокодов."
   ]
  },
  {
   "cell_type": "code",
   "execution_count": 51,
   "id": "90167c5c",
   "metadata": {},
   "outputs": [
    {
     "name": "stdout",
     "output_type": "stream",
     "text": [
      "Минимальное количество промокодов нужно разослать = 1161\n"
     ]
    },
    {
     "data": {
      "image/png": "[encoded data removed]",
      "text/plain": [
       "<Figure size 720x432 with 1 Axes>"
      ]
     },
     "metadata": {
      "needs_background": "light"
     },
     "output_type": "display_data"
    }
   ],
   "source": [
    "p = 0.1 # вероятность того, что клиент продлит подписку\n",
    "k = 100 # количество требуемых успехов\n",
    "\n",
    "def min_n(p, k):\n",
    "    n = 1 # количество разосланных промокодов ?\n",
    "    \n",
    "    while True:\n",
    "        prob = st.binom.cdf(k-1, n, p)\n",
    "        if prob <= 0.05:\n",
    "            return n\n",
    "        n +=1\n",
    "    \n",
    "\n",
    "new_n = min_n(p, k)\n",
    "print(f'Минимальное количество промокодов нужно разослать = {new_n}')\n",
    "\n",
    "# Построение графика распределения\n",
    "x = np.arange(0, new_n+1)\n",
    "binom_pmf = st.binom.pmf(x, new_n, p)\n",
    "\n",
    "plt.figure(figsize=(10, 6))\n",
    "plt.bar(x, binom_pmf, color='skyblue')\n",
    "plt.axvline(k, color='red', linestyle='--', label='Требуемое количество продлений')\n",
    "plt.title(f'Биномиальное распределение при(n={min_n}, p={p})')\n",
    "plt.xlabel('Количество продлений подписки')\n",
    "plt.ylabel('Вероятность')\n",
    "plt.legend()\n",
    "plt.show()"
   ]
  },
  {
   "cell_type": "markdown",
   "id": "f45c7430",
   "metadata": {},
   "source": [
    "**Вывод**\n",
    "\n",
    "Необходимо довести до подписчиков как минимум 1161 промокода, для того чтобы как минимум 100 существующих клиентов продлили подписку (продлевают подписку 10% пролучивших промокод) с вероятностью 5% не выполнить план."
   ]
  },
  {
   "cell_type": "markdown",
   "id": "f0bd5466",
   "metadata": {},
   "source": [
    "<div style=\"border:solid orange 2px; padding: 40px\">\n",
    "    \n",
    "**Общий вывод исследования данных:** \n",
    "    \n",
    "    1. Реже всего самокаты использовали в Москве, чаще всего в Пятигорске и Екатеринбурге.\n",
    "    2. Пользователей без подписки немного больше (54,43 %), чем пользователей с подпиской (45,56%)\n",
    "    3. Минимальный возраст пользователей самокатов 12 лет, максимальный 43 года. Однако, чаще всего самокатом пользуются люди в возрасте от 20 до 30 лет. Средняя и медиана у нас практически равны и составляют 25 лет.\n",
    "    4. Оценивая расстояния, которое пользователь преодолел за одну поездку - Мы видим 2 пика: с вершиной на 700 метрах и с вершиной на 3100 метрах. При чем на длинные расстояния самокаты пользуются намного большим спросом. Первый квартиль у нас находится на отметке 2543 метра, третий - 3776 метров. Среднее расстояние, которое проезжают пользователи - 3070 метров.\n",
    "    \n",
    "    - Пользователи без подписки в среднем проезжают 3045м, при этом медиана - 3114м. Заметно большое стандартное отклонение - 1246. На диаграмме мы видим второй горб от 0 до 1000 метров, что говорит нам о том, что относительно большое количество людей без подписки совершают короткие поездки. Максимальное расстояние поездки = 7211 м.\n",
    "    - В среднем клиенты с подпиской проезжают на самокате 3148 метров (среднее - 3115, медиана 3148 метров), при этом в основной своей массе клиенты проезжают от 2785 до 3560 метров. Максимальная дистанция - 5699 метро, что на 1500 метров меньше, чем у пользователей без подписки.\n",
    "    \n",
    "    5. Основная продолжительность поездок распределена между 14 и 22 минутами. Средняя и медиана практически равны и составляют 18 минут. Мы видим небольшой пик на 2-х минутах, предположительно это те самые \"популярные\" короткие поездки. Минимальная продолжительность поездки 1 минута, максимальная - 41 минута.\n",
    "    \n",
    "    - Средняя длительность поездки на самокате у клиентов без подписки составляет 18 минут. при этом основная масса клиентов совершает поездки от 13 до 22 минут. Максимальная продолжительность - 35 минут.\n",
    "    - Средняя длительность поездки на самокате у клиентов с подпиской составляет 19 минут (без подписки 18 минут). При этом основная масса клиентов совершает поездки от 15 до 22 минут. Максимальная продолжительность - 41 минута (у пользователей без подписки 35 минут).\n",
    "    \n",
    "    6. Количество поездок на одного пользователя в месяц в основной своей массе находится в пределах от 1 до 2 шт. В среднем один пользователь совершает 1 поездку. Минимальное количество поездок на 1 пользователя - 1, максимальное - 7.\n",
    "    \n",
    "    - пользователи без подписки за все время выборки совершили почти в 2 раза больше поездок (в 1,77 раз). А именно 11568.\n",
    "    - Пользователи с подпиской совершили 6500 поездок.\n",
    "    \n",
    "    7. Общая сумма выручки составила 3 878 641 рублей, при этом выручка от клиентов с подпиской ultra = 1 644 537 рублей, а без подписки в 1,35 раза больше и = 2 234 104 рублей, но ранее мы уже бедились, что пользователи без подписки совершают в 1,77 раз больше поездок.\n",
    "    \n",
    "    \n",
    "**Общий вывод после проверки гипотез:** \n",
    "    \n",
    "    1. Есть все шансы утверждать, что средняя продолжительность поездок у пользователей с подпиской больше, чем у пользователей без подписки\n",
    "    2. Есть все основания утверждать, что среднее расстояние 1 поездки пользователей с подпиской меньше оптимального расстояния 3130 метров с точки зрения износа самоката\n",
    "    3. Мы можем утверждат, что помесячная выручка от пользователей с подпиской по месяцам больше выручки от пользователей без подписки\n",
    "    \n",
    "**Итог:**\n",
    "    \n",
    "    Видно, что пользователей пользователей без подписки немного больше (54,43 %), чем пользователей с подпиской (45,56%), однако выручка от одного пользователя с подпиской привышает выручку пользоваиеля без подписки. \n",
    "    \n",
    "    Рекомендация - целесообразно проводить акции с целью увеличения количества пользователей с подпиской, так как исследование показало, что помесячная выручка от пользователей с подпиской по месяцам больше выручки от пользователей без подписки, среднее расстояние, которое они проезжают не превышает нормы с точки зрения износа самоката\n",
    "    \n",
    "    Необходимо довести до подписчиков как минимум 1161 промокода, для того чтобы как минимум 100 существующих клиентов продлили подписку (продлевают подписку 10% пролучивших промокод) с вероятностью 5% не выполнить план.\n",
    "    \n",
    " </div>"
   ]
  }
 ],
 "metadata": {
  "ExecuteTimeLog": [
   {
    "duration": 1454,
    "start_time": "2024-09-10T10:16:06.504Z"
   },
   {
    "duration": 3,
    "start_time": "2024-09-10T10:23:42.201Z"
   },
   {
    "duration": 3,
    "start_time": "2024-09-10T10:45:19.945Z"
   },
   {
    "duration": 122,
    "start_time": "2024-09-10T10:47:56.598Z"
   },
   {
    "duration": 47,
    "start_time": "2024-09-10T10:48:08.734Z"
   },
   {
    "duration": 331,
    "start_time": "2024-09-10T10:51:01.272Z"
   },
   {
    "duration": 25,
    "start_time": "2024-09-10T10:51:44.803Z"
   },
   {
    "duration": 55,
    "start_time": "2024-09-10T10:52:06.135Z"
   },
   {
    "duration": 25,
    "start_time": "2024-09-10T10:52:23.982Z"
   },
   {
    "duration": 26,
    "start_time": "2024-09-10T10:53:04.665Z"
   },
   {
    "duration": 25,
    "start_time": "2024-09-10T10:53:15.715Z"
   },
   {
    "duration": 27,
    "start_time": "2024-09-10T10:55:56.439Z"
   },
   {
    "duration": 9,
    "start_time": "2024-09-10T11:03:00.067Z"
   },
   {
    "duration": 27,
    "start_time": "2024-09-10T11:03:11.378Z"
   },
   {
    "duration": 35,
    "start_time": "2024-09-10T11:03:26.448Z"
   },
   {
    "duration": 28,
    "start_time": "2024-09-10T11:03:30.519Z"
   },
   {
    "duration": 20,
    "start_time": "2024-09-10T11:03:43.053Z"
   },
   {
    "duration": 63,
    "start_time": "2024-09-10T12:54:05.204Z"
   },
   {
    "duration": 4,
    "start_time": "2024-09-10T12:54:09.103Z"
   },
   {
    "duration": 57,
    "start_time": "2024-09-10T12:54:09.499Z"
   },
   {
    "duration": 91,
    "start_time": "2024-09-10T12:54:37.078Z"
   },
   {
    "duration": 3,
    "start_time": "2024-09-10T12:59:32.626Z"
   },
   {
    "duration": 91,
    "start_time": "2024-09-10T12:59:33.318Z"
   },
   {
    "duration": 27,
    "start_time": "2024-09-10T12:59:34.838Z"
   },
   {
    "duration": 15,
    "start_time": "2024-09-10T12:59:37.150Z"
   },
   {
    "duration": 103,
    "start_time": "2024-09-10T14:26:12.696Z"
   },
   {
    "duration": 14,
    "start_time": "2024-09-10T14:26:15.552Z"
   },
   {
    "duration": 17,
    "start_time": "2024-09-10T14:26:28.520Z"
   },
   {
    "duration": 19,
    "start_time": "2024-09-10T14:26:30.175Z"
   },
   {
    "duration": 404,
    "start_time": "2024-09-10T14:27:03.408Z"
   },
   {
    "duration": 298,
    "start_time": "2024-09-10T14:27:19.471Z"
   },
   {
    "duration": 423,
    "start_time": "2024-09-10T14:27:25.120Z"
   },
   {
    "duration": 11,
    "start_time": "2024-09-10T14:28:28.665Z"
   },
   {
    "duration": 4,
    "start_time": "2024-09-10T14:28:37.441Z"
   },
   {
    "duration": 9,
    "start_time": "2024-09-10T14:28:50.248Z"
   },
   {
    "duration": 4,
    "start_time": "2024-09-10T14:28:54.432Z"
   },
   {
    "duration": 9,
    "start_time": "2024-09-10T14:29:00.264Z"
   },
   {
    "duration": 4,
    "start_time": "2024-09-10T14:29:10.032Z"
   },
   {
    "duration": 9,
    "start_time": "2024-09-10T14:29:19.615Z"
   },
   {
    "duration": 5,
    "start_time": "2024-09-10T14:29:38.845Z"
   },
   {
    "duration": 9,
    "start_time": "2024-09-10T14:30:13.584Z"
   },
   {
    "duration": 12,
    "start_time": "2024-09-10T14:30:53.369Z"
   },
   {
    "duration": 10,
    "start_time": "2024-09-10T14:31:17.201Z"
   },
   {
    "duration": 7,
    "start_time": "2024-09-10T14:31:21.144Z"
   },
   {
    "duration": 6,
    "start_time": "2024-09-10T14:31:28.760Z"
   },
   {
    "duration": 2,
    "start_time": "2024-09-10T14:38:53.549Z"
   },
   {
    "duration": 24,
    "start_time": "2024-09-10T14:39:00.778Z"
   },
   {
    "duration": 2,
    "start_time": "2024-09-10T14:39:22.356Z"
   },
   {
    "duration": 2,
    "start_time": "2024-09-10T14:39:54.859Z"
   },
   {
    "duration": 12,
    "start_time": "2024-09-10T14:40:37.715Z"
   },
   {
    "duration": 11,
    "start_time": "2024-09-10T14:40:45.510Z"
   },
   {
    "duration": 7,
    "start_time": "2024-09-10T14:41:03.922Z"
   },
   {
    "duration": 7,
    "start_time": "2024-09-10T14:41:36.586Z"
   },
   {
    "duration": 4,
    "start_time": "2024-09-10T14:42:17.476Z"
   },
   {
    "duration": 10,
    "start_time": "2024-09-10T14:43:09.002Z"
   },
   {
    "duration": 11,
    "start_time": "2024-09-10T14:43:14.450Z"
   },
   {
    "duration": 7,
    "start_time": "2024-09-10T14:45:09.627Z"
   },
   {
    "duration": 6,
    "start_time": "2024-09-10T14:45:12.796Z"
   },
   {
    "duration": 6,
    "start_time": "2024-09-10T14:45:18.259Z"
   },
   {
    "duration": 7,
    "start_time": "2024-09-10T14:45:18.627Z"
   },
   {
    "duration": 57,
    "start_time": "2024-09-10T14:47:10.172Z"
   },
   {
    "duration": 5,
    "start_time": "2024-09-10T14:49:47.772Z"
   },
   {
    "duration": 2,
    "start_time": "2024-09-10T14:51:01.822Z"
   },
   {
    "duration": 4,
    "start_time": "2024-09-10T14:51:34.228Z"
   },
   {
    "duration": 5,
    "start_time": "2024-09-10T14:52:15.854Z"
   },
   {
    "duration": 11,
    "start_time": "2024-09-10T14:54:18.863Z"
   },
   {
    "duration": 3,
    "start_time": "2024-09-10T14:56:07.589Z"
   },
   {
    "duration": 7,
    "start_time": "2024-09-10T14:56:18.710Z"
   },
   {
    "duration": 9,
    "start_time": "2024-09-10T15:03:27.177Z"
   },
   {
    "duration": 282,
    "start_time": "2024-09-10T15:03:29.591Z"
   },
   {
    "duration": 153,
    "start_time": "2024-09-10T15:03:38.080Z"
   },
   {
    "duration": 57,
    "start_time": "2024-09-10T15:04:19.951Z"
   },
   {
    "duration": 178,
    "start_time": "2024-09-10T15:04:41.261Z"
   },
   {
    "duration": 220,
    "start_time": "2024-09-10T15:04:52.624Z"
   },
   {
    "duration": 207,
    "start_time": "2024-09-10T15:04:58.080Z"
   },
   {
    "duration": 2,
    "start_time": "2024-09-10T15:07:40.337Z"
   },
   {
    "duration": 18,
    "start_time": "2024-09-10T15:09:09.144Z"
   },
   {
    "duration": 9,
    "start_time": "2024-09-10T15:09:43.718Z"
   },
   {
    "duration": 9,
    "start_time": "2024-09-10T15:09:47.344Z"
   },
   {
    "duration": 3,
    "start_time": "2024-09-10T15:10:58.880Z"
   },
   {
    "duration": 216,
    "start_time": "2024-09-10T15:11:46.777Z"
   },
   {
    "duration": 204,
    "start_time": "2024-09-10T15:11:48.945Z"
   },
   {
    "duration": 250,
    "start_time": "2024-09-10T15:11:55.904Z"
   },
   {
    "duration": 212,
    "start_time": "2024-09-10T15:12:00.529Z"
   },
   {
    "duration": 202,
    "start_time": "2024-09-10T15:12:05.017Z"
   },
   {
    "duration": 243,
    "start_time": "2024-09-10T15:12:25.473Z"
   },
   {
    "duration": 202,
    "start_time": "2024-09-10T15:12:41.153Z"
   },
   {
    "duration": 204,
    "start_time": "2024-09-10T15:13:28.785Z"
   },
   {
    "duration": 205,
    "start_time": "2024-09-10T15:14:16.608Z"
   },
   {
    "duration": 8,
    "start_time": "2024-09-10T15:14:16.815Z"
   },
   {
    "duration": 225,
    "start_time": "2024-09-10T15:14:16.824Z"
   },
   {
    "duration": 9,
    "start_time": "2024-09-10T15:14:17.052Z"
   },
   {
    "duration": 216,
    "start_time": "2024-09-10T15:14:19.778Z"
   },
   {
    "duration": 306,
    "start_time": "2024-09-10T15:14:27.298Z"
   },
   {
    "duration": 194,
    "start_time": "2024-09-10T15:14:32.577Z"
   },
   {
    "duration": 53,
    "start_time": "2024-09-10T15:21:58.170Z"
   },
   {
    "duration": 186,
    "start_time": "2024-09-10T15:22:02.243Z"
   },
   {
    "duration": 152,
    "start_time": "2024-09-10T15:22:13.059Z"
   },
   {
    "duration": 51,
    "start_time": "2024-09-10T15:22:26.203Z"
   },
   {
    "duration": 134,
    "start_time": "2024-09-10T15:22:31.714Z"
   },
   {
    "duration": 134,
    "start_time": "2024-09-10T15:23:02.923Z"
   },
   {
    "duration": 141,
    "start_time": "2024-09-10T15:23:08.571Z"
   },
   {
    "duration": 141,
    "start_time": "2024-09-10T15:23:12.147Z"
   },
   {
    "duration": 10,
    "start_time": "2024-09-10T15:23:55.820Z"
   },
   {
    "duration": 6,
    "start_time": "2024-09-10T15:24:02.915Z"
   },
   {
    "duration": 6,
    "start_time": "2024-09-10T15:24:23.899Z"
   },
   {
    "duration": 141,
    "start_time": "2024-09-10T15:24:44.635Z"
   },
   {
    "duration": 140,
    "start_time": "2024-09-10T15:25:04.136Z"
   },
   {
    "duration": 19,
    "start_time": "2024-09-10T15:35:36.229Z"
   },
   {
    "duration": 11,
    "start_time": "2024-09-10T15:35:54.029Z"
   },
   {
    "duration": 14,
    "start_time": "2024-09-10T15:36:27.085Z"
   },
   {
    "duration": 908,
    "start_time": "2024-09-10T15:37:21.157Z"
   },
   {
    "duration": 18552,
    "start_time": "2024-09-10T15:37:39.269Z"
   },
   {
    "duration": 15,
    "start_time": "2024-09-10T15:38:13.389Z"
   },
   {
    "duration": 155,
    "start_time": "2024-09-10T15:38:38.342Z"
   },
   {
    "duration": 154,
    "start_time": "2024-09-10T15:38:50.901Z"
   },
   {
    "duration": 6,
    "start_time": "2024-09-10T15:40:36.126Z"
   },
   {
    "duration": 8,
    "start_time": "2024-09-10T15:42:34.149Z"
   },
   {
    "duration": 161,
    "start_time": "2024-09-10T15:43:23.238Z"
   },
   {
    "duration": 6,
    "start_time": "2024-09-10T15:43:53.966Z"
   },
   {
    "duration": 132,
    "start_time": "2024-09-10T15:44:36.830Z"
   },
   {
    "duration": 133,
    "start_time": "2024-09-10T15:48:20.783Z"
   },
   {
    "duration": 133,
    "start_time": "2024-09-10T15:48:31.334Z"
   },
   {
    "duration": 60,
    "start_time": "2024-09-10T15:49:44.518Z"
   },
   {
    "duration": 65,
    "start_time": "2024-09-10T15:49:59.169Z"
   },
   {
    "duration": 315,
    "start_time": "2024-09-10T15:50:10.039Z"
   },
   {
    "duration": 130,
    "start_time": "2024-09-10T15:50:14.447Z"
   },
   {
    "duration": 9,
    "start_time": "2024-09-10T17:16:09.741Z"
   },
   {
    "duration": 125,
    "start_time": "2024-09-10T17:16:57.188Z"
   },
   {
    "duration": 140,
    "start_time": "2024-09-10T17:18:29.604Z"
   },
   {
    "duration": 111,
    "start_time": "2024-09-10T17:19:58.413Z"
   },
   {
    "duration": 214,
    "start_time": "2024-09-10T17:21:28.125Z"
   },
   {
    "duration": 220,
    "start_time": "2024-09-10T17:23:14.438Z"
   },
   {
    "duration": 130,
    "start_time": "2024-09-10T17:23:22.741Z"
   },
   {
    "duration": 126,
    "start_time": "2024-09-10T17:23:55.557Z"
   },
   {
    "duration": 123,
    "start_time": "2024-09-10T17:25:14.253Z"
   },
   {
    "duration": 215,
    "start_time": "2024-09-10T17:26:32.758Z"
   },
   {
    "duration": 206,
    "start_time": "2024-09-10T17:26:37.813Z"
   },
   {
    "duration": 9,
    "start_time": "2024-09-10T17:33:49.071Z"
   },
   {
    "duration": 24,
    "start_time": "2024-09-10T17:34:11.254Z"
   },
   {
    "duration": 16,
    "start_time": "2024-09-10T17:34:27.838Z"
   },
   {
    "duration": 11,
    "start_time": "2024-09-10T17:34:38.069Z"
   },
   {
    "duration": 25,
    "start_time": "2024-09-10T17:36:08.768Z"
   },
   {
    "duration": 29,
    "start_time": "2024-09-10T17:36:43.466Z"
   },
   {
    "duration": 199,
    "start_time": "2024-09-10T17:42:36.744Z"
   },
   {
    "duration": 217,
    "start_time": "2024-09-10T17:42:46.896Z"
   },
   {
    "duration": 209,
    "start_time": "2024-09-10T17:42:52.200Z"
   },
   {
    "duration": 129,
    "start_time": "2024-09-10T17:43:03.273Z"
   },
   {
    "duration": 160,
    "start_time": "2024-09-10T17:43:10.272Z"
   },
   {
    "duration": 9,
    "start_time": "2024-09-10T17:46:01.681Z"
   },
   {
    "duration": 9,
    "start_time": "2024-09-10T17:46:15.026Z"
   },
   {
    "duration": 17,
    "start_time": "2024-09-10T17:46:31.809Z"
   },
   {
    "duration": 20,
    "start_time": "2024-09-10T17:46:47.899Z"
   },
   {
    "duration": 19,
    "start_time": "2024-09-10T17:46:56.577Z"
   },
   {
    "duration": 195,
    "start_time": "2024-09-10T17:48:28.913Z"
   },
   {
    "duration": 9,
    "start_time": "2024-09-10T17:50:11.927Z"
   },
   {
    "duration": 224,
    "start_time": "2024-09-10T17:50:12.681Z"
   },
   {
    "duration": 8,
    "start_time": "2024-09-10T17:50:15.986Z"
   },
   {
    "duration": 204,
    "start_time": "2024-09-10T17:50:17.929Z"
   },
   {
    "duration": 196,
    "start_time": "2024-09-10T17:50:57.138Z"
   },
   {
    "duration": 455,
    "start_time": "2024-09-10T17:52:49.730Z"
   },
   {
    "duration": 9,
    "start_time": "2024-09-10T17:52:53.050Z"
   },
   {
    "duration": 9,
    "start_time": "2024-09-10T17:52:57.946Z"
   },
   {
    "duration": 224,
    "start_time": "2024-09-10T17:53:07.249Z"
   },
   {
    "duration": 8,
    "start_time": "2024-09-10T17:53:11.570Z"
   },
   {
    "duration": 210,
    "start_time": "2024-09-10T17:53:29.986Z"
   },
   {
    "duration": 219,
    "start_time": "2024-09-10T17:53:42.586Z"
   },
   {
    "duration": 8,
    "start_time": "2024-09-10T17:53:46.037Z"
   },
   {
    "duration": 51,
    "start_time": "2024-09-11T06:22:13.028Z"
   },
   {
    "duration": 7,
    "start_time": "2024-09-11T06:22:24.129Z"
   },
   {
    "duration": 1387,
    "start_time": "2024-09-11T06:22:39.639Z"
   },
   {
    "duration": 382,
    "start_time": "2024-09-11T06:22:41.029Z"
   },
   {
    "duration": 25,
    "start_time": "2024-09-11T06:22:41.412Z"
   },
   {
    "duration": 21,
    "start_time": "2024-09-11T06:22:41.440Z"
   },
   {
    "duration": 8,
    "start_time": "2024-09-11T06:22:41.463Z"
   },
   {
    "duration": 36,
    "start_time": "2024-09-11T06:22:41.473Z"
   },
   {
    "duration": 4,
    "start_time": "2024-09-11T06:22:41.510Z"
   },
   {
    "duration": 12,
    "start_time": "2024-09-11T06:22:41.516Z"
   },
   {
    "duration": 5,
    "start_time": "2024-09-11T06:22:41.530Z"
   },
   {
    "duration": 15,
    "start_time": "2024-09-11T06:22:41.538Z"
   },
   {
    "duration": 8,
    "start_time": "2024-09-11T06:22:41.554Z"
   },
   {
    "duration": 17,
    "start_time": "2024-09-11T06:22:41.563Z"
   },
   {
    "duration": 210,
    "start_time": "2024-09-11T06:22:41.582Z"
   },
   {
    "duration": 21,
    "start_time": "2024-09-11T06:22:41.793Z"
   },
   {
    "duration": 12,
    "start_time": "2024-09-11T06:22:41.816Z"
   },
   {
    "duration": 157,
    "start_time": "2024-09-11T06:22:41.830Z"
   },
   {
    "duration": 9,
    "start_time": "2024-09-11T06:22:41.988Z"
   },
   {
    "duration": 234,
    "start_time": "2024-09-11T06:22:41.999Z"
   },
   {
    "duration": 9,
    "start_time": "2024-09-11T06:22:42.235Z"
   },
   {
    "duration": 242,
    "start_time": "2024-09-11T06:22:42.245Z"
   },
   {
    "duration": 20,
    "start_time": "2024-09-11T06:22:42.488Z"
   },
   {
    "duration": 214,
    "start_time": "2024-09-11T06:22:42.510Z"
   },
   {
    "duration": 28,
    "start_time": "2024-09-11T06:22:42.726Z"
   },
   {
    "duration": 22,
    "start_time": "2024-09-11T06:22:42.756Z"
   },
   {
    "duration": 46,
    "start_time": "2024-09-11T06:22:42.780Z"
   },
   {
    "duration": 10,
    "start_time": "2024-09-11T06:22:42.828Z"
   },
   {
    "duration": 349,
    "start_time": "2024-09-11T06:22:42.841Z"
   },
   {
    "duration": 17,
    "start_time": "2024-09-11T06:22:43.193Z"
   },
   {
    "duration": 224,
    "start_time": "2024-09-11T06:22:43.212Z"
   },
   {
    "duration": 7,
    "start_time": "2024-09-11T06:22:43.438Z"
   },
   {
    "duration": 229,
    "start_time": "2024-09-11T06:22:43.446Z"
   },
   {
    "duration": 8,
    "start_time": "2024-09-11T06:22:43.677Z"
   },
   {
    "duration": 208,
    "start_time": "2024-09-11T06:22:43.686Z"
   },
   {
    "duration": 104,
    "start_time": "2024-09-11T06:22:43.896Z"
   },
   {
    "duration": 10,
    "start_time": "2024-09-11T06:22:59.675Z"
   },
   {
    "duration": 16,
    "start_time": "2024-09-11T06:23:11.163Z"
   },
   {
    "duration": 15,
    "start_time": "2024-09-11T06:23:18.948Z"
   },
   {
    "duration": 16,
    "start_time": "2024-09-11T06:23:42.626Z"
   },
   {
    "duration": 9,
    "start_time": "2024-09-11T06:23:59.315Z"
   },
   {
    "duration": 21,
    "start_time": "2024-09-11T06:24:18.949Z"
   },
   {
    "duration": 17,
    "start_time": "2024-09-11T06:24:32.803Z"
   },
   {
    "duration": 55,
    "start_time": "2024-09-11T06:24:57.571Z"
   },
   {
    "duration": 51,
    "start_time": "2024-09-11T06:25:39.519Z"
   },
   {
    "duration": 58,
    "start_time": "2024-09-11T06:26:03.979Z"
   },
   {
    "duration": 237,
    "start_time": "2024-09-11T06:26:25.499Z"
   },
   {
    "duration": 239,
    "start_time": "2024-09-11T06:26:32.796Z"
   },
   {
    "duration": 21,
    "start_time": "2024-09-11T06:28:26.244Z"
   },
   {
    "duration": 6,
    "start_time": "2024-09-11T08:07:57.367Z"
   },
   {
    "duration": 18,
    "start_time": "2024-09-11T08:08:02.039Z"
   },
   {
    "duration": 15,
    "start_time": "2024-09-11T08:08:09.574Z"
   },
   {
    "duration": 17,
    "start_time": "2024-09-11T08:08:33.335Z"
   },
   {
    "duration": 17,
    "start_time": "2024-09-11T08:09:44.126Z"
   },
   {
    "duration": 15,
    "start_time": "2024-09-11T08:10:30.262Z"
   },
   {
    "duration": 13,
    "start_time": "2024-09-11T08:11:38.662Z"
   },
   {
    "duration": 13,
    "start_time": "2024-09-11T09:15:08.640Z"
   },
   {
    "duration": 31,
    "start_time": "2024-09-11T09:15:15.999Z"
   },
   {
    "duration": 265,
    "start_time": "2024-09-11T09:20:15.366Z"
   },
   {
    "duration": 35,
    "start_time": "2024-09-11T09:20:33.703Z"
   },
   {
    "duration": 276,
    "start_time": "2024-09-11T09:20:58.671Z"
   },
   {
    "duration": 21,
    "start_time": "2024-09-11T09:21:56.130Z"
   },
   {
    "duration": 18,
    "start_time": "2024-09-11T09:22:20.010Z"
   },
   {
    "duration": 17,
    "start_time": "2024-09-11T09:22:28.399Z"
   },
   {
    "duration": 20,
    "start_time": "2024-09-11T09:23:15.159Z"
   },
   {
    "duration": 929,
    "start_time": "2024-09-11T09:24:51.463Z"
   },
   {
    "duration": 979,
    "start_time": "2024-09-11T09:25:01.368Z"
   },
   {
    "duration": 22,
    "start_time": "2024-09-11T09:25:50.323Z"
   },
   {
    "duration": 37,
    "start_time": "2024-09-11T09:26:12.994Z"
   },
   {
    "duration": 29,
    "start_time": "2024-09-11T09:26:39.808Z"
   },
   {
    "duration": 23,
    "start_time": "2024-09-11T09:28:39.752Z"
   },
   {
    "duration": 21,
    "start_time": "2024-09-11T09:28:55.048Z"
   },
   {
    "duration": 254,
    "start_time": "2024-09-11T11:07:52.016Z"
   },
   {
    "duration": 956,
    "start_time": "2024-09-11T11:08:01.521Z"
   },
   {
    "duration": 250,
    "start_time": "2024-09-11T11:08:26.625Z"
   },
   {
    "duration": 922,
    "start_time": "2024-09-11T11:08:35.569Z"
   },
   {
    "duration": 22,
    "start_time": "2024-09-11T11:08:45.337Z"
   },
   {
    "duration": 29,
    "start_time": "2024-09-11T11:09:40.954Z"
   },
   {
    "duration": 24,
    "start_time": "2024-09-11T11:09:56.825Z"
   },
   {
    "duration": 23,
    "start_time": "2024-09-11T11:10:37.113Z"
   },
   {
    "duration": 26,
    "start_time": "2024-09-11T11:11:11.034Z"
   },
   {
    "duration": 25,
    "start_time": "2024-09-11T11:17:38.115Z"
   },
   {
    "duration": 21,
    "start_time": "2024-09-11T11:59:22.058Z"
   },
   {
    "duration": 27,
    "start_time": "2024-09-11T12:00:25.897Z"
   },
   {
    "duration": 26,
    "start_time": "2024-09-11T12:01:12.822Z"
   },
   {
    "duration": 46,
    "start_time": "2024-09-11T12:06:09.080Z"
   },
   {
    "duration": 14,
    "start_time": "2024-09-11T12:52:45.278Z"
   },
   {
    "duration": 1278,
    "start_time": "2024-09-11T12:53:28.479Z"
   },
   {
    "duration": 100,
    "start_time": "2024-09-11T12:53:29.759Z"
   },
   {
    "duration": 26,
    "start_time": "2024-09-11T12:53:29.861Z"
   },
   {
    "duration": 13,
    "start_time": "2024-09-11T12:53:29.889Z"
   },
   {
    "duration": 40,
    "start_time": "2024-09-11T12:53:29.904Z"
   },
   {
    "duration": 6,
    "start_time": "2024-09-11T12:53:29.947Z"
   },
   {
    "duration": 7,
    "start_time": "2024-09-11T12:53:29.955Z"
   },
   {
    "duration": 4,
    "start_time": "2024-09-11T12:53:29.963Z"
   },
   {
    "duration": 20,
    "start_time": "2024-09-11T12:53:29.969Z"
   },
   {
    "duration": 53,
    "start_time": "2024-09-11T12:53:29.991Z"
   },
   {
    "duration": 33,
    "start_time": "2024-09-11T12:53:30.046Z"
   },
   {
    "duration": 10,
    "start_time": "2024-09-11T12:53:30.080Z"
   },
   {
    "duration": 28,
    "start_time": "2024-09-11T12:53:30.092Z"
   },
   {
    "duration": 231,
    "start_time": "2024-09-11T12:53:30.124Z"
   },
   {
    "duration": 8,
    "start_time": "2024-09-11T12:53:30.356Z"
   },
   {
    "duration": 15,
    "start_time": "2024-09-11T12:53:30.366Z"
   },
   {
    "duration": 158,
    "start_time": "2024-09-11T12:53:30.382Z"
   },
   {
    "duration": 10,
    "start_time": "2024-09-11T12:53:30.542Z"
   },
   {
    "duration": 311,
    "start_time": "2024-09-11T12:53:30.553Z"
   },
   {
    "duration": 9,
    "start_time": "2024-09-11T12:53:30.866Z"
   },
   {
    "duration": 273,
    "start_time": "2024-09-11T12:53:30.877Z"
   },
   {
    "duration": 9,
    "start_time": "2024-09-11T12:53:31.152Z"
   },
   {
    "duration": 250,
    "start_time": "2024-09-11T12:53:31.163Z"
   },
   {
    "duration": 39,
    "start_time": "2024-09-11T12:53:31.415Z"
   },
   {
    "duration": 21,
    "start_time": "2024-09-11T12:53:31.456Z"
   },
   {
    "duration": 44,
    "start_time": "2024-09-11T12:53:31.479Z"
   },
   {
    "duration": 19,
    "start_time": "2024-09-11T12:53:31.529Z"
   },
   {
    "duration": 342,
    "start_time": "2024-09-11T12:53:31.549Z"
   },
   {
    "duration": 7,
    "start_time": "2024-09-11T12:53:31.893Z"
   },
   {
    "duration": 254,
    "start_time": "2024-09-11T12:53:31.907Z"
   },
   {
    "duration": 8,
    "start_time": "2024-09-11T12:53:32.163Z"
   },
   {
    "duration": 285,
    "start_time": "2024-09-11T12:53:32.172Z"
   },
   {
    "duration": 8,
    "start_time": "2024-09-11T12:53:32.459Z"
   },
   {
    "duration": 261,
    "start_time": "2024-09-11T12:53:32.469Z"
   },
   {
    "duration": 32,
    "start_time": "2024-09-11T12:53:32.733Z"
   },
   {
    "duration": 20,
    "start_time": "2024-09-11T12:53:32.766Z"
   },
   {
    "duration": 4,
    "start_time": "2024-09-11T12:53:32.787Z"
   },
   {
    "duration": 212,
    "start_time": "2024-09-11T12:54:04.272Z"
   },
   {
    "duration": 240,
    "start_time": "2024-09-11T12:54:19.034Z"
   },
   {
    "duration": 258,
    "start_time": "2024-09-11T12:54:25.104Z"
   },
   {
    "duration": 228,
    "start_time": "2024-09-11T12:54:30.872Z"
   },
   {
    "duration": 223,
    "start_time": "2024-09-11T12:54:34.917Z"
   },
   {
    "duration": 312,
    "start_time": "2024-09-11T12:54:40.832Z"
   },
   {
    "duration": 218,
    "start_time": "2024-09-11T12:54:55.856Z"
   },
   {
    "duration": 250,
    "start_time": "2024-09-11T12:55:02.296Z"
   },
   {
    "duration": 249,
    "start_time": "2024-09-11T12:55:17.387Z"
   },
   {
    "duration": 167,
    "start_time": "2024-09-11T12:55:55.633Z"
   },
   {
    "duration": 162,
    "start_time": "2024-09-11T12:56:59.097Z"
   },
   {
    "duration": 158,
    "start_time": "2024-09-11T12:57:14.537Z"
   },
   {
    "duration": 164,
    "start_time": "2024-09-11T12:57:20.318Z"
   },
   {
    "duration": 174,
    "start_time": "2024-09-11T12:57:28.497Z"
   },
   {
    "duration": 210,
    "start_time": "2024-09-11T12:58:04.753Z"
   },
   {
    "duration": 1154,
    "start_time": "2024-09-11T12:59:29.983Z"
   },
   {
    "duration": 94,
    "start_time": "2024-09-11T12:59:31.139Z"
   },
   {
    "duration": 24,
    "start_time": "2024-09-11T12:59:31.237Z"
   },
   {
    "duration": 13,
    "start_time": "2024-09-11T12:59:31.263Z"
   },
   {
    "duration": 17,
    "start_time": "2024-09-11T12:59:31.278Z"
   },
   {
    "duration": 26,
    "start_time": "2024-09-11T12:59:31.296Z"
   },
   {
    "duration": 12,
    "start_time": "2024-09-11T12:59:31.323Z"
   },
   {
    "duration": 9,
    "start_time": "2024-09-11T12:59:31.336Z"
   },
   {
    "duration": 15,
    "start_time": "2024-09-11T12:59:31.347Z"
   },
   {
    "duration": 6,
    "start_time": "2024-09-11T12:59:31.366Z"
   },
   {
    "duration": 11,
    "start_time": "2024-09-11T12:59:31.373Z"
   },
   {
    "duration": 7,
    "start_time": "2024-09-11T12:59:31.385Z"
   },
   {
    "duration": 39,
    "start_time": "2024-09-11T12:59:31.393Z"
   },
   {
    "duration": 200,
    "start_time": "2024-09-11T12:59:31.434Z"
   },
   {
    "duration": 8,
    "start_time": "2024-09-11T12:59:31.636Z"
   },
   {
    "duration": 15,
    "start_time": "2024-09-11T12:59:31.646Z"
   },
   {
    "duration": 138,
    "start_time": "2024-09-11T12:59:31.663Z"
   },
   {
    "duration": 31,
    "start_time": "2024-09-11T12:59:31.803Z"
   },
   {
    "duration": 218,
    "start_time": "2024-09-11T12:59:31.836Z"
   },
   {
    "duration": 8,
    "start_time": "2024-09-11T12:59:32.056Z"
   },
   {
    "duration": 247,
    "start_time": "2024-09-11T12:59:32.065Z"
   },
   {
    "duration": 10,
    "start_time": "2024-09-11T12:59:32.314Z"
   },
   {
    "duration": 242,
    "start_time": "2024-09-11T12:59:32.335Z"
   },
   {
    "duration": 52,
    "start_time": "2024-09-11T12:59:32.579Z"
   },
   {
    "duration": 29,
    "start_time": "2024-09-11T12:59:32.635Z"
   },
   {
    "duration": 21,
    "start_time": "2024-09-11T12:59:32.665Z"
   },
   {
    "duration": 8,
    "start_time": "2024-09-11T12:59:32.688Z"
   },
   {
    "duration": 263,
    "start_time": "2024-09-11T12:59:32.712Z"
   },
   {
    "duration": 8,
    "start_time": "2024-09-11T12:59:32.976Z"
   },
   {
    "duration": 311,
    "start_time": "2024-09-11T12:59:32.986Z"
   },
   {
    "duration": 21,
    "start_time": "2024-09-11T12:59:33.308Z"
   },
   {
    "duration": 228,
    "start_time": "2024-09-11T12:59:33.333Z"
   },
   {
    "duration": 8,
    "start_time": "2024-09-11T12:59:33.563Z"
   },
   {
    "duration": 228,
    "start_time": "2024-09-11T12:59:33.573Z"
   },
   {
    "duration": 40,
    "start_time": "2024-09-11T12:59:33.802Z"
   },
   {
    "duration": 15,
    "start_time": "2024-09-11T12:59:33.843Z"
   },
   {
    "duration": 13,
    "start_time": "2024-09-11T12:59:54.530Z"
   },
   {
    "duration": 1386,
    "start_time": "2024-09-12T15:09:40.662Z"
   },
   {
    "duration": 296,
    "start_time": "2024-09-12T15:09:42.050Z"
   },
   {
    "duration": 26,
    "start_time": "2024-09-12T15:09:42.348Z"
   },
   {
    "duration": 16,
    "start_time": "2024-09-12T15:09:42.376Z"
   },
   {
    "duration": 22,
    "start_time": "2024-09-12T15:09:42.394Z"
   },
   {
    "duration": 8,
    "start_time": "2024-09-12T15:09:42.417Z"
   },
   {
    "duration": 11,
    "start_time": "2024-09-12T15:09:42.427Z"
   },
   {
    "duration": 6,
    "start_time": "2024-09-12T15:09:42.440Z"
   },
   {
    "duration": 17,
    "start_time": "2024-09-12T15:09:42.448Z"
   },
   {
    "duration": 28,
    "start_time": "2024-09-12T15:09:42.468Z"
   },
   {
    "duration": 28,
    "start_time": "2024-09-12T15:09:42.505Z"
   },
   {
    "duration": 80,
    "start_time": "2024-09-12T15:09:42.534Z"
   },
   {
    "duration": 15,
    "start_time": "2024-09-12T15:09:42.616Z"
   },
   {
    "duration": 179,
    "start_time": "2024-09-12T15:09:42.633Z"
   },
   {
    "duration": 10,
    "start_time": "2024-09-12T15:09:42.814Z"
   },
   {
    "duration": 8,
    "start_time": "2024-09-12T15:09:42.826Z"
   },
   {
    "duration": 159,
    "start_time": "2024-09-12T15:09:42.836Z"
   },
   {
    "duration": 10,
    "start_time": "2024-09-12T15:09:43.004Z"
   },
   {
    "duration": 226,
    "start_time": "2024-09-12T15:09:43.016Z"
   },
   {
    "duration": 10,
    "start_time": "2024-09-12T15:09:43.243Z"
   },
   {
    "duration": 239,
    "start_time": "2024-09-12T15:09:43.255Z"
   },
   {
    "duration": 10,
    "start_time": "2024-09-12T15:09:43.504Z"
   },
   {
    "duration": 210,
    "start_time": "2024-09-12T15:09:43.516Z"
   },
   {
    "duration": 33,
    "start_time": "2024-09-12T15:09:43.728Z"
   },
   {
    "duration": 56,
    "start_time": "2024-09-12T15:09:43.763Z"
   },
   {
    "duration": 20,
    "start_time": "2024-09-12T15:09:43.821Z"
   },
   {
    "duration": 8,
    "start_time": "2024-09-12T15:09:43.843Z"
   },
   {
    "duration": 250,
    "start_time": "2024-09-12T15:09:43.855Z"
   },
   {
    "duration": 8,
    "start_time": "2024-09-12T15:09:44.106Z"
   },
   {
    "duration": 300,
    "start_time": "2024-09-12T15:09:44.116Z"
   },
   {
    "duration": 9,
    "start_time": "2024-09-12T15:09:44.418Z"
   },
   {
    "duration": 226,
    "start_time": "2024-09-12T15:09:44.429Z"
   },
   {
    "duration": 8,
    "start_time": "2024-09-12T15:09:44.657Z"
   },
   {
    "duration": 233,
    "start_time": "2024-09-12T15:09:44.667Z"
   },
   {
    "duration": 49,
    "start_time": "2024-09-12T15:09:44.905Z"
   },
   {
    "duration": 22,
    "start_time": "2024-09-12T15:09:44.955Z"
   },
   {
    "duration": 282,
    "start_time": "2024-09-12T15:09:45.004Z"
   },
   {
    "duration": 243,
    "start_time": "2024-09-12T15:09:45.288Z"
   },
   {
    "duration": 8,
    "start_time": "2024-09-12T15:10:03.135Z"
   },
   {
    "duration": 9,
    "start_time": "2024-09-12T15:10:54.941Z"
   },
   {
    "duration": 6,
    "start_time": "2024-09-12T15:11:07.133Z"
   },
   {
    "duration": 8,
    "start_time": "2024-09-12T15:20:08.821Z"
   },
   {
    "duration": 9,
    "start_time": "2024-09-12T15:21:18.376Z"
   },
   {
    "duration": 3,
    "start_time": "2024-09-12T15:26:32.749Z"
   },
   {
    "duration": 7,
    "start_time": "2024-09-12T15:29:45.502Z"
   },
   {
    "duration": 110,
    "start_time": "2024-09-12T15:34:46.507Z"
   },
   {
    "duration": 6,
    "start_time": "2024-09-12T15:35:15.677Z"
   },
   {
    "duration": 21,
    "start_time": "2024-09-12T16:01:57.315Z"
   },
   {
    "duration": 14,
    "start_time": "2024-09-12T16:02:18.368Z"
   },
   {
    "duration": 1191,
    "start_time": "2024-09-12T18:50:07.547Z"
   },
   {
    "duration": 85,
    "start_time": "2024-09-12T18:50:08.740Z"
   },
   {
    "duration": 32,
    "start_time": "2024-09-12T18:50:08.826Z"
   },
   {
    "duration": 15,
    "start_time": "2024-09-12T18:50:08.860Z"
   },
   {
    "duration": 35,
    "start_time": "2024-09-12T18:50:08.877Z"
   },
   {
    "duration": 6,
    "start_time": "2024-09-12T18:50:08.914Z"
   },
   {
    "duration": 12,
    "start_time": "2024-09-12T18:50:08.922Z"
   },
   {
    "duration": 19,
    "start_time": "2024-09-12T18:50:08.936Z"
   },
   {
    "duration": 19,
    "start_time": "2024-09-12T18:50:08.958Z"
   },
   {
    "duration": 33,
    "start_time": "2024-09-12T18:50:08.979Z"
   },
   {
    "duration": 7,
    "start_time": "2024-09-12T18:50:09.014Z"
   },
   {
    "duration": 41,
    "start_time": "2024-09-12T18:50:09.023Z"
   },
   {
    "duration": 23,
    "start_time": "2024-09-12T18:50:09.065Z"
   },
   {
    "duration": 177,
    "start_time": "2024-09-12T18:50:09.091Z"
   },
   {
    "duration": 8,
    "start_time": "2024-09-12T18:50:09.269Z"
   },
   {
    "duration": 52,
    "start_time": "2024-09-12T18:50:09.279Z"
   },
   {
    "duration": 132,
    "start_time": "2024-09-12T18:50:09.333Z"
   },
   {
    "duration": 8,
    "start_time": "2024-09-12T18:50:09.466Z"
   },
   {
    "duration": 231,
    "start_time": "2024-09-12T18:50:09.475Z"
   },
   {
    "duration": 9,
    "start_time": "2024-09-12T18:50:09.707Z"
   },
   {
    "duration": 234,
    "start_time": "2024-09-12T18:50:09.717Z"
   },
   {
    "duration": 9,
    "start_time": "2024-09-12T18:50:09.953Z"
   },
   {
    "duration": 253,
    "start_time": "2024-09-12T18:50:09.964Z"
   },
   {
    "duration": 33,
    "start_time": "2024-09-12T18:50:10.219Z"
   },
   {
    "duration": 24,
    "start_time": "2024-09-12T18:50:10.254Z"
   },
   {
    "duration": 46,
    "start_time": "2024-09-12T18:50:10.280Z"
   },
   {
    "duration": 14,
    "start_time": "2024-09-12T18:50:10.328Z"
   },
   {
    "duration": 372,
    "start_time": "2024-09-12T18:50:10.344Z"
   },
   {
    "duration": 10,
    "start_time": "2024-09-12T18:50:10.718Z"
   },
   {
    "duration": 238,
    "start_time": "2024-09-12T18:50:10.730Z"
   },
   {
    "duration": 9,
    "start_time": "2024-09-12T18:50:10.970Z"
   },
   {
    "duration": 244,
    "start_time": "2024-09-12T18:50:10.981Z"
   },
   {
    "duration": 9,
    "start_time": "2024-09-12T18:50:11.226Z"
   },
   {
    "duration": 303,
    "start_time": "2024-09-12T18:50:11.236Z"
   },
   {
    "duration": 44,
    "start_time": "2024-09-12T18:50:11.541Z"
   },
   {
    "duration": 37,
    "start_time": "2024-09-12T18:50:11.587Z"
   },
   {
    "duration": 277,
    "start_time": "2024-09-12T18:50:11.626Z"
   },
   {
    "duration": 210,
    "start_time": "2024-09-12T18:50:11.905Z"
   },
   {
    "duration": 9,
    "start_time": "2024-09-12T18:50:12.117Z"
   },
   {
    "duration": 20,
    "start_time": "2024-09-12T18:50:12.128Z"
   },
   {
    "duration": 51,
    "start_time": "2024-09-12T18:50:12.152Z"
   },
   {
    "duration": 1476,
    "start_time": "2024-09-13T09:47:31.770Z"
   },
   {
    "duration": 369,
    "start_time": "2024-09-13T09:47:33.248Z"
   },
   {
    "duration": 30,
    "start_time": "2024-09-13T09:47:33.619Z"
   },
   {
    "duration": 30,
    "start_time": "2024-09-13T09:47:33.651Z"
   },
   {
    "duration": 27,
    "start_time": "2024-09-13T09:47:33.683Z"
   },
   {
    "duration": 7,
    "start_time": "2024-09-13T09:47:33.711Z"
   },
   {
    "duration": 21,
    "start_time": "2024-09-13T09:47:33.720Z"
   },
   {
    "duration": 19,
    "start_time": "2024-09-13T09:47:33.743Z"
   },
   {
    "duration": 14,
    "start_time": "2024-09-13T09:47:33.764Z"
   },
   {
    "duration": 21,
    "start_time": "2024-09-13T09:47:33.780Z"
   },
   {
    "duration": 14,
    "start_time": "2024-09-13T09:47:33.802Z"
   },
   {
    "duration": 16,
    "start_time": "2024-09-13T09:47:33.818Z"
   },
   {
    "duration": 28,
    "start_time": "2024-09-13T09:47:33.836Z"
   },
   {
    "duration": 204,
    "start_time": "2024-09-13T09:47:33.867Z"
   },
   {
    "duration": 8,
    "start_time": "2024-09-13T09:47:34.073Z"
   },
   {
    "duration": 31,
    "start_time": "2024-09-13T09:47:34.083Z"
   },
   {
    "duration": 164,
    "start_time": "2024-09-13T09:47:34.116Z"
   },
   {
    "duration": 16,
    "start_time": "2024-09-13T09:47:34.282Z"
   },
   {
    "duration": 288,
    "start_time": "2024-09-13T09:47:34.300Z"
   },
   {
    "duration": 15,
    "start_time": "2024-09-13T09:47:34.590Z"
   },
   {
    "duration": 243,
    "start_time": "2024-09-13T09:47:34.606Z"
   },
   {
    "duration": 8,
    "start_time": "2024-09-13T09:47:34.851Z"
   },
   {
    "duration": 254,
    "start_time": "2024-09-13T09:47:34.861Z"
   },
   {
    "duration": 31,
    "start_time": "2024-09-13T09:47:35.117Z"
   },
   {
    "duration": 90,
    "start_time": "2024-09-13T09:47:35.150Z"
   },
   {
    "duration": 42,
    "start_time": "2024-09-13T09:47:35.241Z"
   },
   {
    "duration": 9,
    "start_time": "2024-09-13T09:47:35.285Z"
   },
   {
    "duration": 361,
    "start_time": "2024-09-13T09:47:35.296Z"
   },
   {
    "duration": 9,
    "start_time": "2024-09-13T09:47:35.658Z"
   },
   {
    "duration": 224,
    "start_time": "2024-09-13T09:47:35.668Z"
   },
   {
    "duration": 9,
    "start_time": "2024-09-13T09:47:35.894Z"
   },
   {
    "duration": 230,
    "start_time": "2024-09-13T09:47:35.904Z"
   },
   {
    "duration": 9,
    "start_time": "2024-09-13T09:47:36.135Z"
   },
   {
    "duration": 231,
    "start_time": "2024-09-13T09:47:36.146Z"
   },
   {
    "duration": 53,
    "start_time": "2024-09-13T09:47:36.378Z"
   },
   {
    "duration": 22,
    "start_time": "2024-09-13T09:47:36.433Z"
   },
   {
    "duration": 291,
    "start_time": "2024-09-13T09:47:36.457Z"
   },
   {
    "duration": 218,
    "start_time": "2024-09-13T09:47:36.751Z"
   },
   {
    "duration": 8,
    "start_time": "2024-09-13T09:47:36.971Z"
   },
   {
    "duration": 21,
    "start_time": "2024-09-13T09:47:36.981Z"
   },
   {
    "duration": 31,
    "start_time": "2024-09-13T09:47:37.005Z"
   },
   {
    "duration": 57,
    "start_time": "2024-09-13T09:51:29.222Z"
   },
   {
    "duration": 11,
    "start_time": "2024-09-13T11:34:31.112Z"
   },
   {
    "duration": 1153,
    "start_time": "2024-09-13T15:47:12.107Z"
   },
   {
    "duration": 87,
    "start_time": "2024-09-13T15:47:13.262Z"
   },
   {
    "duration": 26,
    "start_time": "2024-09-13T15:47:13.351Z"
   },
   {
    "duration": 16,
    "start_time": "2024-09-13T15:47:13.379Z"
   },
   {
    "duration": 37,
    "start_time": "2024-09-13T15:47:13.398Z"
   },
   {
    "duration": 31,
    "start_time": "2024-09-13T15:47:13.437Z"
   },
   {
    "duration": 15,
    "start_time": "2024-09-13T15:47:13.470Z"
   },
   {
    "duration": 20,
    "start_time": "2024-09-13T15:47:13.487Z"
   },
   {
    "duration": 25,
    "start_time": "2024-09-13T15:47:13.509Z"
   },
   {
    "duration": 14,
    "start_time": "2024-09-13T15:47:13.536Z"
   },
   {
    "duration": 27,
    "start_time": "2024-09-13T15:47:13.552Z"
   },
   {
    "duration": 19,
    "start_time": "2024-09-13T15:47:13.581Z"
   },
   {
    "duration": 20,
    "start_time": "2024-09-13T15:47:13.602Z"
   },
   {
    "duration": 222,
    "start_time": "2024-09-13T15:47:13.625Z"
   },
   {
    "duration": 8,
    "start_time": "2024-09-13T15:47:13.848Z"
   },
   {
    "duration": 20,
    "start_time": "2024-09-13T15:47:13.858Z"
   },
   {
    "duration": 137,
    "start_time": "2024-09-13T15:47:13.880Z"
   },
   {
    "duration": 8,
    "start_time": "2024-09-13T15:47:14.019Z"
   },
   {
    "duration": 219,
    "start_time": "2024-09-13T15:47:14.028Z"
   },
   {
    "duration": 8,
    "start_time": "2024-09-13T15:47:14.249Z"
   },
   {
    "duration": 276,
    "start_time": "2024-09-13T15:47:14.259Z"
   },
   {
    "duration": 8,
    "start_time": "2024-09-13T15:47:14.537Z"
   },
   {
    "duration": 219,
    "start_time": "2024-09-13T15:47:14.547Z"
   },
   {
    "duration": 40,
    "start_time": "2024-09-13T15:47:14.767Z"
   },
   {
    "duration": 85,
    "start_time": "2024-09-13T15:47:14.808Z"
   },
   {
    "duration": 38,
    "start_time": "2024-09-13T15:47:14.894Z"
   },
   {
    "duration": 18,
    "start_time": "2024-09-13T15:47:14.933Z"
   },
   {
    "duration": 312,
    "start_time": "2024-09-13T15:47:14.953Z"
   },
   {
    "duration": 32,
    "start_time": "2024-09-13T15:47:15.267Z"
   },
   {
    "duration": 274,
    "start_time": "2024-09-13T15:47:15.301Z"
   },
   {
    "duration": 8,
    "start_time": "2024-09-13T15:47:15.577Z"
   },
   {
    "duration": 253,
    "start_time": "2024-09-13T15:47:15.586Z"
   },
   {
    "duration": 8,
    "start_time": "2024-09-13T15:47:15.841Z"
   },
   {
    "duration": 215,
    "start_time": "2024-09-13T15:47:15.851Z"
   },
   {
    "duration": 51,
    "start_time": "2024-09-13T15:47:16.068Z"
   },
   {
    "duration": 17,
    "start_time": "2024-09-13T15:47:16.120Z"
   },
   {
    "duration": 279,
    "start_time": "2024-09-13T15:47:16.139Z"
   },
   {
    "duration": 211,
    "start_time": "2024-09-13T15:47:16.420Z"
   },
   {
    "duration": 7,
    "start_time": "2024-09-13T15:47:16.633Z"
   },
   {
    "duration": 87,
    "start_time": "2024-09-13T15:47:16.642Z"
   },
   {
    "duration": 16,
    "start_time": "2024-09-13T15:47:16.733Z"
   },
   {
    "duration": 43,
    "start_time": "2024-09-15T11:55:04.008Z"
   },
   {
    "duration": 1214,
    "start_time": "2024-09-15T11:55:17.415Z"
   },
   {
    "duration": 321,
    "start_time": "2024-09-15T11:55:18.631Z"
   },
   {
    "duration": 22,
    "start_time": "2024-09-15T11:55:18.954Z"
   },
   {
    "duration": 12,
    "start_time": "2024-09-15T11:55:18.978Z"
   },
   {
    "duration": 10,
    "start_time": "2024-09-15T11:55:18.993Z"
   },
   {
    "duration": 11,
    "start_time": "2024-09-15T11:55:19.004Z"
   },
   {
    "duration": 7,
    "start_time": "2024-09-15T11:55:19.016Z"
   },
   {
    "duration": 17,
    "start_time": "2024-09-15T11:55:19.024Z"
   },
   {
    "duration": 6,
    "start_time": "2024-09-15T11:55:19.043Z"
   },
   {
    "duration": 26,
    "start_time": "2024-09-15T11:55:19.050Z"
   },
   {
    "duration": 5,
    "start_time": "2024-09-15T11:55:19.077Z"
   },
   {
    "duration": 6,
    "start_time": "2024-09-15T11:55:19.083Z"
   },
   {
    "duration": 8,
    "start_time": "2024-09-15T11:55:19.090Z"
   },
   {
    "duration": 168,
    "start_time": "2024-09-15T11:55:19.100Z"
   },
   {
    "duration": 11,
    "start_time": "2024-09-15T11:55:19.270Z"
   },
   {
    "duration": 4,
    "start_time": "2024-09-15T11:55:19.283Z"
   },
   {
    "duration": 121,
    "start_time": "2024-09-15T11:55:19.288Z"
   },
   {
    "duration": 7,
    "start_time": "2024-09-15T11:55:19.410Z"
   },
   {
    "duration": 192,
    "start_time": "2024-09-15T11:55:19.418Z"
   },
   {
    "duration": 7,
    "start_time": "2024-09-15T11:55:19.611Z"
   },
   {
    "duration": 195,
    "start_time": "2024-09-15T11:55:19.620Z"
   },
   {
    "duration": 7,
    "start_time": "2024-09-15T11:55:19.816Z"
   },
   {
    "duration": 181,
    "start_time": "2024-09-15T11:55:19.824Z"
   },
   {
    "duration": 26,
    "start_time": "2024-09-15T11:55:20.007Z"
   },
   {
    "duration": 20,
    "start_time": "2024-09-15T11:55:20.034Z"
   },
   {
    "duration": 36,
    "start_time": "2024-09-15T11:55:20.056Z"
   },
   {
    "duration": 7,
    "start_time": "2024-09-15T11:55:20.093Z"
   },
   {
    "duration": 268,
    "start_time": "2024-09-15T11:55:20.101Z"
   },
   {
    "duration": 7,
    "start_time": "2024-09-15T11:55:20.375Z"
   },
   {
    "duration": 182,
    "start_time": "2024-09-15T11:55:20.383Z"
   },
   {
    "duration": 11,
    "start_time": "2024-09-15T11:55:20.566Z"
   },
   {
    "duration": 206,
    "start_time": "2024-09-15T11:55:20.579Z"
   },
   {
    "duration": 7,
    "start_time": "2024-09-15T11:55:20.786Z"
   },
   {
    "duration": 182,
    "start_time": "2024-09-15T11:55:20.794Z"
   },
   {
    "duration": 37,
    "start_time": "2024-09-15T11:55:20.978Z"
   },
   {
    "duration": 15,
    "start_time": "2024-09-15T11:55:21.016Z"
   },
   {
    "duration": 247,
    "start_time": "2024-09-15T11:55:21.032Z"
   },
   {
    "duration": 178,
    "start_time": "2024-09-15T11:55:21.280Z"
   },
   {
    "duration": 16,
    "start_time": "2024-09-15T11:55:21.460Z"
   },
   {
    "duration": 6,
    "start_time": "2024-09-15T11:55:21.478Z"
   },
   {
    "duration": 9,
    "start_time": "2024-09-15T11:55:21.486Z"
   },
   {
    "duration": 2256,
    "start_time": "2024-09-15T12:43:36.636Z"
   },
   {
    "duration": 279,
    "start_time": "2024-09-15T12:53:31.330Z"
   },
   {
    "duration": 2448,
    "start_time": "2024-09-15T13:01:50.472Z"
   },
   {
    "duration": 2091,
    "start_time": "2024-09-15T13:02:30.752Z"
   },
   {
    "duration": 2074,
    "start_time": "2024-09-15T13:03:02.096Z"
   },
   {
    "duration": 99,
    "start_time": "2024-09-15T13:07:31.308Z"
   },
   {
    "duration": 10,
    "start_time": "2024-09-15T13:07:52.583Z"
   },
   {
    "duration": 61,
    "start_time": "2024-09-15T13:11:25.530Z"
   },
   {
    "duration": 9,
    "start_time": "2024-09-15T13:11:35.061Z"
   },
   {
    "duration": 10,
    "start_time": "2024-09-15T13:14:02.362Z"
   },
   {
    "duration": 115,
    "start_time": "2024-09-15T13:32:02.239Z"
   },
   {
    "duration": 134,
    "start_time": "2024-09-15T13:37:00.607Z"
   },
   {
    "duration": 112,
    "start_time": "2024-09-15T13:37:32.644Z"
   },
   {
    "duration": 2035,
    "start_time": "2024-09-15T13:37:37.382Z"
   },
   {
    "duration": 13,
    "start_time": "2024-09-15T13:42:02.972Z"
   },
   {
    "duration": 2103,
    "start_time": "2024-09-15T13:42:47.692Z"
   },
   {
    "duration": 1982,
    "start_time": "2024-09-15T13:47:51.415Z"
   },
   {
    "duration": 0,
    "start_time": "2024-09-15T13:50:24.257Z"
   },
   {
    "duration": 2022,
    "start_time": "2024-09-15T13:50:28.472Z"
   },
   {
    "duration": 2219,
    "start_time": "2024-09-15T13:51:09.423Z"
   },
   {
    "duration": 5,
    "start_time": "2024-09-15T14:38:23.390Z"
   },
   {
    "duration": 6,
    "start_time": "2024-09-15T14:38:27.963Z"
   },
   {
    "duration": 876,
    "start_time": "2024-09-15T14:40:30.442Z"
   },
   {
    "duration": 4,
    "start_time": "2024-09-15T14:40:44.081Z"
   },
   {
    "duration": 5,
    "start_time": "2024-09-15T14:40:48.327Z"
   },
   {
    "duration": 8,
    "start_time": "2024-09-15T14:41:15.641Z"
   },
   {
    "duration": 6,
    "start_time": "2024-09-15T14:41:22.818Z"
   },
   {
    "duration": 10,
    "start_time": "2024-09-15T14:41:27.232Z"
   },
   {
    "duration": 55,
    "start_time": "2024-09-15T14:42:41.610Z"
   },
   {
    "duration": 63,
    "start_time": "2024-09-15T14:45:32.276Z"
   },
   {
    "duration": 63,
    "start_time": "2024-09-15T14:45:39.866Z"
   },
   {
    "duration": 7,
    "start_time": "2024-09-15T14:45:57.130Z"
   },
   {
    "duration": 163,
    "start_time": "2024-09-15T14:56:49.752Z"
   },
   {
    "duration": 297,
    "start_time": "2024-09-15T14:59:22.162Z"
   },
   {
    "duration": 10,
    "start_time": "2024-09-15T15:02:33.834Z"
   },
   {
    "duration": 64,
    "start_time": "2024-09-15T15:03:55.958Z"
   },
   {
    "duration": 54,
    "start_time": "2024-09-15T15:04:02.463Z"
   },
   {
    "duration": 59,
    "start_time": "2024-09-15T15:05:52.800Z"
   },
   {
    "duration": 1063,
    "start_time": "2024-09-15T15:13:17.677Z"
   },
   {
    "duration": 76,
    "start_time": "2024-09-15T15:13:18.741Z"
   },
   {
    "duration": 22,
    "start_time": "2024-09-15T15:13:18.818Z"
   },
   {
    "duration": 11,
    "start_time": "2024-09-15T15:13:18.842Z"
   },
   {
    "duration": 9,
    "start_time": "2024-09-15T15:13:18.854Z"
   },
   {
    "duration": 61,
    "start_time": "2024-09-15T15:13:18.864Z"
   },
   {
    "duration": 7,
    "start_time": "2024-09-15T15:13:18.926Z"
   },
   {
    "duration": 4,
    "start_time": "2024-09-15T15:13:18.934Z"
   },
   {
    "duration": 11,
    "start_time": "2024-09-15T15:13:18.939Z"
   },
   {
    "duration": 4,
    "start_time": "2024-09-15T15:13:18.953Z"
   },
   {
    "duration": 26,
    "start_time": "2024-09-15T15:13:18.959Z"
   },
   {
    "duration": 28,
    "start_time": "2024-09-15T15:13:18.986Z"
   },
   {
    "duration": 41,
    "start_time": "2024-09-15T15:13:19.015Z"
   },
   {
    "duration": 149,
    "start_time": "2024-09-15T15:13:19.058Z"
   },
   {
    "duration": 6,
    "start_time": "2024-09-15T15:13:19.209Z"
   },
   {
    "duration": 10,
    "start_time": "2024-09-15T15:13:19.216Z"
   },
   {
    "duration": 128,
    "start_time": "2024-09-15T15:13:19.228Z"
   },
   {
    "duration": 7,
    "start_time": "2024-09-15T15:13:19.358Z"
   },
   {
    "duration": 184,
    "start_time": "2024-09-15T15:13:19.366Z"
   },
   {
    "duration": 7,
    "start_time": "2024-09-15T15:13:19.552Z"
   },
   {
    "duration": 195,
    "start_time": "2024-09-15T15:13:19.560Z"
   },
   {
    "duration": 6,
    "start_time": "2024-09-15T15:13:19.757Z"
   },
   {
    "duration": 169,
    "start_time": "2024-09-15T15:13:19.764Z"
   },
   {
    "duration": 25,
    "start_time": "2024-09-15T15:13:19.935Z"
   },
   {
    "duration": 22,
    "start_time": "2024-09-15T15:13:19.962Z"
   },
   {
    "duration": 18,
    "start_time": "2024-09-15T15:13:19.985Z"
   },
   {
    "duration": 16,
    "start_time": "2024-09-15T15:13:20.005Z"
   },
   {
    "duration": 6,
    "start_time": "2024-09-15T15:13:20.024Z"
   },
   {
    "duration": 208,
    "start_time": "2024-09-15T15:13:20.032Z"
   },
   {
    "duration": 7,
    "start_time": "2024-09-15T15:13:20.241Z"
   },
   {
    "duration": 241,
    "start_time": "2024-09-15T15:13:20.249Z"
   },
   {
    "duration": 8,
    "start_time": "2024-09-15T15:13:20.491Z"
   },
   {
    "duration": 209,
    "start_time": "2024-09-15T15:13:20.500Z"
   },
   {
    "duration": 7,
    "start_time": "2024-09-15T15:13:20.711Z"
   },
   {
    "duration": 174,
    "start_time": "2024-09-15T15:13:20.719Z"
   },
   {
    "duration": 37,
    "start_time": "2024-09-15T15:13:20.894Z"
   },
   {
    "duration": 12,
    "start_time": "2024-09-15T15:13:20.933Z"
   },
   {
    "duration": 232,
    "start_time": "2024-09-15T15:13:20.947Z"
   },
   {
    "duration": 170,
    "start_time": "2024-09-15T15:13:21.180Z"
   },
   {
    "duration": 5,
    "start_time": "2024-09-15T15:13:21.352Z"
   },
   {
    "duration": 6,
    "start_time": "2024-09-15T15:13:21.358Z"
   },
   {
    "duration": 7,
    "start_time": "2024-09-15T15:13:21.375Z"
   },
   {
    "duration": 96,
    "start_time": "2024-09-15T15:13:21.383Z"
   },
   {
    "duration": 0,
    "start_time": "2024-09-15T15:13:21.480Z"
   },
   {
    "duration": 0,
    "start_time": "2024-09-15T15:13:21.481Z"
   },
   {
    "duration": 63,
    "start_time": "2024-09-15T16:59:42.912Z"
   },
   {
    "duration": 1427,
    "start_time": "2024-09-16T07:46:33.583Z"
   },
   {
    "duration": 308,
    "start_time": "2024-09-16T07:46:35.012Z"
   },
   {
    "duration": 29,
    "start_time": "2024-09-16T07:46:35.322Z"
   },
   {
    "duration": 22,
    "start_time": "2024-09-16T07:46:35.353Z"
   },
   {
    "duration": 40,
    "start_time": "2024-09-16T07:46:35.378Z"
   },
   {
    "duration": 36,
    "start_time": "2024-09-16T07:46:35.420Z"
   },
   {
    "duration": 29,
    "start_time": "2024-09-16T07:46:35.457Z"
   },
   {
    "duration": 33,
    "start_time": "2024-09-16T07:46:35.488Z"
   },
   {
    "duration": 40,
    "start_time": "2024-09-16T07:46:35.523Z"
   },
   {
    "duration": 47,
    "start_time": "2024-09-16T07:46:35.565Z"
   },
   {
    "duration": 23,
    "start_time": "2024-09-16T07:46:35.613Z"
   },
   {
    "duration": 62,
    "start_time": "2024-09-16T07:46:35.638Z"
   },
   {
    "duration": 50,
    "start_time": "2024-09-16T07:46:35.702Z"
   },
   {
    "duration": 234,
    "start_time": "2024-09-16T07:46:35.756Z"
   },
   {
    "duration": 11,
    "start_time": "2024-09-16T07:46:35.993Z"
   },
   {
    "duration": 45,
    "start_time": "2024-09-16T07:46:36.005Z"
   },
   {
    "duration": 172,
    "start_time": "2024-09-16T07:46:36.052Z"
   },
   {
    "duration": 8,
    "start_time": "2024-09-16T07:46:36.225Z"
   },
   {
    "duration": 230,
    "start_time": "2024-09-16T07:46:36.235Z"
   },
   {
    "duration": 9,
    "start_time": "2024-09-16T07:46:36.467Z"
   },
   {
    "duration": 244,
    "start_time": "2024-09-16T07:46:36.477Z"
   },
   {
    "duration": 9,
    "start_time": "2024-09-16T07:46:36.722Z"
   },
   {
    "duration": 257,
    "start_time": "2024-09-16T07:46:36.732Z"
   },
   {
    "duration": 33,
    "start_time": "2024-09-16T07:46:36.990Z"
   },
   {
    "duration": 31,
    "start_time": "2024-09-16T07:46:37.025Z"
   },
   {
    "duration": 29,
    "start_time": "2024-09-16T07:46:37.058Z"
   },
   {
    "duration": 22,
    "start_time": "2024-09-16T07:46:37.089Z"
   },
   {
    "duration": 19,
    "start_time": "2024-09-16T07:46:37.112Z"
   },
   {
    "duration": 330,
    "start_time": "2024-09-16T07:46:37.132Z"
   },
   {
    "duration": 9,
    "start_time": "2024-09-16T07:46:37.464Z"
   },
   {
    "duration": 261,
    "start_time": "2024-09-16T07:46:37.475Z"
   },
   {
    "duration": 18,
    "start_time": "2024-09-16T07:46:37.738Z"
   },
   {
    "duration": 244,
    "start_time": "2024-09-16T07:46:37.758Z"
   },
   {
    "duration": 9,
    "start_time": "2024-09-16T07:46:38.004Z"
   },
   {
    "duration": 233,
    "start_time": "2024-09-16T07:46:38.015Z"
   },
   {
    "duration": 48,
    "start_time": "2024-09-16T07:46:38.254Z"
   },
   {
    "duration": 19,
    "start_time": "2024-09-16T07:46:38.304Z"
   },
   {
    "duration": 317,
    "start_time": "2024-09-16T07:46:38.325Z"
   },
   {
    "duration": 219,
    "start_time": "2024-09-16T07:46:38.643Z"
   },
   {
    "duration": 7,
    "start_time": "2024-09-16T07:46:38.864Z"
   },
   {
    "duration": 33,
    "start_time": "2024-09-16T07:46:38.875Z"
   },
   {
    "duration": 10,
    "start_time": "2024-09-16T07:46:38.911Z"
   },
   {
    "duration": 8,
    "start_time": "2024-09-16T09:30:46.103Z"
   },
   {
    "duration": 290,
    "start_time": "2024-09-16T09:32:05.637Z"
   },
   {
    "duration": 265,
    "start_time": "2024-09-16T09:32:14.894Z"
   },
   {
    "duration": 201,
    "start_time": "2024-09-16T09:32:41.638Z"
   },
   {
    "duration": 376,
    "start_time": "2024-09-16T09:32:45.054Z"
   },
   {
    "duration": 269,
    "start_time": "2024-09-16T09:32:48.334Z"
   },
   {
    "duration": 6,
    "start_time": "2024-09-16T09:33:14.445Z"
   },
   {
    "duration": 94,
    "start_time": "2024-09-16T09:34:11.822Z"
   },
   {
    "duration": 4,
    "start_time": "2024-09-16T09:34:46.094Z"
   },
   {
    "duration": 170,
    "start_time": "2024-09-16T09:35:48.623Z"
   },
   {
    "duration": 10,
    "start_time": "2024-09-16T09:36:12.952Z"
   },
   {
    "duration": 12,
    "start_time": "2024-09-16T09:36:39.561Z"
   },
   {
    "duration": 6,
    "start_time": "2024-09-16T09:36:59.702Z"
   },
   {
    "duration": 6,
    "start_time": "2024-09-16T09:37:46.487Z"
   },
   {
    "duration": 6,
    "start_time": "2024-09-16T09:38:01.135Z"
   },
   {
    "duration": 8,
    "start_time": "2024-09-16T09:38:38.823Z"
   },
   {
    "duration": 8,
    "start_time": "2024-09-16T09:47:19.025Z"
   },
   {
    "duration": 4,
    "start_time": "2024-09-16T09:51:34.881Z"
   },
   {
    "duration": 120,
    "start_time": "2024-09-16T11:55:15.068Z"
   },
   {
    "duration": 1249,
    "start_time": "2024-09-16T11:55:30.266Z"
   },
   {
    "duration": 85,
    "start_time": "2024-09-16T11:55:31.517Z"
   },
   {
    "duration": 32,
    "start_time": "2024-09-16T11:55:31.603Z"
   },
   {
    "duration": 160,
    "start_time": "2024-09-16T11:55:31.637Z"
   },
   {
    "duration": 48,
    "start_time": "2024-09-16T11:55:31.799Z"
   },
   {
    "duration": 23,
    "start_time": "2024-09-16T11:55:31.848Z"
   },
   {
    "duration": 163,
    "start_time": "2024-09-16T11:55:31.872Z"
   },
   {
    "duration": 21,
    "start_time": "2024-09-16T11:55:32.036Z"
   },
   {
    "duration": 9,
    "start_time": "2024-09-16T11:55:32.059Z"
   },
   {
    "duration": 12,
    "start_time": "2024-09-16T11:55:32.071Z"
   },
   {
    "duration": 8,
    "start_time": "2024-09-16T11:55:32.085Z"
   },
   {
    "duration": 21,
    "start_time": "2024-09-16T11:55:32.095Z"
   },
   {
    "duration": 17,
    "start_time": "2024-09-16T11:55:32.118Z"
   },
   {
    "duration": 220,
    "start_time": "2024-09-16T11:55:32.137Z"
   },
   {
    "duration": 8,
    "start_time": "2024-09-16T11:55:32.359Z"
   },
   {
    "duration": 25,
    "start_time": "2024-09-16T11:55:32.369Z"
   },
   {
    "duration": 149,
    "start_time": "2024-09-16T11:55:32.396Z"
   },
   {
    "duration": 13,
    "start_time": "2024-09-16T11:55:32.547Z"
   },
   {
    "duration": 249,
    "start_time": "2024-09-16T11:55:32.562Z"
   },
   {
    "duration": 9,
    "start_time": "2024-09-16T11:55:32.812Z"
   },
   {
    "duration": 247,
    "start_time": "2024-09-16T11:55:32.823Z"
   },
   {
    "duration": 9,
    "start_time": "2024-09-16T11:55:33.072Z"
   },
   {
    "duration": 233,
    "start_time": "2024-09-16T11:55:33.084Z"
   },
   {
    "duration": 45,
    "start_time": "2024-09-16T11:55:33.319Z"
   },
   {
    "duration": 13,
    "start_time": "2024-09-16T11:55:33.366Z"
   },
   {
    "duration": 37,
    "start_time": "2024-09-16T11:55:33.381Z"
   },
   {
    "duration": 22,
    "start_time": "2024-09-16T11:55:33.419Z"
   },
   {
    "duration": 9,
    "start_time": "2024-09-16T11:55:33.457Z"
   },
   {
    "duration": 352,
    "start_time": "2024-09-16T11:55:33.468Z"
   },
   {
    "duration": 8,
    "start_time": "2024-09-16T11:55:33.822Z"
   },
   {
    "duration": 326,
    "start_time": "2024-09-16T11:55:33.832Z"
   },
   {
    "duration": 8,
    "start_time": "2024-09-16T11:55:34.160Z"
   },
   {
    "duration": 233,
    "start_time": "2024-09-16T11:55:34.170Z"
   },
   {
    "duration": 8,
    "start_time": "2024-09-16T11:55:34.405Z"
   },
   {
    "duration": 219,
    "start_time": "2024-09-16T11:55:34.415Z"
   },
   {
    "duration": 49,
    "start_time": "2024-09-16T11:55:34.636Z"
   },
   {
    "duration": 18,
    "start_time": "2024-09-16T11:55:34.687Z"
   },
   {
    "duration": 273,
    "start_time": "2024-09-16T11:55:34.706Z"
   },
   {
    "duration": 10,
    "start_time": "2024-09-16T11:55:34.982Z"
   },
   {
    "duration": 7,
    "start_time": "2024-09-16T11:55:34.994Z"
   },
   {
    "duration": 250,
    "start_time": "2024-09-16T11:55:35.003Z"
   },
   {
    "duration": 10,
    "start_time": "2024-09-16T11:55:35.255Z"
   },
   {
    "duration": 23,
    "start_time": "2024-09-16T11:55:35.267Z"
   },
   {
    "duration": 123,
    "start_time": "2024-09-16T11:55:35.292Z"
   },
   {
    "duration": 0,
    "start_time": "2024-09-16T11:55:35.417Z"
   },
   {
    "duration": 8,
    "start_time": "2024-09-16T11:56:46.225Z"
   },
   {
    "duration": 9,
    "start_time": "2024-09-16T11:57:14.002Z"
   },
   {
    "duration": 1305,
    "start_time": "2024-09-16T12:04:42.707Z"
   },
   {
    "duration": 87,
    "start_time": "2024-09-16T12:04:44.014Z"
   },
   {
    "duration": 28,
    "start_time": "2024-09-16T12:04:44.103Z"
   },
   {
    "duration": 15,
    "start_time": "2024-09-16T12:04:44.132Z"
   },
   {
    "duration": 18,
    "start_time": "2024-09-16T12:04:44.149Z"
   },
   {
    "duration": 7,
    "start_time": "2024-09-16T12:04:44.169Z"
   },
   {
    "duration": 19,
    "start_time": "2024-09-16T12:04:44.178Z"
   },
   {
    "duration": 15,
    "start_time": "2024-09-16T12:04:44.199Z"
   },
   {
    "duration": 17,
    "start_time": "2024-09-16T12:04:44.216Z"
   },
   {
    "duration": 22,
    "start_time": "2024-09-16T12:04:44.236Z"
   },
   {
    "duration": 39,
    "start_time": "2024-09-16T12:04:44.260Z"
   },
   {
    "duration": 9,
    "start_time": "2024-09-16T12:04:44.301Z"
   },
   {
    "duration": 21,
    "start_time": "2024-09-16T12:04:44.312Z"
   },
   {
    "duration": 210,
    "start_time": "2024-09-16T12:04:44.335Z"
   },
   {
    "duration": 15,
    "start_time": "2024-09-16T12:04:44.548Z"
   },
   {
    "duration": 14,
    "start_time": "2024-09-16T12:04:44.566Z"
   },
   {
    "duration": 168,
    "start_time": "2024-09-16T12:04:44.582Z"
   },
   {
    "duration": 10,
    "start_time": "2024-09-16T12:04:44.751Z"
   },
   {
    "duration": 278,
    "start_time": "2024-09-16T12:04:44.763Z"
   },
   {
    "duration": 18,
    "start_time": "2024-09-16T12:04:45.042Z"
   },
   {
    "duration": 260,
    "start_time": "2024-09-16T12:04:45.062Z"
   },
   {
    "duration": 9,
    "start_time": "2024-09-16T12:04:45.323Z"
   },
   {
    "duration": 226,
    "start_time": "2024-09-16T12:04:45.334Z"
   },
   {
    "duration": 33,
    "start_time": "2024-09-16T12:04:45.561Z"
   },
   {
    "duration": 12,
    "start_time": "2024-09-16T12:04:45.596Z"
   },
   {
    "duration": 47,
    "start_time": "2024-09-16T12:04:45.610Z"
   },
   {
    "duration": 21,
    "start_time": "2024-09-16T12:04:45.659Z"
   },
   {
    "duration": 9,
    "start_time": "2024-09-16T12:04:45.683Z"
   },
   {
    "duration": 257,
    "start_time": "2024-09-16T12:04:45.694Z"
   },
   {
    "duration": 8,
    "start_time": "2024-09-16T12:04:45.955Z"
   },
   {
    "duration": 372,
    "start_time": "2024-09-16T12:04:45.965Z"
   },
   {
    "duration": 30,
    "start_time": "2024-09-16T12:04:46.339Z"
   },
   {
    "duration": 245,
    "start_time": "2024-09-16T12:04:46.375Z"
   },
   {
    "duration": 9,
    "start_time": "2024-09-16T12:04:46.622Z"
   },
   {
    "duration": 234,
    "start_time": "2024-09-16T12:04:46.632Z"
   },
   {
    "duration": 46,
    "start_time": "2024-09-16T12:04:46.868Z"
   },
   {
    "duration": 17,
    "start_time": "2024-09-16T12:04:46.916Z"
   },
   {
    "duration": 262,
    "start_time": "2024-09-16T12:04:46.956Z"
   },
   {
    "duration": 10,
    "start_time": "2024-09-16T12:04:47.220Z"
   },
   {
    "duration": 24,
    "start_time": "2024-09-16T12:04:47.231Z"
   },
   {
    "duration": 221,
    "start_time": "2024-09-16T12:04:47.257Z"
   },
   {
    "duration": 9,
    "start_time": "2024-09-16T12:04:47.480Z"
   },
   {
    "duration": 8,
    "start_time": "2024-09-16T12:04:47.491Z"
   },
   {
    "duration": 38,
    "start_time": "2024-09-16T12:04:47.501Z"
   },
   {
    "duration": 69,
    "start_time": "2024-09-16T12:04:47.541Z"
   },
   {
    "duration": 1375,
    "start_time": "2024-09-16T14:36:32.534Z"
   },
   {
    "duration": 352,
    "start_time": "2024-09-16T14:36:33.911Z"
   },
   {
    "duration": 25,
    "start_time": "2024-09-16T14:36:34.265Z"
   },
   {
    "duration": 17,
    "start_time": "2024-09-16T14:36:34.292Z"
   },
   {
    "duration": 12,
    "start_time": "2024-09-16T14:36:34.312Z"
   },
   {
    "duration": 13,
    "start_time": "2024-09-16T14:36:34.325Z"
   },
   {
    "duration": 5,
    "start_time": "2024-09-16T14:36:34.340Z"
   },
   {
    "duration": 4,
    "start_time": "2024-09-16T14:36:34.347Z"
   },
   {
    "duration": 9,
    "start_time": "2024-09-16T14:36:34.376Z"
   },
   {
    "duration": 18,
    "start_time": "2024-09-16T14:36:34.387Z"
   },
   {
    "duration": 7,
    "start_time": "2024-09-16T14:36:34.407Z"
   },
   {
    "duration": 35,
    "start_time": "2024-09-16T14:36:34.416Z"
   },
   {
    "duration": 20,
    "start_time": "2024-09-16T14:36:34.453Z"
   },
   {
    "duration": 184,
    "start_time": "2024-09-16T14:36:34.477Z"
   },
   {
    "duration": 14,
    "start_time": "2024-09-16T14:36:34.662Z"
   },
   {
    "duration": 16,
    "start_time": "2024-09-16T14:36:34.678Z"
   },
   {
    "duration": 142,
    "start_time": "2024-09-16T14:36:34.695Z"
   },
   {
    "duration": 9,
    "start_time": "2024-09-16T14:36:34.839Z"
   },
   {
    "duration": 218,
    "start_time": "2024-09-16T14:36:34.850Z"
   },
   {
    "duration": 14,
    "start_time": "2024-09-16T14:36:35.069Z"
   },
   {
    "duration": 231,
    "start_time": "2024-09-16T14:36:35.084Z"
   },
   {
    "duration": 8,
    "start_time": "2024-09-16T14:36:35.317Z"
   },
   {
    "duration": 212,
    "start_time": "2024-09-16T14:36:35.327Z"
   },
   {
    "duration": 40,
    "start_time": "2024-09-16T14:36:35.540Z"
   },
   {
    "duration": 12,
    "start_time": "2024-09-16T14:36:35.581Z"
   },
   {
    "duration": 55,
    "start_time": "2024-09-16T14:36:35.595Z"
   },
   {
    "duration": 19,
    "start_time": "2024-09-16T14:36:35.651Z"
   },
   {
    "duration": 18,
    "start_time": "2024-09-16T14:36:35.672Z"
   },
   {
    "duration": 291,
    "start_time": "2024-09-16T14:36:35.691Z"
   },
   {
    "duration": 8,
    "start_time": "2024-09-16T14:36:35.984Z"
   },
   {
    "duration": 217,
    "start_time": "2024-09-16T14:36:35.994Z"
   },
   {
    "duration": 9,
    "start_time": "2024-09-16T14:36:36.213Z"
   },
   {
    "duration": 227,
    "start_time": "2024-09-16T14:36:36.224Z"
   },
   {
    "duration": 10,
    "start_time": "2024-09-16T14:36:36.452Z"
   },
   {
    "duration": 211,
    "start_time": "2024-09-16T14:36:36.477Z"
   },
   {
    "duration": 42,
    "start_time": "2024-09-16T14:36:36.690Z"
   },
   {
    "duration": 17,
    "start_time": "2024-09-16T14:36:36.734Z"
   },
   {
    "duration": 263,
    "start_time": "2024-09-16T14:36:36.752Z"
   },
   {
    "duration": 8,
    "start_time": "2024-09-16T14:36:37.016Z"
   },
   {
    "duration": 32,
    "start_time": "2024-09-16T14:36:37.026Z"
   },
   {
    "duration": 206,
    "start_time": "2024-09-16T14:36:37.061Z"
   },
   {
    "duration": 11,
    "start_time": "2024-09-16T14:36:37.269Z"
   },
   {
    "duration": 7,
    "start_time": "2024-09-16T14:36:37.281Z"
   },
   {
    "duration": 8,
    "start_time": "2024-09-16T14:36:37.289Z"
   },
   {
    "duration": 8,
    "start_time": "2024-09-16T14:36:37.298Z"
   },
   {
    "duration": 51,
    "start_time": "2024-09-17T10:34:39.500Z"
   },
   {
    "duration": 1310,
    "start_time": "2024-09-17T10:34:45.400Z"
   },
   {
    "duration": 294,
    "start_time": "2024-09-17T10:34:46.711Z"
   },
   {
    "duration": 26,
    "start_time": "2024-09-17T10:34:47.006Z"
   },
   {
    "duration": 29,
    "start_time": "2024-09-17T10:34:47.035Z"
   },
   {
    "duration": 12,
    "start_time": "2024-09-17T10:34:47.066Z"
   },
   {
    "duration": 20,
    "start_time": "2024-09-17T10:34:47.079Z"
   },
   {
    "duration": 20,
    "start_time": "2024-09-17T10:34:47.101Z"
   },
   {
    "duration": 15,
    "start_time": "2024-09-17T10:34:47.122Z"
   },
   {
    "duration": 25,
    "start_time": "2024-09-17T10:34:47.139Z"
   },
   {
    "duration": 10,
    "start_time": "2024-09-17T10:34:47.166Z"
   },
   {
    "duration": 21,
    "start_time": "2024-09-17T10:34:47.178Z"
   },
   {
    "duration": 14,
    "start_time": "2024-09-17T10:34:47.200Z"
   },
   {
    "duration": 27,
    "start_time": "2024-09-17T10:34:47.215Z"
   },
   {
    "duration": 189,
    "start_time": "2024-09-17T10:34:47.243Z"
   },
   {
    "duration": 8,
    "start_time": "2024-09-17T10:34:47.435Z"
   },
   {
    "duration": 28,
    "start_time": "2024-09-17T10:34:47.445Z"
   },
   {
    "duration": 167,
    "start_time": "2024-09-17T10:34:47.475Z"
   },
   {
    "duration": 997,
    "start_time": "2024-09-17T10:34:47.644Z"
   },
   {
    "duration": 0,
    "start_time": "2024-09-17T10:34:48.643Z"
   },
   {
    "duration": 0,
    "start_time": "2024-09-17T10:34:48.645Z"
   },
   {
    "duration": 0,
    "start_time": "2024-09-17T10:34:48.646Z"
   },
   {
    "duration": 0,
    "start_time": "2024-09-17T10:34:48.647Z"
   },
   {
    "duration": 0,
    "start_time": "2024-09-17T10:34:48.648Z"
   },
   {
    "duration": 0,
    "start_time": "2024-09-17T10:34:48.649Z"
   },
   {
    "duration": 0,
    "start_time": "2024-09-17T10:34:48.650Z"
   },
   {
    "duration": 0,
    "start_time": "2024-09-17T10:34:48.652Z"
   },
   {
    "duration": 0,
    "start_time": "2024-09-17T10:34:48.652Z"
   },
   {
    "duration": 0,
    "start_time": "2024-09-17T10:34:48.654Z"
   },
   {
    "duration": 0,
    "start_time": "2024-09-17T10:34:48.655Z"
   },
   {
    "duration": 0,
    "start_time": "2024-09-17T10:34:48.656Z"
   },
   {
    "duration": 0,
    "start_time": "2024-09-17T10:34:48.656Z"
   },
   {
    "duration": 0,
    "start_time": "2024-09-17T10:34:48.658Z"
   },
   {
    "duration": 0,
    "start_time": "2024-09-17T10:34:48.659Z"
   },
   {
    "duration": 0,
    "start_time": "2024-09-17T10:34:48.660Z"
   },
   {
    "duration": 0,
    "start_time": "2024-09-17T10:34:48.661Z"
   },
   {
    "duration": 0,
    "start_time": "2024-09-17T10:34:48.662Z"
   },
   {
    "duration": 0,
    "start_time": "2024-09-17T10:34:48.664Z"
   },
   {
    "duration": 0,
    "start_time": "2024-09-17T10:34:48.664Z"
   },
   {
    "duration": 0,
    "start_time": "2024-09-17T10:34:48.666Z"
   },
   {
    "duration": 0,
    "start_time": "2024-09-17T10:34:48.666Z"
   },
   {
    "duration": 0,
    "start_time": "2024-09-17T10:34:48.668Z"
   },
   {
    "duration": 0,
    "start_time": "2024-09-17T10:34:48.669Z"
   },
   {
    "duration": 0,
    "start_time": "2024-09-17T10:34:48.670Z"
   },
   {
    "duration": 0,
    "start_time": "2024-09-17T10:34:48.671Z"
   },
   {
    "duration": 0,
    "start_time": "2024-09-17T10:34:48.672Z"
   },
   {
    "duration": 0,
    "start_time": "2024-09-17T10:34:48.673Z"
   },
   {
    "duration": 920,
    "start_time": "2024-09-17T10:36:37.747Z"
   },
   {
    "duration": 13,
    "start_time": "2024-09-17T10:36:58.004Z"
   },
   {
    "duration": 69,
    "start_time": "2024-09-17T10:37:39.659Z"
   },
   {
    "duration": 121,
    "start_time": "2024-09-17T10:37:49.020Z"
   },
   {
    "duration": 900,
    "start_time": "2024-09-17T10:38:08.420Z"
   },
   {
    "duration": 124,
    "start_time": "2024-09-17T10:38:19.972Z"
   },
   {
    "duration": 70,
    "start_time": "2024-09-17T10:41:21.780Z"
   },
   {
    "duration": 14,
    "start_time": "2024-09-17T10:41:29.468Z"
   },
   {
    "duration": 11,
    "start_time": "2024-09-17T10:41:42.356Z"
   },
   {
    "duration": 78,
    "start_time": "2024-09-17T10:42:09.652Z"
   },
   {
    "duration": 125,
    "start_time": "2024-09-17T10:42:31.148Z"
   },
   {
    "duration": 123,
    "start_time": "2024-09-17T10:42:56.629Z"
   },
   {
    "duration": 118,
    "start_time": "2024-09-17T10:43:25.413Z"
   },
   {
    "duration": 196,
    "start_time": "2024-09-17T10:43:30.750Z"
   },
   {
    "duration": 160,
    "start_time": "2024-09-17T10:44:27.549Z"
   },
   {
    "duration": 132,
    "start_time": "2024-09-17T10:44:35.901Z"
   },
   {
    "duration": 135,
    "start_time": "2024-09-17T10:45:19.685Z"
   },
   {
    "duration": 129,
    "start_time": "2024-09-17T10:45:41.189Z"
   },
   {
    "duration": 119,
    "start_time": "2024-09-17T10:45:47.916Z"
   },
   {
    "duration": 120,
    "start_time": "2024-09-17T10:45:52.981Z"
   },
   {
    "duration": 128,
    "start_time": "2024-09-17T10:46:00.366Z"
   },
   {
    "duration": 122,
    "start_time": "2024-09-17T10:46:09.381Z"
   },
   {
    "duration": 146,
    "start_time": "2024-09-17T10:46:13.709Z"
   },
   {
    "duration": 134,
    "start_time": "2024-09-17T10:46:23.205Z"
   },
   {
    "duration": 8,
    "start_time": "2024-09-17T10:47:11.197Z"
   },
   {
    "duration": 144,
    "start_time": "2024-09-17T10:47:40.773Z"
   },
   {
    "duration": 125,
    "start_time": "2024-09-17T10:47:58.053Z"
   },
   {
    "duration": 148,
    "start_time": "2024-09-17T10:48:09.925Z"
   },
   {
    "duration": 128,
    "start_time": "2024-09-17T10:50:59.486Z"
   },
   {
    "duration": 119,
    "start_time": "2024-09-17T10:51:06.998Z"
   },
   {
    "duration": 216,
    "start_time": "2024-09-17T10:51:14.734Z"
   },
   {
    "duration": 1172,
    "start_time": "2024-09-17T10:51:45.311Z"
   },
   {
    "duration": 79,
    "start_time": "2024-09-17T10:51:46.485Z"
   },
   {
    "duration": 25,
    "start_time": "2024-09-17T10:51:46.566Z"
   },
   {
    "duration": 14,
    "start_time": "2024-09-17T10:51:46.593Z"
   },
   {
    "duration": 12,
    "start_time": "2024-09-17T10:51:46.608Z"
   },
   {
    "duration": 6,
    "start_time": "2024-09-17T10:51:46.622Z"
   },
   {
    "duration": 38,
    "start_time": "2024-09-17T10:51:46.630Z"
   },
   {
    "duration": 21,
    "start_time": "2024-09-17T10:51:46.669Z"
   },
   {
    "duration": 21,
    "start_time": "2024-09-17T10:51:46.691Z"
   },
   {
    "duration": 6,
    "start_time": "2024-09-17T10:51:46.716Z"
   },
   {
    "duration": 8,
    "start_time": "2024-09-17T10:51:46.723Z"
   },
   {
    "duration": 6,
    "start_time": "2024-09-17T10:51:46.733Z"
   },
   {
    "duration": 23,
    "start_time": "2024-09-17T10:51:46.741Z"
   },
   {
    "duration": 181,
    "start_time": "2024-09-17T10:51:46.765Z"
   },
   {
    "duration": 8,
    "start_time": "2024-09-17T10:51:46.947Z"
   },
   {
    "duration": 11,
    "start_time": "2024-09-17T10:51:46.965Z"
   },
   {
    "duration": 151,
    "start_time": "2024-09-17T10:51:46.977Z"
   },
   {
    "duration": 146,
    "start_time": "2024-09-17T10:51:47.130Z"
   },
   {
    "duration": 7,
    "start_time": "2024-09-17T10:51:47.278Z"
   },
   {
    "duration": 225,
    "start_time": "2024-09-17T10:51:47.287Z"
   },
   {
    "duration": 9,
    "start_time": "2024-09-17T10:51:47.513Z"
   },
   {
    "duration": 236,
    "start_time": "2024-09-17T10:51:47.523Z"
   },
   {
    "duration": 10,
    "start_time": "2024-09-17T10:51:47.761Z"
   },
   {
    "duration": 209,
    "start_time": "2024-09-17T10:51:47.773Z"
   },
   {
    "duration": 31,
    "start_time": "2024-09-17T10:51:47.983Z"
   },
   {
    "duration": 12,
    "start_time": "2024-09-17T10:51:48.015Z"
   },
   {
    "duration": 105,
    "start_time": "2024-09-17T10:51:48.028Z"
   },
   {
    "duration": 18,
    "start_time": "2024-09-17T10:51:48.136Z"
   },
   {
    "duration": 8,
    "start_time": "2024-09-17T10:51:48.165Z"
   },
   {
    "duration": 241,
    "start_time": "2024-09-17T10:51:48.175Z"
   },
   {
    "duration": 8,
    "start_time": "2024-09-17T10:51:48.417Z"
   },
   {
    "duration": 220,
    "start_time": "2024-09-17T10:51:48.427Z"
   },
   {
    "duration": 8,
    "start_time": "2024-09-17T10:51:48.649Z"
   },
   {
    "duration": 226,
    "start_time": "2024-09-17T10:51:48.665Z"
   },
   {
    "duration": 8,
    "start_time": "2024-09-17T10:51:48.893Z"
   },
   {
    "duration": 264,
    "start_time": "2024-09-17T10:51:48.903Z"
   },
   {
    "duration": 46,
    "start_time": "2024-09-17T10:51:49.169Z"
   },
   {
    "duration": 17,
    "start_time": "2024-09-17T10:51:49.216Z"
   },
   {
    "duration": 270,
    "start_time": "2024-09-17T10:51:49.234Z"
   },
   {
    "duration": 8,
    "start_time": "2024-09-17T10:51:49.506Z"
   },
   {
    "duration": 5,
    "start_time": "2024-09-17T10:51:49.516Z"
   },
   {
    "duration": 220,
    "start_time": "2024-09-17T10:51:49.523Z"
   },
   {
    "duration": 9,
    "start_time": "2024-09-17T10:51:49.744Z"
   },
   {
    "duration": 19,
    "start_time": "2024-09-17T10:51:49.754Z"
   },
   {
    "duration": 9,
    "start_time": "2024-09-17T10:51:49.774Z"
   },
   {
    "duration": 8,
    "start_time": "2024-09-17T10:51:49.784Z"
   },
   {
    "duration": 66,
    "start_time": "2024-09-17T10:52:29.414Z"
   },
   {
    "duration": 260,
    "start_time": "2024-09-17T10:53:57.071Z"
   },
   {
    "duration": 356,
    "start_time": "2024-09-17T10:57:34.151Z"
   },
   {
    "duration": 145,
    "start_time": "2024-09-17T11:01:25.409Z"
   },
   {
    "duration": 143,
    "start_time": "2024-09-17T11:01:48.080Z"
   },
   {
    "duration": 143,
    "start_time": "2024-09-17T11:02:16.383Z"
   },
   {
    "duration": 306,
    "start_time": "2024-09-17T11:05:39.080Z"
   },
   {
    "duration": 319,
    "start_time": "2024-09-17T11:05:47.705Z"
   },
   {
    "duration": 314,
    "start_time": "2024-09-17T11:13:50.114Z"
   },
   {
    "duration": 365,
    "start_time": "2024-09-17T11:14:28.809Z"
   },
   {
    "duration": 360,
    "start_time": "2024-09-17T11:16:18.953Z"
   },
   {
    "duration": 80,
    "start_time": "2024-09-17T11:16:49.969Z"
   },
   {
    "duration": 310,
    "start_time": "2024-09-17T11:16:56.296Z"
   },
   {
    "duration": 306,
    "start_time": "2024-09-17T11:17:58.489Z"
   },
   {
    "duration": 11,
    "start_time": "2024-09-17T11:18:33.058Z"
   },
   {
    "duration": 263,
    "start_time": "2024-09-17T11:18:54.354Z"
   },
   {
    "duration": 293,
    "start_time": "2024-09-17T11:19:03.346Z"
   },
   {
    "duration": 415,
    "start_time": "2024-09-17T11:19:26.010Z"
   },
   {
    "duration": 212,
    "start_time": "2024-09-17T11:19:48.249Z"
   },
   {
    "duration": 189,
    "start_time": "2024-09-17T11:20:25.089Z"
   },
   {
    "duration": 203,
    "start_time": "2024-09-17T11:20:34.211Z"
   },
   {
    "duration": 298,
    "start_time": "2024-09-17T11:21:48.306Z"
   },
   {
    "duration": 259,
    "start_time": "2024-09-17T11:22:15.353Z"
   },
   {
    "duration": 258,
    "start_time": "2024-09-17T11:22:20.802Z"
   },
   {
    "duration": 362,
    "start_time": "2024-09-17T11:36:47.184Z"
   },
   {
    "duration": 308,
    "start_time": "2024-09-17T11:45:44.629Z"
   },
   {
    "duration": 302,
    "start_time": "2024-09-17T11:51:53.071Z"
   },
   {
    "duration": 319,
    "start_time": "2024-09-17T11:52:12.222Z"
   },
   {
    "duration": 343,
    "start_time": "2024-09-17T11:53:06.078Z"
   },
   {
    "duration": 476,
    "start_time": "2024-09-17T11:53:33.021Z"
   },
   {
    "duration": 327,
    "start_time": "2024-09-17T11:54:11.085Z"
   },
   {
    "duration": 71,
    "start_time": "2024-09-17T11:55:43.903Z"
   },
   {
    "duration": 45,
    "start_time": "2024-09-17T11:56:00.422Z"
   },
   {
    "duration": 61,
    "start_time": "2024-09-17T11:57:53.207Z"
   },
   {
    "duration": 359,
    "start_time": "2024-09-17T11:58:16.175Z"
   },
   {
    "duration": 30,
    "start_time": "2024-09-17T11:58:27.926Z"
   },
   {
    "duration": 25,
    "start_time": "2024-09-17T11:58:43.551Z"
   },
   {
    "duration": 53,
    "start_time": "2024-09-17T12:02:25.751Z"
   },
   {
    "duration": 47,
    "start_time": "2024-09-17T12:03:23.287Z"
   },
   {
    "duration": 40,
    "start_time": "2024-09-17T12:03:51.343Z"
   },
   {
    "duration": 13,
    "start_time": "2024-09-17T12:11:25.671Z"
   },
   {
    "duration": 10,
    "start_time": "2024-09-17T12:11:30.136Z"
   },
   {
    "duration": 11,
    "start_time": "2024-09-17T12:11:36.167Z"
   },
   {
    "duration": 5,
    "start_time": "2024-09-17T12:11:49.672Z"
   },
   {
    "duration": 13,
    "start_time": "2024-09-17T12:12:37.761Z"
   },
   {
    "duration": 13,
    "start_time": "2024-09-17T12:12:41.120Z"
   },
   {
    "duration": 333,
    "start_time": "2024-09-17T12:51:35.829Z"
   },
   {
    "duration": 1199,
    "start_time": "2024-09-17T12:51:45.567Z"
   },
   {
    "duration": 78,
    "start_time": "2024-09-17T12:51:46.768Z"
   },
   {
    "duration": 24,
    "start_time": "2024-09-17T12:51:46.848Z"
   },
   {
    "duration": 13,
    "start_time": "2024-09-17T12:51:46.874Z"
   },
   {
    "duration": 11,
    "start_time": "2024-09-17T12:51:46.888Z"
   },
   {
    "duration": 6,
    "start_time": "2024-09-17T12:51:46.900Z"
   },
   {
    "duration": 10,
    "start_time": "2024-09-17T12:51:46.908Z"
   },
   {
    "duration": 6,
    "start_time": "2024-09-17T12:51:46.919Z"
   },
   {
    "duration": 8,
    "start_time": "2024-09-17T12:51:46.926Z"
   },
   {
    "duration": 7,
    "start_time": "2024-09-17T12:51:46.964Z"
   },
   {
    "duration": 8,
    "start_time": "2024-09-17T12:51:46.972Z"
   },
   {
    "duration": 6,
    "start_time": "2024-09-17T12:51:46.982Z"
   },
   {
    "duration": 7,
    "start_time": "2024-09-17T12:51:46.990Z"
   },
   {
    "duration": 207,
    "start_time": "2024-09-17T12:51:46.998Z"
   },
   {
    "duration": 11,
    "start_time": "2024-09-17T12:51:47.207Z"
   },
   {
    "duration": 14,
    "start_time": "2024-09-17T12:51:47.224Z"
   },
   {
    "duration": 154,
    "start_time": "2024-09-17T12:51:47.240Z"
   },
   {
    "duration": 142,
    "start_time": "2024-09-17T12:51:47.396Z"
   },
   {
    "duration": 8,
    "start_time": "2024-09-17T12:51:47.540Z"
   },
   {
    "duration": 231,
    "start_time": "2024-09-17T12:51:47.549Z"
   },
   {
    "duration": 10,
    "start_time": "2024-09-17T12:51:47.782Z"
   },
   {
    "duration": 235,
    "start_time": "2024-09-17T12:51:47.794Z"
   },
   {
    "duration": 8,
    "start_time": "2024-09-17T12:51:48.030Z"
   },
   {
    "duration": 202,
    "start_time": "2024-09-17T12:51:48.039Z"
   },
   {
    "duration": 36,
    "start_time": "2024-09-17T12:51:48.243Z"
   },
   {
    "duration": 30,
    "start_time": "2024-09-17T12:51:48.281Z"
   },
   {
    "duration": 13,
    "start_time": "2024-09-17T12:51:48.313Z"
   },
   {
    "duration": 91,
    "start_time": "2024-09-17T12:51:48.330Z"
   },
   {
    "duration": 27,
    "start_time": "2024-09-17T12:51:48.422Z"
   },
   {
    "duration": 25,
    "start_time": "2024-09-17T12:51:48.451Z"
   },
   {
    "duration": 226,
    "start_time": "2024-09-17T12:51:48.478Z"
   },
   {
    "duration": 9,
    "start_time": "2024-09-17T12:51:48.706Z"
   },
   {
    "duration": 221,
    "start_time": "2024-09-17T12:51:48.717Z"
   },
   {
    "duration": 9,
    "start_time": "2024-09-17T12:51:48.940Z"
   },
   {
    "duration": 392,
    "start_time": "2024-09-17T12:51:48.950Z"
   },
   {
    "duration": 22,
    "start_time": "2024-09-17T12:51:49.343Z"
   },
   {
    "duration": 310,
    "start_time": "2024-09-17T12:51:49.367Z"
   },
   {
    "duration": 358,
    "start_time": "2024-09-17T12:51:49.679Z"
   },
   {
    "duration": 0,
    "start_time": "2024-09-17T12:51:50.039Z"
   },
   {
    "duration": 0,
    "start_time": "2024-09-17T12:51:50.041Z"
   },
   {
    "duration": 0,
    "start_time": "2024-09-17T12:51:50.043Z"
   },
   {
    "duration": 0,
    "start_time": "2024-09-17T12:51:50.044Z"
   },
   {
    "duration": 0,
    "start_time": "2024-09-17T12:51:50.045Z"
   },
   {
    "duration": 0,
    "start_time": "2024-09-17T12:51:50.047Z"
   },
   {
    "duration": 0,
    "start_time": "2024-09-17T12:51:50.048Z"
   },
   {
    "duration": 0,
    "start_time": "2024-09-17T12:51:50.050Z"
   },
   {
    "duration": 0,
    "start_time": "2024-09-17T12:51:50.052Z"
   },
   {
    "duration": 54,
    "start_time": "2024-09-17T12:52:57.454Z"
   },
   {
    "duration": 50,
    "start_time": "2024-09-17T12:53:17.127Z"
   },
   {
    "duration": 20,
    "start_time": "2024-09-17T13:10:53.273Z"
   },
   {
    "duration": 1225,
    "start_time": "2024-09-17T13:12:09.959Z"
   },
   {
    "duration": 77,
    "start_time": "2024-09-17T13:12:11.186Z"
   },
   {
    "duration": 25,
    "start_time": "2024-09-17T13:12:11.265Z"
   },
   {
    "duration": 13,
    "start_time": "2024-09-17T13:12:11.292Z"
   },
   {
    "duration": 11,
    "start_time": "2024-09-17T13:12:11.307Z"
   },
   {
    "duration": 6,
    "start_time": "2024-09-17T13:12:11.320Z"
   },
   {
    "duration": 38,
    "start_time": "2024-09-17T13:12:11.327Z"
   },
   {
    "duration": 4,
    "start_time": "2024-09-17T13:12:11.367Z"
   },
   {
    "duration": 91,
    "start_time": "2024-09-17T13:12:11.373Z"
   },
   {
    "duration": 78,
    "start_time": "2024-09-17T13:12:11.467Z"
   },
   {
    "duration": 8,
    "start_time": "2024-09-17T13:12:11.547Z"
   },
   {
    "duration": 7,
    "start_time": "2024-09-17T13:12:11.556Z"
   },
   {
    "duration": 6,
    "start_time": "2024-09-17T13:12:11.565Z"
   },
   {
    "duration": 193,
    "start_time": "2024-09-17T13:12:11.572Z"
   },
   {
    "duration": 9,
    "start_time": "2024-09-17T13:12:11.767Z"
   },
   {
    "duration": 12,
    "start_time": "2024-09-17T13:12:11.778Z"
   },
   {
    "duration": 169,
    "start_time": "2024-09-17T13:12:11.792Z"
   },
   {
    "duration": 151,
    "start_time": "2024-09-17T13:12:11.965Z"
   },
   {
    "duration": 9,
    "start_time": "2024-09-17T13:12:12.117Z"
   },
   {
    "duration": 228,
    "start_time": "2024-09-17T13:12:12.128Z"
   },
   {
    "duration": 13,
    "start_time": "2024-09-17T13:12:12.358Z"
   },
   {
    "duration": 228,
    "start_time": "2024-09-17T13:12:12.372Z"
   },
   {
    "duration": 8,
    "start_time": "2024-09-17T13:12:12.602Z"
   },
   {
    "duration": 235,
    "start_time": "2024-09-17T13:12:12.612Z"
   },
   {
    "duration": 40,
    "start_time": "2024-09-17T13:12:12.849Z"
   },
   {
    "duration": 13,
    "start_time": "2024-09-17T13:12:12.891Z"
   },
   {
    "duration": 31,
    "start_time": "2024-09-17T13:12:12.905Z"
   },
   {
    "duration": 125,
    "start_time": "2024-09-17T13:12:12.941Z"
   },
   {
    "duration": 26,
    "start_time": "2024-09-17T13:12:13.068Z"
   },
   {
    "duration": 8,
    "start_time": "2024-09-17T13:12:13.096Z"
   },
   {
    "duration": 243,
    "start_time": "2024-09-17T13:12:13.105Z"
   },
   {
    "duration": 16,
    "start_time": "2024-09-17T13:12:13.349Z"
   },
   {
    "duration": 211,
    "start_time": "2024-09-17T13:12:13.367Z"
   },
   {
    "duration": 8,
    "start_time": "2024-09-17T13:12:13.579Z"
   },
   {
    "duration": 370,
    "start_time": "2024-09-17T13:12:13.589Z"
   },
   {
    "duration": 10,
    "start_time": "2024-09-17T13:12:13.961Z"
   },
   {
    "duration": 346,
    "start_time": "2024-09-17T13:12:13.973Z"
   },
   {
    "duration": 59,
    "start_time": "2024-09-17T13:12:14.321Z"
   },
   {
    "duration": 19,
    "start_time": "2024-09-17T13:12:14.382Z"
   },
   {
    "duration": 253,
    "start_time": "2024-09-17T13:12:14.402Z"
   },
   {
    "duration": 15,
    "start_time": "2024-09-17T13:12:14.657Z"
   },
   {
    "duration": 8,
    "start_time": "2024-09-17T13:12:14.673Z"
   },
   {
    "duration": 220,
    "start_time": "2024-09-17T13:12:14.682Z"
   },
   {
    "duration": 9,
    "start_time": "2024-09-17T13:12:14.904Z"
   },
   {
    "duration": 14,
    "start_time": "2024-09-17T13:12:14.914Z"
   },
   {
    "duration": 13,
    "start_time": "2024-09-17T13:12:14.930Z"
   },
   {
    "duration": 22,
    "start_time": "2024-09-17T13:12:14.944Z"
   },
   {
    "duration": 342,
    "start_time": "2024-09-17T13:45:59.887Z"
   },
   {
    "duration": 182,
    "start_time": "2024-09-17T13:49:46.728Z"
   },
   {
    "duration": 7,
    "start_time": "2024-09-17T14:01:48.744Z"
   },
   {
    "duration": 161,
    "start_time": "2024-09-17T14:03:36.217Z"
   },
   {
    "duration": 286,
    "start_time": "2024-09-17T14:04:53.681Z"
   },
   {
    "duration": 232,
    "start_time": "2024-09-17T14:05:17.113Z"
   },
   {
    "duration": 246,
    "start_time": "2024-09-17T14:05:41.868Z"
   },
   {
    "duration": 221,
    "start_time": "2024-09-17T14:05:57.961Z"
   },
   {
    "duration": 102,
    "start_time": "2024-09-17T14:07:11.921Z"
   },
   {
    "duration": 152,
    "start_time": "2024-09-17T14:07:49.417Z"
   },
   {
    "duration": 150,
    "start_time": "2024-09-17T14:08:09.201Z"
   },
   {
    "duration": 13,
    "start_time": "2024-09-17T14:09:57.882Z"
   },
   {
    "duration": 225,
    "start_time": "2024-09-17T14:10:10.434Z"
   },
   {
    "duration": 13,
    "start_time": "2024-09-17T14:11:50.923Z"
   },
   {
    "duration": 313,
    "start_time": "2024-09-17T14:12:19.403Z"
   },
   {
    "duration": 249,
    "start_time": "2024-09-17T14:12:40.713Z"
   },
   {
    "duration": 183,
    "start_time": "2024-09-17T14:13:18.442Z"
   },
   {
    "duration": 115,
    "start_time": "2024-09-17T14:15:46.570Z"
   },
   {
    "duration": 171,
    "start_time": "2024-09-17T14:17:16.811Z"
   },
   {
    "duration": 135,
    "start_time": "2024-09-17T14:18:10.370Z"
   },
   {
    "duration": 122,
    "start_time": "2024-09-17T14:18:13.147Z"
   },
   {
    "duration": 115,
    "start_time": "2024-09-17T14:18:19.187Z"
   },
   {
    "duration": 184,
    "start_time": "2024-09-17T14:18:35.698Z"
   },
   {
    "duration": 208,
    "start_time": "2024-09-17T14:19:05.627Z"
   },
   {
    "duration": 189,
    "start_time": "2024-09-17T14:19:45.235Z"
   },
   {
    "duration": 65,
    "start_time": "2024-09-17T14:20:25.540Z"
   },
   {
    "duration": 74,
    "start_time": "2024-09-17T14:20:43.995Z"
   },
   {
    "duration": 223,
    "start_time": "2024-09-17T14:21:08.587Z"
   },
   {
    "duration": 120,
    "start_time": "2024-09-17T14:21:14.683Z"
   },
   {
    "duration": 71,
    "start_time": "2024-09-17T14:21:21.971Z"
   },
   {
    "duration": 184,
    "start_time": "2024-09-17T14:21:26.212Z"
   },
   {
    "duration": 134,
    "start_time": "2024-09-17T14:23:40.772Z"
   },
   {
    "duration": 127,
    "start_time": "2024-09-17T14:23:45.355Z"
   },
   {
    "duration": 194,
    "start_time": "2024-09-17T14:24:10.292Z"
   },
   {
    "duration": 180,
    "start_time": "2024-09-17T14:24:18.339Z"
   },
   {
    "duration": 70,
    "start_time": "2024-09-17T14:24:54.692Z"
   },
   {
    "duration": 214,
    "start_time": "2024-09-17T14:25:00.620Z"
   },
   {
    "duration": 199,
    "start_time": "2024-09-17T14:25:15.235Z"
   },
   {
    "duration": 144,
    "start_time": "2024-09-17T14:33:58.685Z"
   },
   {
    "duration": 152,
    "start_time": "2024-09-17T14:34:11.205Z"
   },
   {
    "duration": 231,
    "start_time": "2024-09-17T14:34:29.717Z"
   },
   {
    "duration": 141,
    "start_time": "2024-09-17T14:35:38.133Z"
   },
   {
    "duration": 144,
    "start_time": "2024-09-17T14:35:42.813Z"
   },
   {
    "duration": 150,
    "start_time": "2024-09-17T14:36:16.358Z"
   },
   {
    "duration": 146,
    "start_time": "2024-09-17T14:36:30.437Z"
   },
   {
    "duration": 169,
    "start_time": "2024-09-17T14:36:50.629Z"
   },
   {
    "duration": 150,
    "start_time": "2024-09-17T14:36:55.085Z"
   },
   {
    "duration": 167,
    "start_time": "2024-09-17T14:37:06.973Z"
   },
   {
    "duration": 142,
    "start_time": "2024-09-17T14:37:11.021Z"
   },
   {
    "duration": 8,
    "start_time": "2024-09-17T14:42:19.566Z"
   },
   {
    "duration": 184,
    "start_time": "2024-09-17T14:43:32.566Z"
   },
   {
    "duration": 177,
    "start_time": "2024-09-17T14:46:36.386Z"
   },
   {
    "duration": 73,
    "start_time": "2024-09-17T14:47:06.159Z"
   },
   {
    "duration": 134,
    "start_time": "2024-09-17T14:47:12.671Z"
   },
   {
    "duration": 244,
    "start_time": "2024-09-17T14:47:17.327Z"
   },
   {
    "duration": 1257,
    "start_time": "2024-09-17T14:47:59.253Z"
   },
   {
    "duration": 86,
    "start_time": "2024-09-17T14:48:00.512Z"
   },
   {
    "duration": 26,
    "start_time": "2024-09-17T14:48:00.599Z"
   },
   {
    "duration": 14,
    "start_time": "2024-09-17T14:48:00.627Z"
   },
   {
    "duration": 39,
    "start_time": "2024-09-17T14:48:00.642Z"
   },
   {
    "duration": 23,
    "start_time": "2024-09-17T14:48:00.682Z"
   },
   {
    "duration": 19,
    "start_time": "2024-09-17T14:48:00.707Z"
   },
   {
    "duration": 34,
    "start_time": "2024-09-17T14:48:00.728Z"
   },
   {
    "duration": 23,
    "start_time": "2024-09-17T14:48:00.764Z"
   },
   {
    "duration": 6,
    "start_time": "2024-09-17T14:48:00.790Z"
   },
   {
    "duration": 11,
    "start_time": "2024-09-17T14:48:00.798Z"
   },
   {
    "duration": 6,
    "start_time": "2024-09-17T14:48:00.811Z"
   },
   {
    "duration": 15,
    "start_time": "2024-09-17T14:48:00.819Z"
   },
   {
    "duration": 187,
    "start_time": "2024-09-17T14:48:00.836Z"
   },
   {
    "duration": 7,
    "start_time": "2024-09-17T14:48:01.025Z"
   },
   {
    "duration": 11,
    "start_time": "2024-09-17T14:48:01.033Z"
   },
   {
    "duration": 141,
    "start_time": "2024-09-17T14:48:01.046Z"
   },
   {
    "duration": 157,
    "start_time": "2024-09-17T14:48:01.189Z"
   },
   {
    "duration": 18,
    "start_time": "2024-09-17T14:48:01.350Z"
   },
   {
    "duration": 212,
    "start_time": "2024-09-17T14:48:01.369Z"
   },
   {
    "duration": 9,
    "start_time": "2024-09-17T14:48:01.583Z"
   },
   {
    "duration": 254,
    "start_time": "2024-09-17T14:48:01.593Z"
   },
   {
    "duration": 17,
    "start_time": "2024-09-17T14:48:01.849Z"
   },
   {
    "duration": 241,
    "start_time": "2024-09-17T14:48:01.868Z"
   },
   {
    "duration": 29,
    "start_time": "2024-09-17T14:48:02.112Z"
   },
   {
    "duration": 23,
    "start_time": "2024-09-17T14:48:02.143Z"
   },
   {
    "duration": 13,
    "start_time": "2024-09-17T14:48:02.168Z"
   },
   {
    "duration": 112,
    "start_time": "2024-09-17T14:48:02.184Z"
   },
   {
    "duration": 20,
    "start_time": "2024-09-17T14:48:02.298Z"
   },
   {
    "duration": 43,
    "start_time": "2024-09-17T14:48:02.320Z"
   },
   {
    "duration": 248,
    "start_time": "2024-09-17T14:48:02.365Z"
   },
   {
    "duration": 8,
    "start_time": "2024-09-17T14:48:02.615Z"
   },
   {
    "duration": 220,
    "start_time": "2024-09-17T14:48:02.625Z"
   },
   {
    "duration": 20,
    "start_time": "2024-09-17T14:48:02.847Z"
   },
   {
    "duration": 368,
    "start_time": "2024-09-17T14:48:02.870Z"
   },
   {
    "duration": 11,
    "start_time": "2024-09-17T14:48:03.240Z"
   },
   {
    "duration": 323,
    "start_time": "2024-09-17T14:48:03.264Z"
   },
   {
    "duration": 58,
    "start_time": "2024-09-17T14:48:03.588Z"
   },
   {
    "duration": 32,
    "start_time": "2024-09-17T14:48:03.648Z"
   },
   {
    "duration": 289,
    "start_time": "2024-09-17T14:48:03.682Z"
   },
   {
    "duration": 11,
    "start_time": "2024-09-17T14:48:03.973Z"
   },
   {
    "duration": 10,
    "start_time": "2024-09-17T14:48:03.986Z"
   },
   {
    "duration": 21,
    "start_time": "2024-09-17T14:48:03.998Z"
   },
   {
    "duration": 158,
    "start_time": "2024-09-17T14:48:04.021Z"
   },
   {
    "duration": 9,
    "start_time": "2024-09-17T14:48:04.181Z"
   },
   {
    "duration": 8,
    "start_time": "2024-09-17T14:48:04.192Z"
   },
   {
    "duration": 7,
    "start_time": "2024-09-17T14:48:04.202Z"
   },
   {
    "duration": 56,
    "start_time": "2024-09-17T14:48:04.211Z"
   },
   {
    "duration": 1174,
    "start_time": "2024-09-17T14:54:54.421Z"
   },
   {
    "duration": 89,
    "start_time": "2024-09-17T14:54:55.597Z"
   },
   {
    "duration": 27,
    "start_time": "2024-09-17T14:54:55.688Z"
   },
   {
    "duration": 22,
    "start_time": "2024-09-17T14:54:55.718Z"
   },
   {
    "duration": 28,
    "start_time": "2024-09-17T14:54:55.742Z"
   },
   {
    "duration": 6,
    "start_time": "2024-09-17T14:54:55.772Z"
   },
   {
    "duration": 62,
    "start_time": "2024-09-17T14:54:55.781Z"
   },
   {
    "duration": 14,
    "start_time": "2024-09-17T14:54:55.845Z"
   },
   {
    "duration": 23,
    "start_time": "2024-09-17T14:54:55.861Z"
   },
   {
    "duration": 8,
    "start_time": "2024-09-17T14:54:55.887Z"
   },
   {
    "duration": 29,
    "start_time": "2024-09-17T14:54:55.897Z"
   },
   {
    "duration": 7,
    "start_time": "2024-09-17T14:54:55.928Z"
   },
   {
    "duration": 23,
    "start_time": "2024-09-17T14:54:55.937Z"
   },
   {
    "duration": 187,
    "start_time": "2024-09-17T14:54:55.961Z"
   },
   {
    "duration": 15,
    "start_time": "2024-09-17T14:54:56.150Z"
   },
   {
    "duration": 21,
    "start_time": "2024-09-17T14:54:56.167Z"
   },
   {
    "duration": 159,
    "start_time": "2024-09-17T14:54:56.190Z"
   },
   {
    "duration": 155,
    "start_time": "2024-09-17T14:54:56.351Z"
   },
   {
    "duration": 8,
    "start_time": "2024-09-17T14:54:56.508Z"
   },
   {
    "duration": 236,
    "start_time": "2024-09-17T14:54:56.518Z"
   },
   {
    "duration": 17,
    "start_time": "2024-09-17T14:54:56.756Z"
   },
   {
    "duration": 245,
    "start_time": "2024-09-17T14:54:56.775Z"
   },
   {
    "duration": 9,
    "start_time": "2024-09-17T14:54:57.021Z"
   },
   {
    "duration": 255,
    "start_time": "2024-09-17T14:54:57.032Z"
   },
   {
    "duration": 37,
    "start_time": "2024-09-17T14:54:57.289Z"
   },
   {
    "duration": 13,
    "start_time": "2024-09-17T14:54:57.328Z"
   },
   {
    "duration": 68,
    "start_time": "2024-09-17T14:54:57.342Z"
   },
   {
    "duration": 106,
    "start_time": "2024-09-17T14:54:57.415Z"
   },
   {
    "duration": 28,
    "start_time": "2024-09-17T14:54:57.523Z"
   },
   {
    "duration": 15,
    "start_time": "2024-09-17T14:54:57.552Z"
   },
   {
    "duration": 265,
    "start_time": "2024-09-17T14:54:57.568Z"
   },
   {
    "duration": 9,
    "start_time": "2024-09-17T14:54:57.834Z"
   },
   {
    "duration": 243,
    "start_time": "2024-09-17T14:54:57.844Z"
   },
   {
    "duration": 9,
    "start_time": "2024-09-17T14:54:58.089Z"
   },
   {
    "duration": 398,
    "start_time": "2024-09-17T14:54:58.099Z"
   },
   {
    "duration": 9,
    "start_time": "2024-09-17T14:54:58.498Z"
   },
   {
    "duration": 348,
    "start_time": "2024-09-17T14:54:58.509Z"
   },
   {
    "duration": 61,
    "start_time": "2024-09-17T14:54:58.859Z"
   },
   {
    "duration": 16,
    "start_time": "2024-09-17T14:54:58.922Z"
   },
   {
    "duration": 313,
    "start_time": "2024-09-17T14:54:58.940Z"
   },
   {
    "duration": 15,
    "start_time": "2024-09-17T14:54:59.255Z"
   },
   {
    "duration": 27,
    "start_time": "2024-09-17T14:54:59.272Z"
   },
   {
    "duration": 21,
    "start_time": "2024-09-17T14:54:59.301Z"
   },
   {
    "duration": 163,
    "start_time": "2024-09-17T14:54:59.324Z"
   },
   {
    "duration": 10,
    "start_time": "2024-09-17T14:54:59.489Z"
   },
   {
    "duration": 21,
    "start_time": "2024-09-17T14:54:59.501Z"
   },
   {
    "duration": 7,
    "start_time": "2024-09-17T14:54:59.524Z"
   },
   {
    "duration": 10,
    "start_time": "2024-09-17T14:54:59.533Z"
   },
   {
    "duration": 1255,
    "start_time": "2024-09-17T18:29:35.992Z"
   },
   {
    "duration": 81,
    "start_time": "2024-09-17T18:29:37.249Z"
   },
   {
    "duration": 27,
    "start_time": "2024-09-17T18:29:37.331Z"
   },
   {
    "duration": 14,
    "start_time": "2024-09-17T18:29:37.360Z"
   },
   {
    "duration": 24,
    "start_time": "2024-09-17T18:29:37.376Z"
   },
   {
    "duration": 7,
    "start_time": "2024-09-17T18:29:37.402Z"
   },
   {
    "duration": 11,
    "start_time": "2024-09-17T18:29:37.410Z"
   },
   {
    "duration": 18,
    "start_time": "2024-09-17T18:29:37.423Z"
   },
   {
    "duration": 28,
    "start_time": "2024-09-17T18:29:37.442Z"
   },
   {
    "duration": 33,
    "start_time": "2024-09-17T18:29:37.473Z"
   },
   {
    "duration": 22,
    "start_time": "2024-09-17T18:29:37.507Z"
   },
   {
    "duration": 62,
    "start_time": "2024-09-17T18:29:37.531Z"
   },
   {
    "duration": 18,
    "start_time": "2024-09-17T18:29:37.595Z"
   },
   {
    "duration": 182,
    "start_time": "2024-09-17T18:29:37.614Z"
   },
   {
    "duration": 11,
    "start_time": "2024-09-17T18:29:37.798Z"
   },
   {
    "duration": 20,
    "start_time": "2024-09-17T18:29:37.810Z"
   },
   {
    "duration": 144,
    "start_time": "2024-09-17T18:29:37.832Z"
   },
   {
    "duration": 153,
    "start_time": "2024-09-17T18:29:37.978Z"
   },
   {
    "duration": 9,
    "start_time": "2024-09-17T18:29:38.134Z"
   },
   {
    "duration": 227,
    "start_time": "2024-09-17T18:29:38.145Z"
   },
   {
    "duration": 9,
    "start_time": "2024-09-17T18:29:38.374Z"
   },
   {
    "duration": 244,
    "start_time": "2024-09-17T18:29:38.385Z"
   },
   {
    "duration": 8,
    "start_time": "2024-09-17T18:29:38.631Z"
   },
   {
    "duration": 217,
    "start_time": "2024-09-17T18:29:38.640Z"
   },
   {
    "duration": 30,
    "start_time": "2024-09-17T18:29:38.859Z"
   },
   {
    "duration": 25,
    "start_time": "2024-09-17T18:29:38.890Z"
   },
   {
    "duration": 14,
    "start_time": "2024-09-17T18:29:38.917Z"
   },
   {
    "duration": 119,
    "start_time": "2024-09-17T18:29:38.934Z"
   },
   {
    "duration": 20,
    "start_time": "2024-09-17T18:29:39.055Z"
   },
   {
    "duration": 89,
    "start_time": "2024-09-17T18:29:39.077Z"
   },
   {
    "duration": 222,
    "start_time": "2024-09-17T18:29:39.167Z"
   },
   {
    "duration": 15,
    "start_time": "2024-09-17T18:29:39.390Z"
   },
   {
    "duration": 234,
    "start_time": "2024-09-17T18:29:39.407Z"
   },
   {
    "duration": 9,
    "start_time": "2024-09-17T18:29:39.642Z"
   },
   {
    "duration": 375,
    "start_time": "2024-09-17T18:29:39.652Z"
   },
   {
    "duration": 12,
    "start_time": "2024-09-17T18:29:40.029Z"
   },
   {
    "duration": 331,
    "start_time": "2024-09-17T18:29:40.043Z"
   },
   {
    "duration": 56,
    "start_time": "2024-09-17T18:29:40.375Z"
   },
   {
    "duration": 16,
    "start_time": "2024-09-17T18:29:40.432Z"
   },
   {
    "duration": 264,
    "start_time": "2024-09-17T18:29:40.449Z"
   },
   {
    "duration": 8,
    "start_time": "2024-09-17T18:29:40.715Z"
   },
   {
    "duration": 14,
    "start_time": "2024-09-17T18:29:40.724Z"
   },
   {
    "duration": 5,
    "start_time": "2024-09-17T18:29:40.740Z"
   },
   {
    "duration": 189,
    "start_time": "2024-09-17T18:29:40.747Z"
   },
   {
    "duration": 9,
    "start_time": "2024-09-17T18:29:40.938Z"
   },
   {
    "duration": 7,
    "start_time": "2024-09-17T18:29:40.948Z"
   },
   {
    "duration": 19,
    "start_time": "2024-09-17T18:29:40.957Z"
   },
   {
    "duration": 9,
    "start_time": "2024-09-17T18:29:40.977Z"
   },
   {
    "duration": 51,
    "start_time": "2024-09-17T18:43:40.234Z"
   },
   {
    "duration": 1398,
    "start_time": "2024-09-17T18:43:52.951Z"
   },
   {
    "duration": 72,
    "start_time": "2024-09-17T18:44:08.826Z"
   },
   {
    "duration": 144250,
    "start_time": "2024-09-17T18:44:19.857Z"
   },
   {
    "duration": 12,
    "start_time": "2024-09-17T18:47:36.933Z"
   },
   {
    "duration": 70,
    "start_time": "2024-09-17T18:48:17.197Z"
   },
   {
    "duration": 0,
    "start_time": "2024-09-17T18:52:20.803Z"
   },
   {
    "duration": 2436,
    "start_time": "2024-09-17T18:52:42.187Z"
   },
   {
    "duration": 6,
    "start_time": "2024-09-17T18:55:11.027Z"
   },
   {
    "duration": 5,
    "start_time": "2024-09-17T18:55:26.363Z"
   },
   {
    "duration": 6,
    "start_time": "2024-09-17T18:55:34.192Z"
   },
   {
    "duration": 0,
    "start_time": "2024-09-17T18:58:23.944Z"
   },
   {
    "duration": 129,
    "start_time": "2024-09-17T18:58:32.116Z"
   },
   {
    "duration": 138,
    "start_time": "2024-09-17T18:58:48.694Z"
   },
   {
    "duration": 2471,
    "start_time": "2024-09-17T19:02:36.612Z"
   },
   {
    "duration": 386,
    "start_time": "2024-09-17T19:05:53.739Z"
   },
   {
    "duration": 0,
    "start_time": "2024-09-17T19:09:43.201Z"
   },
   {
    "duration": 2337,
    "start_time": "2024-09-17T19:09:45.198Z"
   },
   {
    "duration": 147,
    "start_time": "2024-09-17T19:10:27.960Z"
   },
   {
    "duration": 2405,
    "start_time": "2024-09-17T19:10:41.723Z"
   },
   {
    "duration": 1824,
    "start_time": "2024-09-17T19:11:49.096Z"
   },
   {
    "duration": 2265,
    "start_time": "2024-09-17T19:12:19.350Z"
   },
   {
    "duration": 1218,
    "start_time": "2024-09-17T19:13:08.265Z"
   },
   {
    "duration": 413,
    "start_time": "2024-09-17T19:13:09.485Z"
   },
   {
    "duration": 27,
    "start_time": "2024-09-17T19:13:09.899Z"
   },
   {
    "duration": 23,
    "start_time": "2024-09-17T19:13:09.927Z"
   },
   {
    "duration": 12,
    "start_time": "2024-09-17T19:13:09.951Z"
   },
   {
    "duration": 7,
    "start_time": "2024-09-17T19:13:09.964Z"
   },
   {
    "duration": 27,
    "start_time": "2024-09-17T19:13:09.972Z"
   },
   {
    "duration": 5,
    "start_time": "2024-09-17T19:13:10.001Z"
   },
   {
    "duration": 13,
    "start_time": "2024-09-17T19:13:10.007Z"
   },
   {
    "duration": 6,
    "start_time": "2024-09-17T19:13:10.024Z"
   },
   {
    "duration": 14,
    "start_time": "2024-09-17T19:13:10.032Z"
   },
   {
    "duration": 16,
    "start_time": "2024-09-17T19:13:10.047Z"
   },
   {
    "duration": 33,
    "start_time": "2024-09-17T19:13:10.065Z"
   },
   {
    "duration": 178,
    "start_time": "2024-09-17T19:13:10.099Z"
   },
   {
    "duration": 21,
    "start_time": "2024-09-17T19:13:10.279Z"
   },
   {
    "duration": 11,
    "start_time": "2024-09-17T19:13:10.302Z"
   },
   {
    "duration": 142,
    "start_time": "2024-09-17T19:13:10.315Z"
   },
   {
    "duration": 148,
    "start_time": "2024-09-17T19:13:10.459Z"
   },
   {
    "duration": 9,
    "start_time": "2024-09-17T19:13:10.609Z"
   },
   {
    "duration": 216,
    "start_time": "2024-09-17T19:13:10.619Z"
   },
   {
    "duration": 8,
    "start_time": "2024-09-17T19:13:10.837Z"
   },
   {
    "duration": 232,
    "start_time": "2024-09-17T19:13:10.847Z"
   },
   {
    "duration": 17,
    "start_time": "2024-09-17T19:13:11.080Z"
   },
   {
    "duration": 194,
    "start_time": "2024-09-17T19:13:11.099Z"
   },
   {
    "duration": 30,
    "start_time": "2024-09-17T19:13:11.295Z"
   },
   {
    "duration": 12,
    "start_time": "2024-09-17T19:13:11.326Z"
   },
   {
    "duration": 16,
    "start_time": "2024-09-17T19:13:11.339Z"
   },
   {
    "duration": 112,
    "start_time": "2024-09-17T19:13:11.359Z"
   },
   {
    "duration": 112,
    "start_time": "2024-09-17T19:13:11.473Z"
   },
   {
    "duration": 7,
    "start_time": "2024-09-17T19:13:11.587Z"
   },
   {
    "duration": 240,
    "start_time": "2024-09-17T19:13:11.596Z"
   },
   {
    "duration": 8,
    "start_time": "2024-09-17T19:13:11.838Z"
   },
   {
    "duration": 223,
    "start_time": "2024-09-17T19:13:11.848Z"
   },
   {
    "duration": 8,
    "start_time": "2024-09-17T19:13:12.073Z"
   },
   {
    "duration": 371,
    "start_time": "2024-09-17T19:13:12.083Z"
   },
   {
    "duration": 9,
    "start_time": "2024-09-17T19:13:12.455Z"
   },
   {
    "duration": 325,
    "start_time": "2024-09-17T19:13:12.465Z"
   },
   {
    "duration": 58,
    "start_time": "2024-09-17T19:13:12.791Z"
   },
   {
    "duration": 18,
    "start_time": "2024-09-17T19:13:12.850Z"
   },
   {
    "duration": 258,
    "start_time": "2024-09-17T19:13:12.869Z"
   },
   {
    "duration": 8,
    "start_time": "2024-09-17T19:13:13.128Z"
   },
   {
    "duration": 22,
    "start_time": "2024-09-17T19:13:13.138Z"
   },
   {
    "duration": 5,
    "start_time": "2024-09-17T19:13:13.162Z"
   },
   {
    "duration": 166,
    "start_time": "2024-09-17T19:13:13.169Z"
   },
   {
    "duration": 7,
    "start_time": "2024-09-17T19:13:13.337Z"
   },
   {
    "duration": 21,
    "start_time": "2024-09-17T19:13:13.346Z"
   },
   {
    "duration": 7,
    "start_time": "2024-09-17T19:13:13.368Z"
   },
   {
    "duration": 9,
    "start_time": "2024-09-17T19:13:13.377Z"
   },
   {
    "duration": 239,
    "start_time": "2024-09-17T19:13:13.398Z"
   },
   {
    "duration": 1862,
    "start_time": "2024-09-17T19:13:57.641Z"
   },
   {
    "duration": 2333,
    "start_time": "2024-09-17T19:14:35.120Z"
   }
  ],
  "kernelspec": {
   "display_name": "Python 3 (ipykernel)",
   "language": "python",
   "name": "python3"
  },
  "language_info": {
   "codemirror_mode": {
    "name": "ipython",
    "version": 3
   },
   "file_extension": ".py",
   "mimetype": "text/x-python",
   "name": "python",
   "nbconvert_exporter": "python",
   "pygments_lexer": "ipython3",
   "version": "3.11.5"
  },
  "toc": {
   "base_numbering": 1,
   "nav_menu": {},
   "number_sections": true,
   "sideBar": true,
   "skip_h1_title": true,
   "title_cell": "Table of Contents",
   "title_sidebar": "Contents",
   "toc_cell": false,
   "toc_position": {},
   "toc_section_display": true,
   "toc_window_display": false
  }
 },
 "nbformat": 4,
 "nbformat_minor": 5
}
